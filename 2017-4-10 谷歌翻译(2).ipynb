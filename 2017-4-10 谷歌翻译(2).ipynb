{
 "cells": [
  {
   "cell_type": "code",
   "execution_count": 23,
   "metadata": {
    "collapsed": false
   },
   "outputs": [],
   "source": [
    "from translate import Translator \n",
    "translator= Translator(to_lang=\"ja\") \n",
    "# translation = translator.translate()"
   ]
  },
  {
   "cell_type": "code",
   "execution_count": 7,
   "metadata": {
    "collapsed": false
   },
   "outputs": [],
   "source": [
    "input_filename = \"../2016.5.11~Reuter/preprocessing/data/sample_removed2_en.csv\"\n",
    "l = []\n",
    "with open(input_filename) as data_file:\n",
    "    for (index,line) in enumerate(data_file):\n",
    "        l.append(line)"
   ]
  },
  {
   "cell_type": "code",
   "execution_count": 24,
   "metadata": {
    "collapsed": false
   },
   "outputs": [
    {
     "name": "stdout",
     "output_type": "stream",
     "text": [
      "中国のスマートフォンメーカー、Xiaomiは、2014年に4,000万台の携帯電話機を販売する予定で、2013年に販売した携帯電話の倍以上になると同社会長は木曜日、Apple IncとSamsung Electronics Co Ltdのより高価なサービスを売却するという野望を強化した。同社の共同設立者でもあり、中国で最も広く使われているマイクロブロギングサイトシーナ・ワイボ（Sina Weibo）に投影し、Xiaomiのウェブサイトに再掲載された。 &quot;&quot; &quot;&quot;我々は再び約束し、少なくとも40\n"
     ]
    }
   ],
   "source": [
    "a = translator.translate(l[1][:500])\n",
    "print a"
   ]
  },
  {
   "cell_type": "code",
   "execution_count": 6,
   "metadata": {
    "collapsed": false
   },
   "outputs": [
    {
     "ename": "IndentationError",
     "evalue": "expected an indented block (<ipython-input-6-e20530e8b279>, line 33)",
     "output_type": "error",
     "traceback": [
      "\u001b[0;36m  File \u001b[0;32m\"<ipython-input-6-e20530e8b279>\"\u001b[0;36m, line \u001b[0;32m33\u001b[0m\n\u001b[0;31m    print \"Finish document No.\", index\u001b[0m\n\u001b[0m        ^\u001b[0m\n\u001b[0;31mIndentationError\u001b[0m\u001b[0;31m:\u001b[0m expected an indented block\n"
     ]
    }
   ],
   "source": [
    "import time\n",
    "# from googletrans import Translator\n",
    "from translate import Translator \n",
    "import pandas as pd\n",
    "input_filename = \"../2016.5.11~Reuter/preprocessing/data/sample_removed2_en.csv\"\n",
    "output_filename = \"./data/translation2_en2jp_1000.txt\"\n",
    "text_list = []\n",
    "translate_text_list = []\n",
    "translator = Translator()\n",
    "output=open(output_filename,'w')\n",
    "with open(input_filename) as data_file:\n",
    "    for (index,line) in enumerate(data_file):\n",
    "        text_list.append(line)\n",
    "\n",
    "for index, text in enumerate(text_list):\n",
    "    try:\n",
    "#         translation = translator.translate(text[1:1798],dest=\"ja\")\n",
    "        pass\n",
    "    except Exception as e:\n",
    "        print '=== エラー内容 ==='\n",
    "        print 'type:' + str(type(e))\n",
    "        print 'args:' + str(e.args)\n",
    "        print 'message:' + e.message\n",
    "        print 'e自身:' + str(e)\n",
    "        translate_text_list.append(\"¥n\")\n",
    "        output.write(\"[Failure]\")\n",
    "\n",
    "    else:\n",
    "#         translate_text_list.append(translation.text)\n",
    "#         output.write(translation.text.encode(\"utf_8\")+\"¥n\")\n",
    "\n",
    "#     time.sleep(0.5)\n",
    "    print \"Finish document No.\", index\n",
    "    \n",
    "output.close()"
   ]
  },
  {
   "cell_type": "code",
   "execution_count": null,
   "metadata": {
    "collapsed": true
   },
   "outputs": [],
   "source": []
  }
 ],
 "metadata": {
  "kernelspec": {
   "display_name": "Python [Root]",
   "language": "python",
   "name": "Python [Root]"
  },
  "language_info": {
   "codemirror_mode": {
    "name": "ipython",
    "version": 2
   },
   "file_extension": ".py",
   "mimetype": "text/x-python",
   "name": "python",
   "nbconvert_exporter": "python",
   "pygments_lexer": "ipython2",
   "version": "2.7.12"
  }
 },
 "nbformat": 4,
 "nbformat_minor": 0
}
