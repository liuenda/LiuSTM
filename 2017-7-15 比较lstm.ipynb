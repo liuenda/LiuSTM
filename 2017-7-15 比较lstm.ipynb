{
 "cells": [
  {
   "cell_type": "code",
   "execution_count": 2,
   "metadata": {
    "collapsed": false,
    "scrolled": false
   },
   "outputs": [
    {
     "name": "stdout",
     "output_type": "stream",
     "text": [
      "maxlen 25 epoch 10 dim_lstm 200 dim_Dense 400 100\n",
      "dropout_rate 0.0\n",
      "Activation function: ['relu', 'relu']\n",
      "bias of y: -1\n",
      "loss_function: mse\n",
      "------------------------------\n",
      "('Reading english Data:', 5000)\n",
      "('Reading english Data:', 5000)\n",
      "Merging the English and Japanes news dataframe...\n",
      "Drop the null line...\n",
      "False    4995\n",
      "True        5\n",
      "Name: en_article, dtype: int64\n"
     ]
    },
    {
     "name": "stderr",
     "output_type": "stream",
     "text": [
      "keras_title.py:382: SettingWithCopyWarning: \n",
      "A value is trying to be set on a copy of a slice from a DataFrame.\n",
      "Try using .loc[row_indexer,col_indexer] = value instead\n",
      "\n",
      "See the caveats in the documentation: http://pandas.pydata.org/pandas-docs/stable/indexing.html#indexing-view-versus-copy\n",
      "  df_pairs_sample['word2vec_en'] = df_pairs_sample['en_article'].apply(doc2vec_en)\n",
      "keras_title.py:383: SettingWithCopyWarning: \n",
      "A value is trying to be set on a copy of a slice from a DataFrame.\n",
      "Try using .loc[row_indexer,col_indexer] = value instead\n",
      "\n",
      "See the caveats in the documentation: http://pandas.pydata.org/pandas-docs/stable/indexing.html#indexing-view-versus-copy\n",
      "  df_pairs_sample['word2vec_jp'] = df_pairs_sample['jp_article'].apply(doc2vec_jp)\n",
      "keras_title.py:387: SettingWithCopyWarning: \n",
      "A value is trying to be set on a copy of a slice from a DataFrame.\n",
      "Try using .loc[row_indexer,col_indexer] = value instead\n",
      "\n",
      "See the caveats in the documentation: http://pandas.pydata.org/pandas-docs/stable/indexing.html#indexing-view-versus-copy\n",
      "  df_pairs_sample['padding_en'] = df_pairs_sample['word2vec_en'].apply(padding)\n",
      "keras_title.py:388: SettingWithCopyWarning: \n",
      "A value is trying to be set on a copy of a slice from a DataFrame.\n",
      "Try using .loc[row_indexer,col_indexer] = value instead\n",
      "\n",
      "See the caveats in the documentation: http://pandas.pydata.org/pandas-docs/stable/indexing.html#indexing-view-versus-copy\n",
      "  df_pairs_sample['padding_jp'] = df_pairs_sample['word2vec_jp'].apply(padding)\n"
     ]
    },
    {
     "name": "stdout",
     "output_type": "stream",
     "text": [
      "C value = 6 position: [1016, 1395, 3123, 3385, 3988, 4322]\n"
     ]
    },
    {
     "name": "stderr",
     "output_type": "stream",
     "text": [
      "keras_title.py:468: UserWarning: Update your `Model` call to the Keras 2 API: `Model(outputs=Elemwise{a..., inputs=[/main_inp...)`\n",
      "  model_lstm2 = Model(input=[input_1, input_2], output=main_output)\n"
     ]
    },
    {
     "name": "stdout",
     "output_type": "stream",
     "text": [
      "____________________________________________________________________________________________________\n",
      "Layer (type)                     Output Shape          Param #     Connected to                     \n",
      "====================================================================================================\n",
      "main_input_1 (InputLayer)        (None, 25, 200)       0                                            \n",
      "____________________________________________________________________________________________________\n",
      "main_input_2 (InputLayer)        (None, 25, 200)       0                                            \n",
      "____________________________________________________________________________________________________\n",
      "lstm_1 (LSTM)                    (None, 200)           320800      main_input_1[0][0]               \n",
      "____________________________________________________________________________________________________\n",
      "lstm_2 (LSTM)                    (None, 200)           320800      main_input_2[0][0]               \n",
      "____________________________________________________________________________________________________\n",
      "concatenate_1 (Concatenate)      (None, 400)           0           lstm_1[0][0]                     \n",
      "                                                                   lstm_2[0][0]                     \n",
      "____________________________________________________________________________________________________\n",
      "dense_1 (Dense)                  (None, 400)           160400      concatenate_1[0][0]              \n",
      "____________________________________________________________________________________________________\n",
      "dropout_1 (Dropout)              (None, 400)           0           dense_1[0][0]                    \n",
      "____________________________________________________________________________________________________\n",
      "dense_2 (Dense)                  (None, 100)           40100       dropout_1[0][0]                  \n",
      "____________________________________________________________________________________________________\n",
      "dropout_2 (Dropout)              (None, 100)           0           dense_2[0][0]                    \n",
      "____________________________________________________________________________________________________\n",
      "main_output (Dense)              (None, 1)             101         dropout_2[0][0]                  \n",
      "====================================================================================================\n",
      "Total params: 842,201\n",
      "Trainable params: 842,201\n",
      "Non-trainable params: 0\n",
      "____________________________________________________________________________________________________\n",
      "None\n",
      "Train on 8000 samples, validate on 2000 samples\n",
      "Epoch 1/1\n",
      "8000/8000 [==============================] - 11s - loss: 0.5715 - val_loss: 0.5255\n"
     ]
    },
    {
     "name": "stderr",
     "output_type": "stream",
     "text": [
      "keras_title.py:117: UserWarning: Update your `Model` call to the Keras 2 API: `Model(outputs=[Subtensor..., inputs=[/main_inp...)`\n",
      "  model_1 = Model(input=[input_1, input_2], output=[lstm_out_1, lstm_out_2])\n",
      "keras_title.py:160: UserWarning: Update your `Model` call to the Keras 2 API: `Model(outputs=Elemwise{a..., inputs=[/lstm1, /...)`\n",
      "  model_2 = Model(input=[input_1, input_2], output=main_output)\n"
     ]
    },
    {
     "name": "stdout",
     "output_type": "stream",
     "text": [
      "TOP1 27\n",
      "TOP5 146\n",
      "TOP10 228\n",
      "Train on 8000 samples, validate on 2000 samples\n",
      "Epoch 2/2\n",
      "8000/8000 [==============================] - 11s - loss: 0.2989 - val_loss: 0.4641\n",
      "TOP1 40\n",
      "TOP5 214\n",
      "TOP10 340\n",
      "Train on 8000 samples, validate on 2000 samples\n",
      "Epoch 3/3\n",
      "8000/8000 [==============================] - 11s - loss: 0.1935 - val_loss: 0.4165\n",
      "TOP1 54\n",
      "TOP5 243\n",
      "TOP10 389\n",
      "Train on 8000 samples, validate on 2000 samples\n",
      "Epoch 4/4\n",
      "8000/8000 [==============================] - 11s - loss: 0.1312 - val_loss: 0.3791\n",
      "TOP1 49\n",
      "TOP5 266\n",
      "TOP10 406\n",
      "Train on 8000 samples, validate on 2000 samples\n",
      "Epoch 5/5\n",
      "8000/8000 [==============================] - 11s - loss: 0.0894 - val_loss: 0.3995\n",
      "TOP1 63\n",
      "TOP5 273\n",
      "TOP10 405\n",
      "Train on 8000 samples, validate on 2000 samples\n",
      "Epoch 6/6\n",
      "8000/8000 [==============================] - 11s - loss: 0.0630 - val_loss: 0.3866\n",
      "TOP1 59\n",
      "TOP5 274\n",
      "TOP10 419\n",
      "Train on 8000 samples, validate on 2000 samples\n",
      "Epoch 7/7\n",
      "8000/8000 [==============================] - 9s - loss: 0.0440 - val_loss: 0.3926\n",
      "TOP1 55\n",
      "TOP5 292\n",
      "TOP10 445\n",
      "Train on 8000 samples, validate on 2000 samples\n",
      "Epoch 8/8\n",
      "8000/8000 [==============================] - 9s - loss: 0.0352 - val_loss: 0.4098\n",
      "TOP1 53\n",
      "TOP5 283\n",
      "TOP10 436\n",
      "Train on 8000 samples, validate on 2000 samples\n",
      "Epoch 9/9\n",
      "8000/8000 [==============================] - 9s - loss: 0.0262 - val_loss: 0.4022\n",
      "TOP1 57\n",
      "TOP5 290\n",
      "TOP10 442\n",
      "Train on 8000 samples, validate on 2000 samples\n",
      "Epoch 10/10\n",
      "8000/8000 [==============================] - 9s - loss: 0.0251 - val_loss: 0.4101\n",
      "TOP1 46\n",
      "TOP5 270\n",
      "TOP10 409\n",
      "TOP1 46\n",
      "TOP5 270\n",
      "TOP10 409\n"
     ]
    }
   ],
   "source": [
    "run keras_title.py"
   ]
  },
  {
   "cell_type": "code",
   "execution_count": 3,
   "metadata": {
    "collapsed": false,
    "scrolled": false
   },
   "outputs": [
    {
     "name": "stdout",
     "output_type": "stream",
     "text": [
      "maxlen 25 epoch 10 dim_lstm 200 dim_Dense 400 100\n",
      "dropout_rate 0.0\n",
      "Activation function: ['relu', 'relu']\n",
      "bias of y: -1\n",
      "loss_function: mse\n",
      "------------------------------\n",
      "('Reading english Data:', 5000)\n",
      "('Reading english Data:', 5000)\n",
      "Merging the English and Japanes news dataframe...\n",
      "Drop the null line...\n",
      "False    4995\n",
      "True        5\n",
      "Name: en_article, dtype: int64\n"
     ]
    },
    {
     "name": "stderr",
     "output_type": "stream",
     "text": [
      "keras_title.py:382: SettingWithCopyWarning: \n",
      "A value is trying to be set on a copy of a slice from a DataFrame.\n",
      "Try using .loc[row_indexer,col_indexer] = value instead\n",
      "\n",
      "See the caveats in the documentation: http://pandas.pydata.org/pandas-docs/stable/indexing.html#indexing-view-versus-copy\n",
      "  df_pairs_sample['word2vec_en'] = df_pairs_sample['en_article'].apply(doc2vec_en)\n",
      "keras_title.py:383: SettingWithCopyWarning: \n",
      "A value is trying to be set on a copy of a slice from a DataFrame.\n",
      "Try using .loc[row_indexer,col_indexer] = value instead\n",
      "\n",
      "See the caveats in the documentation: http://pandas.pydata.org/pandas-docs/stable/indexing.html#indexing-view-versus-copy\n",
      "  df_pairs_sample['word2vec_jp'] = df_pairs_sample['jp_article'].apply(doc2vec_jp)\n",
      "keras_title.py:387: SettingWithCopyWarning: \n",
      "A value is trying to be set on a copy of a slice from a DataFrame.\n",
      "Try using .loc[row_indexer,col_indexer] = value instead\n",
      "\n",
      "See the caveats in the documentation: http://pandas.pydata.org/pandas-docs/stable/indexing.html#indexing-view-versus-copy\n",
      "  df_pairs_sample['padding_en'] = df_pairs_sample['word2vec_en'].apply(padding)\n",
      "keras_title.py:388: SettingWithCopyWarning: \n",
      "A value is trying to be set on a copy of a slice from a DataFrame.\n",
      "Try using .loc[row_indexer,col_indexer] = value instead\n",
      "\n",
      "See the caveats in the documentation: http://pandas.pydata.org/pandas-docs/stable/indexing.html#indexing-view-versus-copy\n",
      "  df_pairs_sample['padding_jp'] = df_pairs_sample['word2vec_jp'].apply(padding)\n"
     ]
    },
    {
     "name": "stdout",
     "output_type": "stream",
     "text": [
      "C value = 2 position: [3690, 3960]\n"
     ]
    },
    {
     "name": "stderr",
     "output_type": "stream",
     "text": [
      "keras_title.py:468: UserWarning: Update your `Model` call to the Keras 2 API: `Model(outputs=Elemwise{a..., inputs=[/main_inp...)`\n",
      "  model_lstm2 = Model(input=[input_1, input_2], output=main_output)\n"
     ]
    },
    {
     "name": "stdout",
     "output_type": "stream",
     "text": [
      "____________________________________________________________________________________________________\n",
      "Layer (type)                     Output Shape          Param #     Connected to                     \n",
      "====================================================================================================\n",
      "main_input_1 (InputLayer)        (None, 25, 200)       0                                            \n",
      "____________________________________________________________________________________________________\n",
      "main_input_2 (InputLayer)        (None, 25, 200)       0                                            \n",
      "____________________________________________________________________________________________________\n",
      "lstm_25 (LSTM)                   (None, 200)           320800      main_input_1[0][0]               \n",
      "____________________________________________________________________________________________________\n",
      "lstm_26 (LSTM)                   (None, 200)           320800      main_input_2[0][0]               \n",
      "____________________________________________________________________________________________________\n",
      "concatenate_13 (Concatenate)     (None, 400)           0           lstm_25[0][0]                    \n",
      "                                                                   lstm_26[0][0]                    \n",
      "____________________________________________________________________________________________________\n",
      "dense_25 (Dense)                 (None, 400)           160400      concatenate_13[0][0]             \n",
      "____________________________________________________________________________________________________\n",
      "dropout_25 (Dropout)             (None, 400)           0           dense_25[0][0]                   \n",
      "____________________________________________________________________________________________________\n",
      "dense_26 (Dense)                 (None, 100)           40100       dropout_25[0][0]                 \n",
      "____________________________________________________________________________________________________\n",
      "dropout_26 (Dropout)             (None, 100)           0           dense_26[0][0]                   \n",
      "____________________________________________________________________________________________________\n",
      "main_output (Dense)              (None, 1)             101         dropout_26[0][0]                 \n",
      "====================================================================================================\n",
      "Total params: 842,201\n",
      "Trainable params: 842,201\n",
      "Non-trainable params: 0\n",
      "____________________________________________________________________________________________________\n",
      "None\n",
      "Train on 8000 samples, validate on 2000 samples\n",
      "Epoch 1/1\n",
      "8000/8000 [==============================] - 10s - loss: 0.5793 - val_loss: 0.5179\n"
     ]
    },
    {
     "name": "stderr",
     "output_type": "stream",
     "text": [
      "keras_title.py:117: UserWarning: Update your `Model` call to the Keras 2 API: `Model(outputs=[Subtensor..., inputs=[/main_inp...)`\n",
      "  model_1 = Model(input=[input_1, input_2], output=[lstm_out_1, lstm_out_2])\n",
      "keras_title.py:160: UserWarning: Update your `Model` call to the Keras 2 API: `Model(outputs=Elemwise{a..., inputs=[/lstm1, /...)`\n",
      "  model_2 = Model(input=[input_1, input_2], output=main_output)\n"
     ]
    },
    {
     "name": "stdout",
     "output_type": "stream",
     "text": [
      "TOP1 19\n",
      "TOP5 128\n",
      "TOP10 217\n",
      "Train on 8000 samples, validate on 2000 samples\n",
      "Epoch 2/2\n",
      "8000/8000 [==============================] - 9s - loss: 0.3313 - val_loss: 0.4513\n",
      "TOP1 28\n",
      "TOP5 187\n",
      "TOP10 301\n",
      "Train on 8000 samples, validate on 2000 samples\n",
      "Epoch 3/3\n",
      "8000/8000 [==============================] - 9s - loss: 0.2011 - val_loss: 0.4378\n",
      "TOP1 45\n",
      "TOP5 222\n",
      "TOP10 362\n",
      "Train on 8000 samples, validate on 2000 samples\n",
      "Epoch 4/4\n",
      "8000/8000 [==============================] - 9s - loss: 0.1312 - val_loss: 0.4345\n",
      "TOP1 42\n",
      "TOP5 260\n",
      "TOP10 384\n",
      "Train on 8000 samples, validate on 2000 samples\n",
      "Epoch 5/5\n",
      "8000/8000 [==============================] - 9s - loss: 0.0961 - val_loss: 0.4778\n",
      "TOP1 50\n",
      "TOP5 246\n",
      "TOP10 380\n",
      "Train on 8000 samples, validate on 2000 samples\n",
      "Epoch 6/6\n",
      "8000/8000 [==============================] - 9s - loss: 0.0608 - val_loss: 0.4577\n",
      "TOP1 53\n",
      "TOP5 252\n",
      "TOP10 404\n",
      "Train on 8000 samples, validate on 2000 samples\n",
      "Epoch 7/7\n",
      "8000/8000 [==============================] - 9s - loss: 0.0438 - val_loss: 0.4167\n",
      "TOP1 58\n",
      "TOP5 252\n",
      "TOP10 404\n",
      "Train on 8000 samples, validate on 2000 samples\n",
      "Epoch 8/8\n",
      "8000/8000 [==============================] - 9s - loss: 0.0316 - val_loss: 0.4704\n",
      "TOP1 56\n",
      "TOP5 255\n",
      "TOP10 410\n",
      "Train on 8000 samples, validate on 2000 samples\n",
      "Epoch 9/9\n",
      "8000/8000 [==============================] - 9s - loss: 0.0307 - val_loss: 0.4498\n",
      "TOP1 58\n",
      "TOP5 238\n",
      "TOP10 380\n",
      "Train on 8000 samples, validate on 2000 samples\n",
      "Epoch 10/10\n",
      "8000/8000 [==============================] - 9s - loss: 0.0290 - val_loss: 0.4952\n",
      "TOP1 39\n",
      "TOP5 206\n",
      "TOP10 335\n",
      "TOP1 39\n",
      "TOP5 206\n",
      "TOP10 335\n"
     ]
    }
   ],
   "source": [
    "run keras_title.py"
   ]
  },
  {
   "cell_type": "code",
   "execution_count": 4,
   "metadata": {
    "collapsed": false,
    "scrolled": false
   },
   "outputs": [
    {
     "name": "stdout",
     "output_type": "stream",
     "text": [
      "maxlen 20 epoch 10 dim_lstm 200 dim_Dense 400 200\n",
      "dropout_rate 0.0\n",
      "Activation function: ['relu', 'relu']\n",
      "bias of y: -1\n",
      "loss_function: mse\n",
      "------------------------------\n",
      "('Reading english Data:', 5000)\n",
      "('Reading english Data:', 5000)\n",
      "Merging the English and Japanes news dataframe...\n",
      "Drop the null line...\n",
      "False    4995\n",
      "True        5\n",
      "Name: en_article, dtype: int64\n"
     ]
    },
    {
     "name": "stderr",
     "output_type": "stream",
     "text": [
      "keras_title.py:382: SettingWithCopyWarning: \n",
      "A value is trying to be set on a copy of a slice from a DataFrame.\n",
      "Try using .loc[row_indexer,col_indexer] = value instead\n",
      "\n",
      "See the caveats in the documentation: http://pandas.pydata.org/pandas-docs/stable/indexing.html#indexing-view-versus-copy\n",
      "  df_pairs_sample['word2vec_en'] = df_pairs_sample['en_article'].apply(doc2vec_en)\n",
      "keras_title.py:383: SettingWithCopyWarning: \n",
      "A value is trying to be set on a copy of a slice from a DataFrame.\n",
      "Try using .loc[row_indexer,col_indexer] = value instead\n",
      "\n",
      "See the caveats in the documentation: http://pandas.pydata.org/pandas-docs/stable/indexing.html#indexing-view-versus-copy\n",
      "  df_pairs_sample['word2vec_jp'] = df_pairs_sample['jp_article'].apply(doc2vec_jp)\n",
      "keras_title.py:387: SettingWithCopyWarning: \n",
      "A value is trying to be set on a copy of a slice from a DataFrame.\n",
      "Try using .loc[row_indexer,col_indexer] = value instead\n",
      "\n",
      "See the caveats in the documentation: http://pandas.pydata.org/pandas-docs/stable/indexing.html#indexing-view-versus-copy\n",
      "  df_pairs_sample['padding_en'] = df_pairs_sample['word2vec_en'].apply(padding)\n",
      "keras_title.py:388: SettingWithCopyWarning: \n",
      "A value is trying to be set on a copy of a slice from a DataFrame.\n",
      "Try using .loc[row_indexer,col_indexer] = value instead\n",
      "\n",
      "See the caveats in the documentation: http://pandas.pydata.org/pandas-docs/stable/indexing.html#indexing-view-versus-copy\n",
      "  df_pairs_sample['padding_jp'] = df_pairs_sample['word2vec_jp'].apply(padding)\n"
     ]
    },
    {
     "name": "stdout",
     "output_type": "stream",
     "text": [
      "C value = 6 position: [1166, 3400, 4127, 4269, 4278, 4281]\n"
     ]
    },
    {
     "name": "stderr",
     "output_type": "stream",
     "text": [
      "keras_title.py:468: UserWarning: Update your `Model` call to the Keras 2 API: `Model(outputs=Elemwise{a..., inputs=[/main_inp...)`\n",
      "  model_lstm2 = Model(input=[input_1, input_2], output=main_output)\n"
     ]
    },
    {
     "name": "stdout",
     "output_type": "stream",
     "text": [
      "____________________________________________________________________________________________________\n",
      "Layer (type)                     Output Shape          Param #     Connected to                     \n",
      "====================================================================================================\n",
      "main_input_1 (InputLayer)        (None, 20, 200)       0                                            \n",
      "____________________________________________________________________________________________________\n",
      "main_input_2 (InputLayer)        (None, 20, 200)       0                                            \n",
      "____________________________________________________________________________________________________\n",
      "lstm_49 (LSTM)                   (None, 200)           320800      main_input_1[0][0]               \n",
      "____________________________________________________________________________________________________\n",
      "lstm_50 (LSTM)                   (None, 200)           320800      main_input_2[0][0]               \n",
      "____________________________________________________________________________________________________\n",
      "concatenate_25 (Concatenate)     (None, 400)           0           lstm_49[0][0]                    \n",
      "                                                                   lstm_50[0][0]                    \n",
      "____________________________________________________________________________________________________\n",
      "dense_49 (Dense)                 (None, 400)           160400      concatenate_25[0][0]             \n",
      "____________________________________________________________________________________________________\n",
      "dropout_49 (Dropout)             (None, 400)           0           dense_49[0][0]                   \n",
      "____________________________________________________________________________________________________\n",
      "dense_50 (Dense)                 (None, 200)           80200       dropout_49[0][0]                 \n",
      "____________________________________________________________________________________________________\n",
      "dropout_50 (Dropout)             (None, 200)           0           dense_50[0][0]                   \n",
      "____________________________________________________________________________________________________\n",
      "main_output (Dense)              (None, 1)             201         dropout_50[0][0]                 \n",
      "====================================================================================================\n",
      "Total params: 882,401\n",
      "Trainable params: 882,401\n",
      "Non-trainable params: 0\n",
      "____________________________________________________________________________________________________\n",
      "None\n",
      "Train on 8000 samples, validate on 2000 samples\n",
      "Epoch 1/1\n",
      "8000/8000 [==============================] - 8s - loss: 0.5809 - val_loss: 0.4560\n"
     ]
    },
    {
     "name": "stderr",
     "output_type": "stream",
     "text": [
      "keras_title.py:117: UserWarning: Update your `Model` call to the Keras 2 API: `Model(outputs=[Subtensor..., inputs=[/main_inp...)`\n",
      "  model_1 = Model(input=[input_1, input_2], output=[lstm_out_1, lstm_out_2])\n",
      "keras_title.py:160: UserWarning: Update your `Model` call to the Keras 2 API: `Model(outputs=Elemwise{a..., inputs=[/lstm1, /...)`\n",
      "  model_2 = Model(input=[input_1, input_2], output=main_output)\n"
     ]
    },
    {
     "name": "stdout",
     "output_type": "stream",
     "text": [
      "TOP1 29\n",
      "TOP5 148\n",
      "TOP10 249\n",
      "Train on 8000 samples, validate on 2000 samples\n",
      "Epoch 2/2\n",
      "8000/8000 [==============================] - 8s - loss: 0.3177 - val_loss: 0.4658\n",
      "TOP1 39\n",
      "TOP5 196\n",
      "TOP10 308\n",
      "Train on 8000 samples, validate on 2000 samples\n",
      "Epoch 3/3\n",
      "8000/8000 [==============================] - 8s - loss: 0.1973 - val_loss: 0.3809\n",
      "TOP1 49\n",
      "TOP5 221\n",
      "TOP10 363\n",
      "Train on 8000 samples, validate on 2000 samples\n",
      "Epoch 4/4\n",
      "8000/8000 [==============================] - 8s - loss: 0.1307 - val_loss: 0.4029\n",
      "TOP1 46\n",
      "TOP5 240\n",
      "TOP10 378\n",
      "Train on 8000 samples, validate on 2000 samples\n",
      "Epoch 5/5\n",
      "8000/8000 [==============================] - 8s - loss: 0.0850 - val_loss: 0.4116\n",
      "TOP1 54\n",
      "TOP5 261\n",
      "TOP10 398\n",
      "Train on 8000 samples, validate on 2000 samples\n",
      "Epoch 6/6\n",
      "8000/8000 [==============================] - 8s - loss: 0.0564 - val_loss: 0.3853\n",
      "TOP1 61\n",
      "TOP5 275\n",
      "TOP10 449\n",
      "Train on 8000 samples, validate on 2000 samples\n",
      "Epoch 7/7\n",
      "8000/8000 [==============================] - 8s - loss: 0.0435 - val_loss: 0.3562\n",
      "TOP1 66\n",
      "TOP5 270\n",
      "TOP10 423\n",
      "Train on 8000 samples, validate on 2000 samples\n",
      "Epoch 8/8\n",
      "8000/8000 [==============================] - 8s - loss: 0.0330 - val_loss: 0.4005\n",
      "TOP1 50\n",
      "TOP5 258\n",
      "TOP10 403\n",
      "Train on 8000 samples, validate on 2000 samples\n",
      "Epoch 9/9\n",
      "8000/8000 [==============================] - 8s - loss: 0.0229 - val_loss: 0.4039\n",
      "TOP1 48\n",
      "TOP5 242\n",
      "TOP10 384\n",
      "Train on 8000 samples, validate on 2000 samples\n",
      "Epoch 10/10\n",
      "8000/8000 [==============================] - 8s - loss: 0.0216 - val_loss: 0.4271\n",
      "TOP1 32\n",
      "TOP5 234\n",
      "TOP10 401\n",
      "TOP1 32\n",
      "TOP5 234\n",
      "TOP10 401\n"
     ]
    }
   ],
   "source": [
    "run keras_title.py"
   ]
  },
  {
   "cell_type": "code",
   "execution_count": 5,
   "metadata": {
    "collapsed": false,
    "scrolled": false
   },
   "outputs": [
    {
     "name": "stdout",
     "output_type": "stream",
     "text": [
      "maxlen 20 epoch 10 dim_lstm 200 dim_Dense 400 200\n",
      "dropout_rate 0.2\n",
      "Activation function: ['relu', 'relu']\n",
      "bias of y: -1\n",
      "loss_function: mse\n",
      "------------------------------\n",
      "('Reading english Data:', 5000)\n",
      "('Reading english Data:', 5000)\n",
      "Merging the English and Japanes news dataframe...\n",
      "Drop the null line...\n",
      "False    4995\n",
      "True        5\n",
      "Name: en_article, dtype: int64\n"
     ]
    },
    {
     "name": "stderr",
     "output_type": "stream",
     "text": [
      "keras_title.py:382: SettingWithCopyWarning: \n",
      "A value is trying to be set on a copy of a slice from a DataFrame.\n",
      "Try using .loc[row_indexer,col_indexer] = value instead\n",
      "\n",
      "See the caveats in the documentation: http://pandas.pydata.org/pandas-docs/stable/indexing.html#indexing-view-versus-copy\n",
      "  df_pairs_sample['word2vec_en'] = df_pairs_sample['en_article'].apply(doc2vec_en)\n",
      "keras_title.py:383: SettingWithCopyWarning: \n",
      "A value is trying to be set on a copy of a slice from a DataFrame.\n",
      "Try using .loc[row_indexer,col_indexer] = value instead\n",
      "\n",
      "See the caveats in the documentation: http://pandas.pydata.org/pandas-docs/stable/indexing.html#indexing-view-versus-copy\n",
      "  df_pairs_sample['word2vec_jp'] = df_pairs_sample['jp_article'].apply(doc2vec_jp)\n",
      "keras_title.py:387: SettingWithCopyWarning: \n",
      "A value is trying to be set on a copy of a slice from a DataFrame.\n",
      "Try using .loc[row_indexer,col_indexer] = value instead\n",
      "\n",
      "See the caveats in the documentation: http://pandas.pydata.org/pandas-docs/stable/indexing.html#indexing-view-versus-copy\n",
      "  df_pairs_sample['padding_en'] = df_pairs_sample['word2vec_en'].apply(padding)\n",
      "keras_title.py:388: SettingWithCopyWarning: \n",
      "A value is trying to be set on a copy of a slice from a DataFrame.\n",
      "Try using .loc[row_indexer,col_indexer] = value instead\n",
      "\n",
      "See the caveats in the documentation: http://pandas.pydata.org/pandas-docs/stable/indexing.html#indexing-view-versus-copy\n",
      "  df_pairs_sample['padding_jp'] = df_pairs_sample['word2vec_jp'].apply(padding)\n"
     ]
    },
    {
     "name": "stdout",
     "output_type": "stream",
     "text": [
      "C value = 3 position: [2720, 3359, 3364]\n"
     ]
    },
    {
     "name": "stderr",
     "output_type": "stream",
     "text": [
      "keras_title.py:468: UserWarning: Update your `Model` call to the Keras 2 API: `Model(outputs=Elemwise{a..., inputs=[/main_inp...)`\n",
      "  model_lstm2 = Model(input=[input_1, input_2], output=main_output)\n"
     ]
    },
    {
     "name": "stdout",
     "output_type": "stream",
     "text": [
      "____________________________________________________________________________________________________\n",
      "Layer (type)                     Output Shape          Param #     Connected to                     \n",
      "====================================================================================================\n",
      "main_input_1 (InputLayer)        (None, 20, 200)       0                                            \n",
      "____________________________________________________________________________________________________\n",
      "main_input_2 (InputLayer)        (None, 20, 200)       0                                            \n",
      "____________________________________________________________________________________________________\n",
      "lstm_73 (LSTM)                   (None, 200)           320800      main_input_1[0][0]               \n",
      "____________________________________________________________________________________________________\n",
      "lstm_74 (LSTM)                   (None, 200)           320800      main_input_2[0][0]               \n",
      "____________________________________________________________________________________________________\n",
      "concatenate_37 (Concatenate)     (None, 400)           0           lstm_73[0][0]                    \n",
      "                                                                   lstm_74[0][0]                    \n",
      "____________________________________________________________________________________________________\n",
      "dense_73 (Dense)                 (None, 400)           160400      concatenate_37[0][0]             \n",
      "____________________________________________________________________________________________________\n",
      "dropout_73 (Dropout)             (None, 400)           0           dense_73[0][0]                   \n",
      "____________________________________________________________________________________________________\n",
      "dense_74 (Dense)                 (None, 200)           80200       dropout_73[0][0]                 \n",
      "____________________________________________________________________________________________________\n",
      "dropout_74 (Dropout)             (None, 200)           0           dense_74[0][0]                   \n",
      "____________________________________________________________________________________________________\n",
      "main_output (Dense)              (None, 1)             201         dropout_74[0][0]                 \n",
      "====================================================================================================\n",
      "Total params: 882,401\n",
      "Trainable params: 882,401\n",
      "Non-trainable params: 0\n",
      "____________________________________________________________________________________________________\n",
      "None\n",
      "Train on 8000 samples, validate on 2000 samples\n",
      "Epoch 1/1\n",
      "8000/8000 [==============================] - 9s - loss: 0.6419 - val_loss: 0.5686\n"
     ]
    },
    {
     "name": "stderr",
     "output_type": "stream",
     "text": [
      "keras_title.py:117: UserWarning: Update your `Model` call to the Keras 2 API: `Model(outputs=[Subtensor..., inputs=[/main_inp...)`\n",
      "  model_1 = Model(input=[input_1, input_2], output=[lstm_out_1, lstm_out_2])\n",
      "keras_title.py:160: UserWarning: Update your `Model` call to the Keras 2 API: `Model(outputs=Elemwise{a..., inputs=[/lstm1, /...)`\n",
      "  model_2 = Model(input=[input_1, input_2], output=main_output)\n"
     ]
    },
    {
     "name": "stdout",
     "output_type": "stream",
     "text": [
      "TOP1 33\n",
      "TOP5 123\n",
      "TOP10 216\n",
      "Train on 8000 samples, validate on 2000 samples\n",
      "Epoch 2/2\n",
      "8000/8000 [==============================] - 9s - loss: 0.3648 - val_loss: 0.4829\n",
      "TOP1 31\n",
      "TOP5 154\n",
      "TOP10 258\n",
      "Train on 8000 samples, validate on 2000 samples\n",
      "Epoch 3/3\n",
      "8000/8000 [==============================] - 9s - loss: 0.2511 - val_loss: 0.4148\n",
      "TOP1 40\n",
      "TOP5 210\n",
      "TOP10 343\n",
      "Train on 8000 samples, validate on 2000 samples\n",
      "Epoch 4/4\n",
      "8000/8000 [==============================] - 9s - loss: 0.1824 - val_loss: 0.3939\n",
      "TOP1 49\n",
      "TOP5 230\n",
      "TOP10 378\n",
      "Train on 8000 samples, validate on 2000 samples\n",
      "Epoch 5/5\n",
      "8000/8000 [==============================] - 9s - loss: 0.1370 - val_loss: 0.3971\n",
      "TOP1 55\n",
      "TOP5 225\n",
      "TOP10 368\n",
      "Train on 8000 samples, validate on 2000 samples\n",
      "Epoch 6/6\n",
      "8000/8000 [==============================] - 9s - loss: 0.0991 - val_loss: 0.4122\n",
      "TOP1 56\n",
      "TOP5 236\n",
      "TOP10 384\n",
      "Train on 8000 samples, validate on 2000 samples\n",
      "Epoch 7/7\n",
      "8000/8000 [==============================] - 9s - loss: 0.0736 - val_loss: 0.4524\n",
      "TOP1 62\n",
      "TOP5 247\n",
      "TOP10 379\n",
      "Train on 8000 samples, validate on 2000 samples\n",
      "Epoch 8/8\n",
      "8000/8000 [==============================] - 8s - loss: 0.0631 - val_loss: 0.3861\n",
      "TOP1 57\n",
      "TOP5 280\n",
      "TOP10 414\n",
      "Train on 8000 samples, validate on 2000 samples\n",
      "Epoch 9/9\n",
      "8000/8000 [==============================] - 8s - loss: 0.0561 - val_loss: 0.4294\n",
      "TOP1 52\n",
      "TOP5 262\n",
      "TOP10 394\n",
      "Train on 8000 samples, validate on 2000 samples\n",
      "Epoch 10/10\n",
      "8000/8000 [==============================] - 8s - loss: 0.0496 - val_loss: 0.5159\n",
      "TOP1 52\n",
      "TOP5 243\n",
      "TOP10 394\n",
      "TOP1 52\n",
      "TOP5 243\n",
      "TOP10 394\n"
     ]
    }
   ],
   "source": [
    "run keras_title.py"
   ]
  },
  {
   "cell_type": "code",
   "execution_count": 3,
   "metadata": {
    "collapsed": false,
    "scrolled": false
   },
   "outputs": [
    {
     "name": "stdout",
     "output_type": "stream",
     "text": [
      "maxlen 20 epoch 10 dim_lstm 200 dim_Dense 100 2\n",
      "dropout_rate 0.0\n",
      "Activation function: ['relu', 'relu']\n",
      "bias of y: -1\n",
      "loss_function: mse\n",
      "------------------------------\n",
      "('Reading english Data:', 5000)\n",
      "('Reading english Data:', 5000)\n",
      "Merging the English and Japanes news dataframe...\n",
      "Drop the null line...\n",
      "False    4995\n",
      "True        5\n",
      "Name: en_article, dtype: int64\n"
     ]
    },
    {
     "name": "stderr",
     "output_type": "stream",
     "text": [
      "keras_title.py:384: SettingWithCopyWarning: \n",
      "A value is trying to be set on a copy of a slice from a DataFrame.\n",
      "Try using .loc[row_indexer,col_indexer] = value instead\n",
      "\n",
      "See the caveats in the documentation: http://pandas.pydata.org/pandas-docs/stable/indexing.html#indexing-view-versus-copy\n",
      "  df_pairs_sample['word2vec_en'] = df_pairs_sample['en_article'].apply(doc2vec_en)\n",
      "keras_title.py:385: SettingWithCopyWarning: \n",
      "A value is trying to be set on a copy of a slice from a DataFrame.\n",
      "Try using .loc[row_indexer,col_indexer] = value instead\n",
      "\n",
      "See the caveats in the documentation: http://pandas.pydata.org/pandas-docs/stable/indexing.html#indexing-view-versus-copy\n",
      "  df_pairs_sample['word2vec_jp'] = df_pairs_sample['jp_article'].apply(doc2vec_jp)\n",
      "keras_title.py:389: SettingWithCopyWarning: \n",
      "A value is trying to be set on a copy of a slice from a DataFrame.\n",
      "Try using .loc[row_indexer,col_indexer] = value instead\n",
      "\n",
      "See the caveats in the documentation: http://pandas.pydata.org/pandas-docs/stable/indexing.html#indexing-view-versus-copy\n",
      "  df_pairs_sample['padding_en'] = df_pairs_sample['word2vec_en'].apply(padding)\n",
      "keras_title.py:390: SettingWithCopyWarning: \n",
      "A value is trying to be set on a copy of a slice from a DataFrame.\n",
      "Try using .loc[row_indexer,col_indexer] = value instead\n",
      "\n",
      "See the caveats in the documentation: http://pandas.pydata.org/pandas-docs/stable/indexing.html#indexing-view-versus-copy\n",
      "  df_pairs_sample['padding_jp'] = df_pairs_sample['word2vec_jp'].apply(padding)\n"
     ]
    },
    {
     "name": "stdout",
     "output_type": "stream",
     "text": [
      "C value = 5 position: [1001, 1034, 3397, 3678, 4933]\n"
     ]
    },
    {
     "name": "stderr",
     "output_type": "stream",
     "text": [
      "keras_title.py:470: UserWarning: Update your `Model` call to the Keras 2 API: `Model(outputs=Elemwise{a..., inputs=[/main_inp...)`\n",
      "  model_lstm2 = Model(input=[input_1, input_2], output=main_output)\n"
     ]
    },
    {
     "name": "stdout",
     "output_type": "stream",
     "text": [
      "____________________________________________________________________________________________________\n",
      "Layer (type)                     Output Shape          Param #     Connected to                     \n",
      "====================================================================================================\n",
      "main_input_1 (InputLayer)        (None, 20, 200)       0                                            \n",
      "____________________________________________________________________________________________________\n",
      "main_input_2 (InputLayer)        (None, 20, 200)       0                                            \n",
      "____________________________________________________________________________________________________\n",
      "lstm_9 (LSTM)                    (None, 200)           320800      main_input_1[0][0]               \n",
      "____________________________________________________________________________________________________\n",
      "lstm_10 (LSTM)                   (None, 200)           320800      main_input_2[0][0]               \n",
      "____________________________________________________________________________________________________\n",
      "concatenate_5 (Concatenate)      (None, 400)           0           lstm_9[0][0]                     \n",
      "                                                                   lstm_10[0][0]                    \n",
      "____________________________________________________________________________________________________\n",
      "dense_9 (Dense)                  (None, 100)           40100       concatenate_5[0][0]              \n",
      "____________________________________________________________________________________________________\n",
      "dropout_9 (Dropout)              (None, 100)           0           dense_9[0][0]                    \n",
      "____________________________________________________________________________________________________\n",
      "dense_10 (Dense)                 (None, 2)             202         dropout_9[0][0]                  \n",
      "____________________________________________________________________________________________________\n",
      "dropout_10 (Dropout)             (None, 2)             0           dense_10[0][0]                   \n",
      "____________________________________________________________________________________________________\n",
      "main_output (Dense)              (None, 1)             3           dropout_10[0][0]                 \n",
      "====================================================================================================\n",
      "Total params: 681,905\n",
      "Trainable params: 681,905\n",
      "Non-trainable params: 0\n",
      "____________________________________________________________________________________________________\n",
      "None\n",
      "Train on 8000 samples, validate on 2000 samples\n",
      "Epoch 1/1\n",
      "8000/8000 [==============================] - 8s - loss: 1.0002 - val_loss: 1.0000\n"
     ]
    },
    {
     "name": "stderr",
     "output_type": "stream",
     "text": [
      "keras_title.py:119: UserWarning: Update your `Model` call to the Keras 2 API: `Model(outputs=[Subtensor..., inputs=[/main_inp...)`\n",
      "  model_1 = Model(input=[input_1, input_2], output=[lstm_out_1, lstm_out_2])\n",
      "keras_title.py:162: UserWarning: Update your `Model` call to the Keras 2 API: `Model(outputs=Elemwise{a..., inputs=[/lstm1, /...)`\n",
      "  model_2 = Model(input=[input_1, input_2], output=main_output)\n"
     ]
    },
    {
     "name": "stdout",
     "output_type": "stream",
     "text": [
      "TOP1 0\n",
      "TOP5 0\n",
      "TOP10 0\n",
      "Train on 8000 samples, validate on 2000 samples\n",
      "Epoch 2/2\n",
      "8000/8000 [==============================] - 8s - loss: 0.9510 - val_loss: 0.9314\n",
      "TOP1 0\n",
      "TOP5 0\n",
      "TOP10 0\n",
      "Train on 8000 samples, validate on 2000 samples\n",
      "Epoch 3/3\n",
      "8000/8000 [==============================] - 8s - loss: 0.8821 - val_loss: 0.9154\n",
      "TOP1 0\n",
      "TOP5 0\n",
      "TOP10 0\n",
      "Train on 8000 samples, validate on 2000 samples\n",
      "Epoch 4/4\n",
      "8000/8000 [==============================] - 8s - loss: 0.8433 - val_loss: 0.9366\n",
      "TOP1 0\n",
      "TOP5 0\n",
      "TOP10 0\n",
      "Train on 8000 samples, validate on 2000 samples\n",
      "Epoch 5/5\n",
      "8000/8000 [==============================] - 8s - loss: 0.8167 - val_loss: 0.8575\n",
      "TOP1 0\n",
      "TOP5 0\n",
      "TOP10 0\n",
      "Train on 8000 samples, validate on 2000 samples\n",
      "Epoch 6/6\n",
      "8000/8000 [==============================] - 8s - loss: 0.6471 - val_loss: 0.6735\n",
      "TOP1 0\n",
      "TOP5 0\n",
      "TOP10 5\n",
      "Train on 8000 samples, validate on 2000 samples\n",
      "Epoch 7/7\n",
      "8000/8000 [==============================] - 8s - loss: 0.4671 - val_loss: 0.6217\n",
      "TOP1 1\n",
      "TOP5 12\n",
      "TOP10 80\n",
      "Train on 8000 samples, validate on 2000 samples\n",
      "Epoch 8/8\n",
      "8000/8000 [==============================] - 8s - loss: 0.3606 - val_loss: 0.5534\n",
      "TOP1 3\n",
      "TOP5 36\n",
      "TOP10 93\n",
      "Train on 8000 samples, validate on 2000 samples\n",
      "Epoch 9/9\n",
      "8000/8000 [==============================] - 8s - loss: 0.2886 - val_loss: 0.5871\n",
      "TOP1 2\n",
      "TOP5 44\n",
      "TOP10 97\n",
      "Train on 8000 samples, validate on 2000 samples\n",
      "Epoch 10/10\n",
      "8000/8000 [==============================] - 8s - loss: 0.2360 - val_loss: 0.5747\n",
      "TOP1 2\n",
      "TOP5 53\n",
      "TOP10 111\n",
      "TOP1 2\n",
      "TOP5 53\n",
      "TOP10 111\n"
     ]
    }
   ],
   "source": [
    "run keras_title.py"
   ]
  },
  {
   "cell_type": "code",
   "execution_count": 5,
   "metadata": {
    "collapsed": false
   },
   "outputs": [
    {
     "name": "stdout",
     "output_type": "stream",
     "text": [
      "maxlen 20 epoch 10 dim_lstm 200 dim_Dense 400 100 50\n",
      "dropout_rate 0.0\n",
      "Activation function: ['relu', 'relu', 'relu']\n",
      "bias of y: -1\n",
      "loss_function: mse\n",
      "------------------------------\n",
      "('Reading english Data:', 5000)\n",
      "('Reading english Data:', 5000)\n",
      "Merging the English and Japanes news dataframe...\n",
      "Drop the null line...\n",
      "False    4995\n",
      "True        5\n",
      "Name: en_article, dtype: int64\n"
     ]
    },
    {
     "name": "stderr",
     "output_type": "stream",
     "text": [
      "keras_title.py:390: SettingWithCopyWarning: \n",
      "A value is trying to be set on a copy of a slice from a DataFrame.\n",
      "Try using .loc[row_indexer,col_indexer] = value instead\n",
      "\n",
      "See the caveats in the documentation: http://pandas.pydata.org/pandas-docs/stable/indexing.html#indexing-view-versus-copy\n",
      "  df_pairs_sample['padding_jp'] = df_pairs_sample['word2vec_jp'].apply(padding)\n",
      "keras_title.py:391: SettingWithCopyWarning: \n",
      "A value is trying to be set on a copy of a slice from a DataFrame.\n",
      "Try using .loc[row_indexer,col_indexer] = value instead\n",
      "\n",
      "See the caveats in the documentation: http://pandas.pydata.org/pandas-docs/stable/indexing.html#indexing-view-versus-copy\n",
      "  \n",
      "keras_title.py:395: SettingWithCopyWarning: \n",
      "A value is trying to be set on a copy of a slice from a DataFrame.\n",
      "Try using .loc[row_indexer,col_indexer] = value instead\n",
      "\n",
      "See the caveats in the documentation: http://pandas.pydata.org/pandas-docs/stable/indexing.html#indexing-view-versus-copy\n",
      "  # Generate training data (similarity = 1)\n",
      "keras_title.py:396: SettingWithCopyWarning: \n",
      "A value is trying to be set on a copy of a slice from a DataFrame.\n",
      "Try using .loc[row_indexer,col_indexer] = value instead\n",
      "\n",
      "See the caveats in the documentation: http://pandas.pydata.org/pandas-docs/stable/indexing.html#indexing-view-versus-copy\n",
      "  features_en_1 = np.stack(df_pairs_sample[\"padding_en\"].values)\n"
     ]
    },
    {
     "name": "stdout",
     "output_type": "stream",
     "text": [
      "C value = 6 position: [1000, 2602, 3405, 3884, 4298, 4418]\n"
     ]
    },
    {
     "name": "stderr",
     "output_type": "stream",
     "text": [
      "keras_title.py:476: UserWarning: Update your `Model` call to the Keras 2 API: `Model(outputs=Elemwise{a..., inputs=[/main_inp...)`\n",
      "  \n"
     ]
    },
    {
     "name": "stdout",
     "output_type": "stream",
     "text": [
      "____________________________________________________________________________________________________\n",
      "Layer (type)                     Output Shape          Param #     Connected to                     \n",
      "====================================================================================================\n",
      "main_input_1 (InputLayer)        (None, 20, 200)       0                                            \n",
      "____________________________________________________________________________________________________\n",
      "main_input_2 (InputLayer)        (None, 20, 200)       0                                            \n",
      "____________________________________________________________________________________________________\n",
      "lstm_57 (LSTM)                   (None, 200)           320800      main_input_1[0][0]               \n",
      "____________________________________________________________________________________________________\n",
      "lstm_58 (LSTM)                   (None, 200)           320800      main_input_2[0][0]               \n",
      "____________________________________________________________________________________________________\n",
      "concatenate_29 (Concatenate)     (None, 400)           0           lstm_57[0][0]                    \n",
      "                                                                   lstm_58[0][0]                    \n",
      "____________________________________________________________________________________________________\n",
      "dense_69 (Dense)                 (None, 400)           160400      concatenate_29[0][0]             \n",
      "____________________________________________________________________________________________________\n",
      "dropout_69 (Dropout)             (None, 400)           0           dense_69[0][0]                   \n",
      "____________________________________________________________________________________________________\n",
      "dense_70 (Dense)                 (None, 100)           40100       dropout_69[0][0]                 \n",
      "____________________________________________________________________________________________________\n",
      "dropout_70 (Dropout)             (None, 100)           0           dense_70[0][0]                   \n",
      "____________________________________________________________________________________________________\n",
      "dense_71 (Dense)                 (None, 50)            5050        dropout_70[0][0]                 \n",
      "____________________________________________________________________________________________________\n",
      "dropout_71 (Dropout)             (None, 50)            0           dense_71[0][0]                   \n",
      "____________________________________________________________________________________________________\n",
      "main_output (Dense)              (None, 1)             51          dropout_71[0][0]                 \n",
      "====================================================================================================\n",
      "Total params: 847,201\n",
      "Trainable params: 847,201\n",
      "Non-trainable params: 0\n",
      "____________________________________________________________________________________________________\n",
      "None\n",
      "Train on 8000 samples, validate on 2000 samples\n",
      "Epoch 1/1\n",
      "8000/8000 [==============================] - 8s - loss: 0.5833 - val_loss: 0.5203\n"
     ]
    },
    {
     "name": "stderr",
     "output_type": "stream",
     "text": [
      "keras_title.py:120: UserWarning: Update your `Model` call to the Keras 2 API: `Model(outputs=[Subtensor..., inputs=[/main_inp...)`\n",
      "  \n",
      "keras_title.py:166: UserWarning: Update your `Model` call to the Keras 2 API: `Model(outputs=Elemwise{a..., inputs=[/lstm1, /...)`\n",
      "  model_2.compile(optimizer='adam', loss=loss_function)\n"
     ]
    },
    {
     "name": "stdout",
     "output_type": "stream",
     "text": [
      "TOP1 16\n",
      "TOP5 88\n",
      "TOP10 158\n",
      "Train on 8000 samples, validate on 2000 samples\n",
      "Epoch 2/2\n",
      "8000/8000 [==============================] - 8s - loss: 0.2987 - val_loss: 0.4488\n",
      "TOP1 34\n",
      "TOP5 166\n",
      "TOP10 296\n",
      "Train on 8000 samples, validate on 2000 samples\n",
      "Epoch 3/3\n",
      "8000/8000 [==============================] - 8s - loss: 0.2024 - val_loss: 0.5162\n",
      "TOP1 21\n",
      "TOP5 138\n",
      "TOP10 251\n",
      "Train on 8000 samples, validate on 2000 samples\n",
      "Epoch 4/4\n",
      "8000/8000 [==============================] - 8s - loss: 0.1461 - val_loss: 0.4118\n",
      "TOP1 28\n",
      "TOP5 163\n",
      "TOP10 292\n",
      "Train on 8000 samples, validate on 2000 samples\n",
      "Epoch 5/5\n",
      "8000/8000 [==============================] - 8s - loss: 0.1364 - val_loss: 0.4260\n",
      "TOP1 31\n",
      "TOP5 181\n",
      "TOP10 294\n",
      "Train on 8000 samples, validate on 2000 samples\n",
      "Epoch 6/6\n",
      "8000/8000 [==============================] - 8s - loss: 0.0953 - val_loss: 0.4928\n",
      "TOP1 16\n",
      "TOP5 143\n",
      "TOP10 253\n",
      "Train on 8000 samples, validate on 2000 samples\n",
      "Epoch 7/7\n",
      "8000/8000 [==============================] - 8s - loss: 0.0764 - val_loss: 0.4624\n",
      "TOP1 11\n",
      "TOP5 81\n",
      "TOP10 178\n",
      "Train on 8000 samples, validate on 2000 samples\n",
      "Epoch 8/8\n",
      "8000/8000 [==============================] - 8s - loss: 0.0651 - val_loss: 0.4738\n",
      "TOP1 19\n",
      "TOP5 155\n",
      "TOP10 275\n",
      "Train on 8000 samples, validate on 2000 samples\n",
      "Epoch 9/9\n",
      "8000/8000 [==============================] - 8s - loss: 0.0531 - val_loss: 0.5637\n",
      "TOP1 17\n",
      "TOP5 136\n",
      "TOP10 236\n",
      "Train on 8000 samples, validate on 2000 samples\n",
      "Epoch 10/10\n",
      "8000/8000 [==============================] - 8s - loss: 0.0541 - val_loss: 0.5060\n",
      "TOP1 16\n",
      "TOP5 131\n",
      "TOP10 247\n",
      "TOP1 16\n",
      "TOP5 131\n",
      "TOP10 247\n"
     ]
    }
   ],
   "source": [
    "run keras_title.py"
   ]
  },
  {
   "cell_type": "code",
   "execution_count": 7,
   "metadata": {
    "collapsed": false,
    "scrolled": false
   },
   "outputs": [
    {
     "name": "stdout",
     "output_type": "stream",
     "text": [
      "maxlen 20 epoch 10 dim_lstm 200 dim_Dense\n",
      "200\n",
      "dropout_rate 0.0\n",
      "Activation function: ['relu', 'relu', 'relu']\n",
      "bias of y: -1\n",
      "loss_function: mse\n",
      "------------------------------\n",
      "('Reading english Data:', 5000)\n",
      "('Reading english Data:', 5000)\n",
      "Merging the English and Japanes news dataframe...\n",
      "Drop the null line...\n",
      "False    4995\n",
      "True        5\n",
      "Name: en_article, dtype: int64\n"
     ]
    },
    {
     "name": "stderr",
     "output_type": "stream",
     "text": [
      "keras_title.py:391: SettingWithCopyWarning: \n",
      "A value is trying to be set on a copy of a slice from a DataFrame.\n",
      "Try using .loc[row_indexer,col_indexer] = value instead\n",
      "\n",
      "See the caveats in the documentation: http://pandas.pydata.org/pandas-docs/stable/indexing.html#indexing-view-versus-copy\n",
      "  \n",
      "keras_title.py:392: SettingWithCopyWarning: \n",
      "A value is trying to be set on a copy of a slice from a DataFrame.\n",
      "Try using .loc[row_indexer,col_indexer] = value instead\n",
      "\n",
      "See the caveats in the documentation: http://pandas.pydata.org/pandas-docs/stable/indexing.html#indexing-view-versus-copy\n",
      "  \n",
      "keras_title.py:396: SettingWithCopyWarning: \n",
      "A value is trying to be set on a copy of a slice from a DataFrame.\n",
      "Try using .loc[row_indexer,col_indexer] = value instead\n",
      "\n",
      "See the caveats in the documentation: http://pandas.pydata.org/pandas-docs/stable/indexing.html#indexing-view-versus-copy\n",
      "  features_en_1 = np.stack(df_pairs_sample[\"padding_en\"].values)\n",
      "keras_title.py:397: SettingWithCopyWarning: \n",
      "A value is trying to be set on a copy of a slice from a DataFrame.\n",
      "Try using .loc[row_indexer,col_indexer] = value instead\n",
      "\n",
      "See the caveats in the documentation: http://pandas.pydata.org/pandas-docs/stable/indexing.html#indexing-view-versus-copy\n",
      "  features_jp_1 = np.stack(df_pairs_sample[\"padding_jp\"].values)\n"
     ]
    },
    {
     "name": "stdout",
     "output_type": "stream",
     "text": [
      "C value = 3 position: [1814, 2868, 3391]\n"
     ]
    },
    {
     "name": "stderr",
     "output_type": "stream",
     "text": [
      "keras_title.py:477: UserWarning: Update your `Model` call to the Keras 2 API: `Model(outputs=Elemwise{a..., inputs=[/main_inp...)`\n",
      "  # Show the structure of the model\n"
     ]
    },
    {
     "name": "stdout",
     "output_type": "stream",
     "text": [
      "____________________________________________________________________________________________________\n",
      "Layer (type)                     Output Shape          Param #     Connected to                     \n",
      "====================================================================================================\n",
      "main_input_1 (InputLayer)        (None, 20, 200)       0                                            \n",
      "____________________________________________________________________________________________________\n",
      "main_input_2 (InputLayer)        (None, 20, 200)       0                                            \n",
      "____________________________________________________________________________________________________\n",
      "lstm_81 (LSTM)                   (None, 200)           320800      main_input_1[0][0]               \n",
      "____________________________________________________________________________________________________\n",
      "lstm_82 (LSTM)                   (None, 200)           320800      main_input_2[0][0]               \n",
      "____________________________________________________________________________________________________\n",
      "concatenate_41 (Concatenate)     (None, 400)           0           lstm_81[0][0]                    \n",
      "                                                                   lstm_82[0][0]                    \n",
      "____________________________________________________________________________________________________\n",
      "dense_105 (Dense)                (None, 200)           80200       concatenate_41[0][0]             \n",
      "____________________________________________________________________________________________________\n",
      "dropout_105 (Dropout)            (None, 200)           0           dense_105[0][0]                  \n",
      "____________________________________________________________________________________________________\n",
      "main_output (Dense)              (None, 1)             201         dropout_105[0][0]                \n",
      "====================================================================================================\n",
      "Total params: 722,001\n",
      "Trainable params: 722,001\n",
      "Non-trainable params: 0\n",
      "____________________________________________________________________________________________________\n",
      "None\n",
      "Train on 8000 samples, validate on 2000 samples\n",
      "Epoch 1/1\n",
      "8000/8000 [==============================] - 8s - loss: 0.5995 - val_loss: 0.5041\n"
     ]
    },
    {
     "name": "stderr",
     "output_type": "stream",
     "text": [
      "keras_title.py:121: UserWarning: Update your `Model` call to the Keras 2 API: `Model(outputs=[Subtensor..., inputs=[/main_inp...)`\n",
      "  # Compile the model\n",
      "keras_title.py:167: UserWarning: Update your `Model` call to the Keras 2 API: `Model(outputs=Elemwise{a..., inputs=[/lstm1, /...)`\n",
      "  else:\n"
     ]
    },
    {
     "name": "stdout",
     "output_type": "stream",
     "text": [
      "TOP1 25\n",
      "TOP5 170\n",
      "TOP10 263\n",
      "Train on 8000 samples, validate on 2000 samples\n",
      "Epoch 2/2\n",
      "8000/8000 [==============================] - 8s - loss: 0.3457 - val_loss: 0.4407\n",
      "TOP1 32\n",
      "TOP5 227\n",
      "TOP10 339\n",
      "Train on 8000 samples, validate on 2000 samples\n",
      "Epoch 3/3\n",
      "8000/8000 [==============================] - 8s - loss: 0.2577 - val_loss: 0.4061\n",
      "TOP1 52\n",
      "TOP5 256\n",
      "TOP10 415\n",
      "Train on 8000 samples, validate on 2000 samples\n",
      "Epoch 4/4\n",
      "8000/8000 [==============================] - 8s - loss: 0.1966 - val_loss: 0.4320\n",
      "TOP1 66\n",
      "TOP5 263\n",
      "TOP10 405\n",
      "Train on 8000 samples, validate on 2000 samples\n",
      "Epoch 5/5\n",
      "8000/8000 [==============================] - 8s - loss: 0.1492 - val_loss: 0.4260\n",
      "TOP1 55\n",
      "TOP5 265\n",
      "TOP10 398\n",
      "Train on 8000 samples, validate on 2000 samples\n",
      "Epoch 6/6\n",
      "8000/8000 [==============================] - 8s - loss: 0.1196 - val_loss: 0.4543\n",
      "TOP1 60\n",
      "TOP5 273\n",
      "TOP10 430\n",
      "Train on 8000 samples, validate on 2000 samples\n",
      "Epoch 7/7\n",
      "8000/8000 [==============================] - 8s - loss: 0.0895 - val_loss: 0.4247\n",
      "TOP1 58\n",
      "TOP5 301\n",
      "TOP10 460\n",
      "Train on 8000 samples, validate on 2000 samples\n",
      "Epoch 8/8\n",
      "8000/8000 [==============================] - 8s - loss: 0.0746 - val_loss: 0.4359\n",
      "TOP1 62\n",
      "TOP5 285\n",
      "TOP10 419\n",
      "Train on 8000 samples, validate on 2000 samples\n",
      "Epoch 9/9\n",
      "8000/8000 [==============================] - 8s - loss: 0.0583 - val_loss: 0.4395\n",
      "TOP1 62\n",
      "TOP5 274\n",
      "TOP10 428\n",
      "Train on 8000 samples, validate on 2000 samples\n",
      "Epoch 10/10\n",
      "8000/8000 [==============================] - 8s - loss: 0.0474 - val_loss: 0.4555\n",
      "TOP1 56\n",
      "TOP5 294\n",
      "TOP10 426\n",
      "TOP1 56\n",
      "TOP5 294\n",
      "TOP10 426\n"
     ]
    }
   ],
   "source": [
    "run keras_title.py"
   ]
  },
  {
   "cell_type": "code",
   "execution_count": 12,
   "metadata": {
    "collapsed": false,
    "scrolled": false
   },
   "outputs": [
    {
     "name": "stdout",
     "output_type": "stream",
     "text": [
      "maxlen 20 epoch 10 dim_lstm 200 dim_Dense\n",
      "200\n",
      "dropout_rate 0.0\n",
      "Activation function: ['relu', 'relu', 'relu']\n",
      "bias of y: 0\n",
      "loss_function: mse\n",
      "------------------------------\n",
      "Reading english Data: 5000\n",
      "Reading english Data: 5000\n",
      "Merging the English and Japanes news dataframe...\n",
      "Drop the null line...\n",
      "False    4995\n",
      "True        5\n",
      "Name: en_article, dtype: int64\n"
     ]
    },
    {
     "name": "stderr",
     "output_type": "stream",
     "text": [
      "keras_title.py:391: SettingWithCopyWarning: \n",
      "A value is trying to be set on a copy of a slice from a DataFrame.\n",
      "Try using .loc[row_indexer,col_indexer] = value instead\n",
      "\n",
      "See the caveats in the documentation: http://pandas.pydata.org/pandas-docs/stable/indexing.html#indexing-view-versus-copy\n",
      "  \n",
      "keras_title.py:392: SettingWithCopyWarning: \n",
      "A value is trying to be set on a copy of a slice from a DataFrame.\n",
      "Try using .loc[row_indexer,col_indexer] = value instead\n",
      "\n",
      "See the caveats in the documentation: http://pandas.pydata.org/pandas-docs/stable/indexing.html#indexing-view-versus-copy\n",
      "  \n",
      "keras_title.py:396: SettingWithCopyWarning: \n",
      "A value is trying to be set on a copy of a slice from a DataFrame.\n",
      "Try using .loc[row_indexer,col_indexer] = value instead\n",
      "\n",
      "See the caveats in the documentation: http://pandas.pydata.org/pandas-docs/stable/indexing.html#indexing-view-versus-copy\n",
      "  features_en_1 = np.stack(df_pairs_sample[\"padding_en\"].values)\n",
      "keras_title.py:397: SettingWithCopyWarning: \n",
      "A value is trying to be set on a copy of a slice from a DataFrame.\n",
      "Try using .loc[row_indexer,col_indexer] = value instead\n",
      "\n",
      "See the caveats in the documentation: http://pandas.pydata.org/pandas-docs/stable/indexing.html#indexing-view-versus-copy\n",
      "  features_jp_1 = np.stack(df_pairs_sample[\"padding_jp\"].values)\n"
     ]
    },
    {
     "name": "stdout",
     "output_type": "stream",
     "text": [
      "C value = 5 position: [240, 987, 1784, 3379, 3684]\n"
     ]
    },
    {
     "name": "stderr",
     "output_type": "stream",
     "text": [
      "keras_title.py:477: UserWarning: Update your `Model` call to the Keras 2 API: `Model(outputs=Elemwise{a..., inputs=[/main_inp...)`\n",
      "  # Show the structure of the model\n"
     ]
    },
    {
     "name": "stdout",
     "output_type": "stream",
     "text": [
      "____________________________________________________________________________________________________\n",
      "Layer (type)                     Output Shape          Param #     Connected to                     \n",
      "====================================================================================================\n",
      "main_input_1 (InputLayer)        (None, 20, 200)       0                                            \n",
      "____________________________________________________________________________________________________\n",
      "main_input_2 (InputLayer)        (None, 20, 200)       0                                            \n",
      "____________________________________________________________________________________________________\n",
      "lstm_105 (LSTM)                  (None, 200)           320800      main_input_1[0][0]               \n",
      "____________________________________________________________________________________________________\n",
      "lstm_106 (LSTM)                  (None, 200)           320800      main_input_2[0][0]               \n",
      "____________________________________________________________________________________________________\n",
      "concatenate_53 (Concatenate)     (None, 400)           0           lstm_105[0][0]                   \n",
      "                                                                   lstm_106[0][0]                   \n",
      "____________________________________________________________________________________________________\n",
      "dense_117 (Dense)                (None, 200)           80200       concatenate_53[0][0]             \n",
      "____________________________________________________________________________________________________\n",
      "dropout_117 (Dropout)            (None, 200)           0           dense_117[0][0]                  \n",
      "____________________________________________________________________________________________________\n",
      "main_output (Dense)              (None, 1)             201         dropout_117[0][0]                \n",
      "====================================================================================================\n",
      "Total params: 722,001\n",
      "Trainable params: 722,001\n",
      "Non-trainable params: 0\n",
      "____________________________________________________________________________________________________\n",
      "None\n",
      "Train on 8000 samples, validate on 2000 samples\n",
      "Epoch 1/1\n",
      "8000/8000 [==============================] - 8s - loss: 0.1562 - val_loss: 0.1455\n"
     ]
    },
    {
     "name": "stderr",
     "output_type": "stream",
     "text": [
      "keras_title.py:121: UserWarning: Update your `Model` call to the Keras 2 API: `Model(outputs=[Subtensor..., inputs=[/main_inp...)`\n",
      "  # Compile the model\n",
      "keras_title.py:167: UserWarning: Update your `Model` call to the Keras 2 API: `Model(outputs=Elemwise{a..., inputs=[/lstm1, /...)`\n",
      "  else:\n"
     ]
    },
    {
     "name": "stdout",
     "output_type": "stream",
     "text": [
      "TOP1 31\n",
      "TOP5 104\n",
      "TOP10 211\n",
      "Train on 8000 samples, validate on 2000 samples\n",
      "Epoch 2/2\n",
      "8000/8000 [==============================] - 8s - loss: 0.0853 - val_loss: 0.1241\n",
      "TOP1 37\n",
      "TOP5 211\n",
      "TOP10 330\n",
      "Train on 8000 samples, validate on 2000 samples\n",
      "Epoch 3/3\n",
      "8000/8000 [==============================] - 8s - loss: 0.0596 - val_loss: 0.1119\n",
      "TOP1 66\n",
      "TOP5 276\n",
      "TOP10 428\n",
      "Train on 8000 samples, validate on 2000 samples\n",
      "Epoch 4/4\n",
      "8000/8000 [==============================] - 8s - loss: 0.0451 - val_loss: 0.1174\n",
      "TOP1 57\n",
      "TOP5 273\n",
      "TOP10 410\n",
      "Train on 8000 samples, validate on 2000 samples\n",
      "Epoch 5/5\n",
      "8000/8000 [==============================] - 8s - loss: 0.0342 - val_loss: 0.1196\n",
      "TOP1 64\n",
      "TOP5 266\n",
      "TOP10 401\n",
      "Train on 8000 samples, validate on 2000 samples\n",
      "Epoch 6/6\n",
      "8000/8000 [==============================] - 8s - loss: 0.0273 - val_loss: 0.1127\n",
      "TOP1 72\n",
      "TOP5 279\n",
      "TOP10 407\n",
      "Train on 8000 samples, validate on 2000 samples\n",
      "Epoch 7/7\n",
      "8000/8000 [==============================] - 8s - loss: 0.0224 - val_loss: 0.1167\n",
      "TOP1 67\n",
      "TOP5 264\n",
      "TOP10 441\n",
      "Train on 8000 samples, validate on 2000 samples\n",
      "Epoch 8/8\n",
      "8000/8000 [==============================] - 8s - loss: 0.0188 - val_loss: 0.1172\n",
      "TOP1 56\n",
      "TOP5 290\n",
      "TOP10 441\n",
      "Train on 8000 samples, validate on 2000 samples\n",
      "Epoch 9/9\n",
      "8000/8000 [==============================] - 8s - loss: 0.0151 - val_loss: 0.1135\n",
      "TOP1 81\n",
      "TOP5 288\n",
      "TOP10 428\n",
      "Train on 8000 samples, validate on 2000 samples\n",
      "Epoch 10/10\n",
      "8000/8000 [==============================] - 8s - loss: 0.0123 - val_loss: 0.1074\n",
      "TOP1 73\n",
      "TOP5 308\n",
      "TOP10 438\n",
      "TOP1 73\n",
      "TOP5 308\n",
      "TOP10 438\n"
     ]
    }
   ],
   "source": [
    "run keras_title.py"
   ]
  },
  {
   "cell_type": "code",
   "execution_count": 16,
   "metadata": {
    "collapsed": false,
    "scrolled": false
   },
   "outputs": [
    {
     "name": "stdout",
     "output_type": "stream",
     "text": [
      "maxlen 20 epoch 10 dim_lstm 200 dim_Dense\n",
      "200\n",
      "dropout_rate 0.0 , LSTM type: bi-lstm\n",
      "Activation function: ['relu', 'relu', 'relu']\n",
      "bias of y: 0\n",
      "loss_function: mse\n",
      "------------------------------\n",
      "Reading english Data: 5000\n",
      "Reading english Data: 5000\n",
      "Merging the English and Japanes news dataframe...\n",
      "Drop the null line...\n",
      "False    4995\n",
      "True        5\n",
      "Name: en_article, dtype: int64\n"
     ]
    },
    {
     "name": "stderr",
     "output_type": "stream",
     "text": [
      "keras_title.py:400: SettingWithCopyWarning: \n",
      "A value is trying to be set on a copy of a slice from a DataFrame.\n",
      "Try using .loc[row_indexer,col_indexer] = value instead\n",
      "\n",
      "See the caveats in the documentation: http://pandas.pydata.org/pandas-docs/stable/indexing.html#indexing-view-versus-copy\n",
      "  features_en_0 = np.array(features_en_1)\n",
      "keras_title.py:401: SettingWithCopyWarning: \n",
      "A value is trying to be set on a copy of a slice from a DataFrame.\n",
      "Try using .loc[row_indexer,col_indexer] = value instead\n",
      "\n",
      "See the caveats in the documentation: http://pandas.pydata.org/pandas-docs/stable/indexing.html#indexing-view-versus-copy\n",
      "  np.random.shuffle((features_en_0))\n",
      "keras_title.py:405: SettingWithCopyWarning: \n",
      "A value is trying to be set on a copy of a slice from a DataFrame.\n",
      "Try using .loc[row_indexer,col_indexer] = value instead\n",
      "\n",
      "See the caveats in the documentation: http://pandas.pydata.org/pandas-docs/stable/indexing.html#indexing-view-versus-copy\n",
      "  print \"C value =\", c.sum(), \"position:\", np.where(c== True)[0].tolist()\n",
      "keras_title.py:406: SettingWithCopyWarning: \n",
      "A value is trying to be set on a copy of a slice from a DataFrame.\n",
      "Try using .loc[row_indexer,col_indexer] = value instead\n",
      "\n",
      "See the caveats in the documentation: http://pandas.pydata.org/pandas-docs/stable/indexing.html#indexing-view-versus-copy\n",
      "  \n"
     ]
    },
    {
     "name": "stdout",
     "output_type": "stream",
     "text": [
      "C value = 9 position: [895, 917, 1006, 1040, 2405, 3400, 4086, 4415, 4521]\n"
     ]
    },
    {
     "name": "stderr",
     "output_type": "stream",
     "text": [
      "keras_title.py:490: UserWarning: Update your `Model` call to the Keras 2 API: `Model(outputs=Elemwise{a..., inputs=[/main_inp...)`\n",
      "  X2_test_1,\n"
     ]
    },
    {
     "name": "stdout",
     "output_type": "stream",
     "text": [
      "____________________________________________________________________________________________________\n",
      "Layer (type)                     Output Shape          Param #     Connected to                     \n",
      "====================================================================================================\n",
      "main_input_1 (InputLayer)        (None, 20, 200)       0                                            \n",
      "____________________________________________________________________________________________________\n",
      "main_input_2 (InputLayer)        (None, 20, 200)       0                                            \n",
      "____________________________________________________________________________________________________\n",
      "bidirectional_7 (Bidirectional)  (None, 400)           641600      main_input_1[0][0]               \n",
      "____________________________________________________________________________________________________\n",
      "bidirectional_8 (Bidirectional)  (None, 400)           641600      main_input_2[0][0]               \n",
      "____________________________________________________________________________________________________\n",
      "concatenate_67 (Concatenate)     (None, 800)           0           bidirectional_7[0][0]            \n",
      "                                                                   bidirectional_8[0][0]            \n",
      "____________________________________________________________________________________________________\n",
      "dense_131 (Dense)                (None, 200)           160200      concatenate_67[0][0]             \n",
      "____________________________________________________________________________________________________\n",
      "dropout_131 (Dropout)            (None, 200)           0           dense_131[0][0]                  \n",
      "____________________________________________________________________________________________________\n",
      "main_output (Dense)              (None, 1)             201         dropout_131[0][0]                \n",
      "====================================================================================================\n",
      "Total params: 1,443,601\n",
      "Trainable params: 1,443,601\n",
      "Non-trainable params: 0\n",
      "____________________________________________________________________________________________________\n",
      "None\n",
      "Train on 8000 samples, validate on 2000 samples\n",
      "Epoch 1/1\n",
      "8000/8000 [==============================] - 16s - loss: 0.1688 - val_loss: 0.1397\n"
     ]
    },
    {
     "name": "stderr",
     "output_type": "stream",
     "text": [
      "keras_title.py:126: UserWarning: Update your `Model` call to the Keras 2 API: `Model(outputs=[Join.0, J..., inputs=[/main_inp...)`\n",
      "  # model.compile(optimizer='adam', loss='sparse_categorical_crossentropy', metrics=['accuracy'])\n",
      "keras_title.py:176: UserWarning: Update your `Model` call to the Keras 2 API: `Model(outputs=Elemwise{a..., inputs=[/lstm1, /...)`\n",
      "  # Set the weights\n"
     ]
    },
    {
     "name": "stdout",
     "output_type": "stream",
     "text": [
      "TOP1 33\n",
      "TOP5 128\n",
      "TOP10 232\n",
      "Train on 8000 samples, validate on 2000 samples\n",
      "Epoch 2/2\n",
      "8000/8000 [==============================] - 15s - loss: 0.0932 - val_loss: 0.1252\n",
      "TOP1 43\n",
      "TOP5 214\n",
      "TOP10 344\n",
      "Train on 8000 samples, validate on 2000 samples\n",
      "Epoch 3/3\n",
      "8000/8000 [==============================] - 16s - loss: 0.0654 - val_loss: 0.1213\n",
      "TOP1 51\n",
      "TOP5 243\n",
      "TOP10 371\n",
      "Train on 8000 samples, validate on 2000 samples\n",
      "Epoch 4/4\n",
      "8000/8000 [==============================] - 15s - loss: 0.0495 - val_loss: 0.1105\n",
      "TOP1 59\n",
      "TOP5 284\n",
      "TOP10 418\n",
      "Train on 8000 samples, validate on 2000 samples\n",
      "Epoch 5/5\n",
      "8000/8000 [==============================] - 15s - loss: 0.0379 - val_loss: 0.1169\n",
      "TOP1 60\n",
      "TOP5 282\n",
      "TOP10 421\n",
      "Train on 8000 samples, validate on 2000 samples\n",
      "Epoch 6/6\n",
      "8000/8000 [==============================] - 15s - loss: 0.0290 - val_loss: 0.1177\n",
      "TOP1 63\n",
      "TOP5 289\n",
      "TOP10 443\n",
      "Train on 8000 samples, validate on 2000 samples\n",
      "Epoch 7/7\n",
      "8000/8000 [==============================] - 16s - loss: 0.0240 - val_loss: 0.1150\n",
      "TOP1 70\n",
      "TOP5 301\n",
      "TOP10 451\n",
      "Train on 8000 samples, validate on 2000 samples\n",
      "Epoch 8/8\n",
      "8000/8000 [==============================] - 16s - loss: 0.0186 - val_loss: 0.1189\n",
      "TOP1 55\n",
      "TOP5 278\n",
      "TOP10 407\n",
      "Train on 8000 samples, validate on 2000 samples\n",
      "Epoch 9/9\n",
      "8000/8000 [==============================] - 16s - loss: 0.0158 - val_loss: 0.1222\n",
      "TOP1 50\n",
      "TOP5 281\n",
      "TOP10 404\n",
      "Train on 8000 samples, validate on 2000 samples\n",
      "Epoch 10/10\n",
      "8000/8000 [==============================] - 15s - loss: 0.0132 - val_loss: 0.1194\n",
      "TOP1 58\n",
      "TOP5 315\n",
      "TOP10 428\n",
      "TOP1 58\n",
      "TOP5 315\n",
      "TOP10 428\n"
     ]
    }
   ],
   "source": [
    "run keras_title.py"
   ]
  },
  {
   "cell_type": "code",
   "execution_count": 17,
   "metadata": {
    "collapsed": false,
    "scrolled": false
   },
   "outputs": [
    {
     "name": "stdout",
     "output_type": "stream",
     "text": [
      "maxlen 20 epoch 10 dim_lstm 200 dim_Dense\n",
      "200\n",
      "dropout_rate 0.0 , LSTM type: bi-lstm\n",
      "Activation function: ['relu', 'relu', 'relu']\n",
      "bias of y: -1\n",
      "loss_function: mse\n",
      "------------------------------\n",
      "Reading english Data: 5000\n",
      "Reading english Data: 5000\n",
      "Merging the English and Japanes news dataframe...\n",
      "Drop the null line...\n",
      "False    4995\n",
      "True        5\n",
      "Name: en_article, dtype: int64\n"
     ]
    },
    {
     "name": "stderr",
     "output_type": "stream",
     "text": [
      "keras_title.py:400: SettingWithCopyWarning: \n",
      "A value is trying to be set on a copy of a slice from a DataFrame.\n",
      "Try using .loc[row_indexer,col_indexer] = value instead\n",
      "\n",
      "See the caveats in the documentation: http://pandas.pydata.org/pandas-docs/stable/indexing.html#indexing-view-versus-copy\n",
      "  features_en_0 = np.array(features_en_1)\n",
      "keras_title.py:401: SettingWithCopyWarning: \n",
      "A value is trying to be set on a copy of a slice from a DataFrame.\n",
      "Try using .loc[row_indexer,col_indexer] = value instead\n",
      "\n",
      "See the caveats in the documentation: http://pandas.pydata.org/pandas-docs/stable/indexing.html#indexing-view-versus-copy\n",
      "  np.random.shuffle((features_en_0))\n",
      "keras_title.py:405: SettingWithCopyWarning: \n",
      "A value is trying to be set on a copy of a slice from a DataFrame.\n",
      "Try using .loc[row_indexer,col_indexer] = value instead\n",
      "\n",
      "See the caveats in the documentation: http://pandas.pydata.org/pandas-docs/stable/indexing.html#indexing-view-versus-copy\n",
      "  print \"C value =\", c.sum(), \"position:\", np.where(c== True)[0].tolist()\n",
      "keras_title.py:406: SettingWithCopyWarning: \n",
      "A value is trying to be set on a copy of a slice from a DataFrame.\n",
      "Try using .loc[row_indexer,col_indexer] = value instead\n",
      "\n",
      "See the caveats in the documentation: http://pandas.pydata.org/pandas-docs/stable/indexing.html#indexing-view-versus-copy\n",
      "  \n"
     ]
    },
    {
     "name": "stdout",
     "output_type": "stream",
     "text": [
      "C value = 8 position: [998, 1032, 1472, 2784, 3075, 4145, 4261, 4729]\n"
     ]
    },
    {
     "name": "stderr",
     "output_type": "stream",
     "text": [
      "keras_title.py:490: UserWarning: Update your `Model` call to the Keras 2 API: `Model(outputs=Elemwise{a..., inputs=[/main_inp...)`\n",
      "  X2_test_1,\n"
     ]
    },
    {
     "name": "stdout",
     "output_type": "stream",
     "text": [
      "____________________________________________________________________________________________________\n",
      "Layer (type)                     Output Shape          Param #     Connected to                     \n",
      "====================================================================================================\n",
      "main_input_1 (InputLayer)        (None, 20, 200)       0                                            \n",
      "____________________________________________________________________________________________________\n",
      "main_input_2 (InputLayer)        (None, 20, 200)       0                                            \n",
      "____________________________________________________________________________________________________\n",
      "bidirectional_31 (Bidirectional) (None, 400)           641600      main_input_1[0][0]               \n",
      "____________________________________________________________________________________________________\n",
      "bidirectional_32 (Bidirectional) (None, 400)           641600      main_input_2[0][0]               \n",
      "____________________________________________________________________________________________________\n",
      "concatenate_79 (Concatenate)     (None, 800)           0           bidirectional_31[0][0]           \n",
      "                                                                   bidirectional_32[0][0]           \n",
      "____________________________________________________________________________________________________\n",
      "dense_143 (Dense)                (None, 200)           160200      concatenate_79[0][0]             \n",
      "____________________________________________________________________________________________________\n",
      "dropout_143 (Dropout)            (None, 200)           0           dense_143[0][0]                  \n",
      "____________________________________________________________________________________________________\n",
      "main_output (Dense)              (None, 1)             201         dropout_143[0][0]                \n",
      "====================================================================================================\n",
      "Total params: 1,443,601\n",
      "Trainable params: 1,443,601\n",
      "Non-trainable params: 0\n",
      "____________________________________________________________________________________________________\n",
      "None\n",
      "Train on 8000 samples, validate on 2000 samples\n",
      "Epoch 1/1\n",
      "8000/8000 [==============================] - 15s - loss: 0.6317 - val_loss: 0.5577\n"
     ]
    },
    {
     "name": "stderr",
     "output_type": "stream",
     "text": [
      "keras_title.py:126: UserWarning: Update your `Model` call to the Keras 2 API: `Model(outputs=[Join.0, J..., inputs=[/main_inp...)`\n",
      "  # model.compile(optimizer='adam', loss='sparse_categorical_crossentropy', metrics=['accuracy'])\n",
      "keras_title.py:176: UserWarning: Update your `Model` call to the Keras 2 API: `Model(outputs=Elemwise{a..., inputs=[/lstm1, /...)`\n",
      "  # Set the weights\n"
     ]
    },
    {
     "name": "stdout",
     "output_type": "stream",
     "text": [
      "TOP1 21\n",
      "TOP5 116\n",
      "TOP10 178\n",
      "Train on 8000 samples, validate on 2000 samples\n",
      "Epoch 2/2\n",
      "8000/8000 [==============================] - 15s - loss: 0.3857 - val_loss: 0.4828\n",
      "TOP1 39\n",
      "TOP5 173\n",
      "TOP10 277\n",
      "Train on 8000 samples, validate on 2000 samples\n",
      "Epoch 3/3\n",
      "8000/8000 [==============================] - 15s - loss: 0.2835 - val_loss: 0.4676\n",
      "TOP1 31\n",
      "TOP5 205\n",
      "TOP10 305\n",
      "Train on 8000 samples, validate on 2000 samples\n",
      "Epoch 4/4\n",
      "8000/8000 [==============================] - 15s - loss: 0.2216 - val_loss: 0.4522\n",
      "TOP1 49\n",
      "TOP5 214\n",
      "TOP10 373\n",
      "Train on 8000 samples, validate on 2000 samples\n",
      "Epoch 5/5\n",
      "8000/8000 [==============================] - 15s - loss: 0.1732 - val_loss: 0.4369\n",
      "TOP1 55\n",
      "TOP5 259\n",
      "TOP10 393\n",
      "Train on 8000 samples, validate on 2000 samples\n",
      "Epoch 6/6\n",
      "8000/8000 [==============================] - 15s - loss: 0.1386 - val_loss: 0.4482\n",
      "TOP1 60\n",
      "TOP5 263\n",
      "TOP10 409\n",
      "Train on 8000 samples, validate on 2000 samples\n",
      "Epoch 7/7\n",
      "8000/8000 [==============================] - 15s - loss: 0.1117 - val_loss: 0.4545\n",
      "TOP1 59\n",
      "TOP5 265\n",
      "TOP10 436\n",
      "Train on 8000 samples, validate on 2000 samples\n",
      "Epoch 8/8\n",
      "8000/8000 [==============================] - 15s - loss: 0.0854 - val_loss: 0.4687\n",
      "TOP1 66\n",
      "TOP5 275\n",
      "TOP10 419\n",
      "Train on 8000 samples, validate on 2000 samples\n",
      "Epoch 9/9\n",
      "8000/8000 [==============================] - 15s - loss: 0.0676 - val_loss: 0.4800\n",
      "TOP1 57\n",
      "TOP5 250\n",
      "TOP10 407\n",
      "Train on 8000 samples, validate on 2000 samples\n",
      "Epoch 10/10\n",
      "8000/8000 [==============================] - 16s - loss: 0.0578 - val_loss: 0.4765\n",
      "TOP1 56\n",
      "TOP5 266\n",
      "TOP10 397\n",
      "TOP1 56\n",
      "TOP5 266\n",
      "TOP10 397\n"
     ]
    }
   ],
   "source": [
    "run keras_title.py"
   ]
  },
  {
   "cell_type": "code",
   "execution_count": 18,
   "metadata": {
    "collapsed": false,
    "scrolled": false
   },
   "outputs": [
    {
     "name": "stdout",
     "output_type": "stream",
     "text": [
      "maxlen 20 epoch 10 dim_lstm 200 dim_Dense\n",
      "400\n",
      "dropout_rate 0.0 , LSTM type: bi-lstm\n",
      "Activation function: ['relu', 'relu', 'relu']\n",
      "bias of y: -1\n",
      "loss_function: mse\n",
      "------------------------------\n",
      "Reading english Data: 5000\n",
      "Reading english Data: 5000\n",
      "Merging the English and Japanes news dataframe...\n",
      "Drop the null line...\n",
      "False    4995\n",
      "True        5\n",
      "Name: en_article, dtype: int64\n"
     ]
    },
    {
     "name": "stderr",
     "output_type": "stream",
     "text": [
      "keras_title.py:400: SettingWithCopyWarning: \n",
      "A value is trying to be set on a copy of a slice from a DataFrame.\n",
      "Try using .loc[row_indexer,col_indexer] = value instead\n",
      "\n",
      "See the caveats in the documentation: http://pandas.pydata.org/pandas-docs/stable/indexing.html#indexing-view-versus-copy\n",
      "  features_en_0 = np.array(features_en_1)\n",
      "keras_title.py:401: SettingWithCopyWarning: \n",
      "A value is trying to be set on a copy of a slice from a DataFrame.\n",
      "Try using .loc[row_indexer,col_indexer] = value instead\n",
      "\n",
      "See the caveats in the documentation: http://pandas.pydata.org/pandas-docs/stable/indexing.html#indexing-view-versus-copy\n",
      "  np.random.shuffle((features_en_0))\n",
      "keras_title.py:405: SettingWithCopyWarning: \n",
      "A value is trying to be set on a copy of a slice from a DataFrame.\n",
      "Try using .loc[row_indexer,col_indexer] = value instead\n",
      "\n",
      "See the caveats in the documentation: http://pandas.pydata.org/pandas-docs/stable/indexing.html#indexing-view-versus-copy\n",
      "  print \"C value =\", c.sum(), \"position:\", np.where(c== True)[0].tolist()\n",
      "keras_title.py:406: SettingWithCopyWarning: \n",
      "A value is trying to be set on a copy of a slice from a DataFrame.\n",
      "Try using .loc[row_indexer,col_indexer] = value instead\n",
      "\n",
      "See the caveats in the documentation: http://pandas.pydata.org/pandas-docs/stable/indexing.html#indexing-view-versus-copy\n",
      "  \n"
     ]
    },
    {
     "name": "stdout",
     "output_type": "stream",
     "text": [
      "C value = 8 position: [1034, 2038, 2235, 3361, 4063, 4064, 4323, 4324]\n"
     ]
    },
    {
     "name": "stderr",
     "output_type": "stream",
     "text": [
      "keras_title.py:490: UserWarning: Update your `Model` call to the Keras 2 API: `Model(outputs=Elemwise{a..., inputs=[/main_inp...)`\n",
      "  X2_test_1,\n"
     ]
    },
    {
     "name": "stdout",
     "output_type": "stream",
     "text": [
      "____________________________________________________________________________________________________\n",
      "Layer (type)                     Output Shape          Param #     Connected to                     \n",
      "====================================================================================================\n",
      "main_input_1 (InputLayer)        (None, 20, 200)       0                                            \n",
      "____________________________________________________________________________________________________\n",
      "main_input_2 (InputLayer)        (None, 20, 200)       0                                            \n",
      "____________________________________________________________________________________________________\n",
      "bidirectional_55 (Bidirectional) (None, 400)           641600      main_input_1[0][0]               \n",
      "____________________________________________________________________________________________________\n",
      "bidirectional_56 (Bidirectional) (None, 400)           641600      main_input_2[0][0]               \n",
      "____________________________________________________________________________________________________\n",
      "concatenate_91 (Concatenate)     (None, 800)           0           bidirectional_55[0][0]           \n",
      "                                                                   bidirectional_56[0][0]           \n",
      "____________________________________________________________________________________________________\n",
      "dense_155 (Dense)                (None, 400)           320400      concatenate_91[0][0]             \n",
      "____________________________________________________________________________________________________\n",
      "dropout_155 (Dropout)            (None, 400)           0           dense_155[0][0]                  \n",
      "____________________________________________________________________________________________________\n",
      "main_output (Dense)              (None, 1)             401         dropout_155[0][0]                \n",
      "====================================================================================================\n",
      "Total params: 1,604,001\n",
      "Trainable params: 1,604,001\n",
      "Non-trainable params: 0\n",
      "____________________________________________________________________________________________________\n",
      "None\n",
      "Train on 8000 samples, validate on 2000 samples\n",
      "Epoch 1/1\n",
      "8000/8000 [==============================] - 15s - loss: 0.6102 - val_loss: 0.5058\n"
     ]
    },
    {
     "name": "stderr",
     "output_type": "stream",
     "text": [
      "keras_title.py:126: UserWarning: Update your `Model` call to the Keras 2 API: `Model(outputs=[Join.0, J..., inputs=[/main_inp...)`\n",
      "  # model.compile(optimizer='adam', loss='sparse_categorical_crossentropy', metrics=['accuracy'])\n",
      "keras_title.py:176: UserWarning: Update your `Model` call to the Keras 2 API: `Model(outputs=Elemwise{a..., inputs=[/lstm1, /...)`\n",
      "  # Set the weights\n"
     ]
    },
    {
     "name": "stdout",
     "output_type": "stream",
     "text": [
      "TOP1 15\n",
      "TOP5 97\n",
      "TOP10 193\n",
      "Train on 8000 samples, validate on 2000 samples\n",
      "Epoch 2/2\n",
      "8000/8000 [==============================] - 15s - loss: 0.3683 - val_loss: 0.4668\n",
      "TOP1 32\n",
      "TOP5 177\n",
      "TOP10 277\n",
      "Train on 8000 samples, validate on 2000 samples\n",
      "Epoch 3/3\n",
      "8000/8000 [==============================] - 16s - loss: 0.2735 - val_loss: 0.4474\n",
      "TOP1 46\n",
      "TOP5 226\n",
      "TOP10 366\n",
      "Train on 8000 samples, validate on 2000 samples\n",
      "Epoch 4/4\n",
      "8000/8000 [==============================] - 16s - loss: 0.2105 - val_loss: 0.4471\n",
      "TOP1 48\n",
      "TOP5 245\n",
      "TOP10 389\n",
      "Train on 8000 samples, validate on 2000 samples\n",
      "Epoch 5/5\n",
      "8000/8000 [==============================] - 15s - loss: 0.1661 - val_loss: 0.4370\n",
      "TOP1 42\n",
      "TOP5 248\n",
      "TOP10 393\n",
      "Train on 8000 samples, validate on 2000 samples\n",
      "Epoch 6/6\n",
      "8000/8000 [==============================] - 16s - loss: 0.1325 - val_loss: 0.4362\n",
      "TOP1 69\n",
      "TOP5 291\n",
      "TOP10 429\n",
      "Train on 8000 samples, validate on 2000 samples\n",
      "Epoch 7/7\n",
      "8000/8000 [==============================] - 15s - loss: 0.1009 - val_loss: 0.4726\n",
      "TOP1 47\n",
      "TOP5 278\n",
      "TOP10 403\n",
      "Train on 8000 samples, validate on 2000 samples\n",
      "Epoch 8/8\n",
      "8000/8000 [==============================] - 15s - loss: 0.0853 - val_loss: 0.4782\n",
      "TOP1 61\n",
      "TOP5 289\n",
      "TOP10 419\n",
      "Train on 8000 samples, validate on 2000 samples\n",
      "Epoch 9/9\n",
      "8000/8000 [==============================] - 16s - loss: 0.0675 - val_loss: 0.4438\n",
      "TOP1 49\n",
      "TOP5 284\n",
      "TOP10 429\n",
      "Train on 8000 samples, validate on 2000 samples\n",
      "Epoch 10/10\n",
      "8000/8000 [==============================] - 16s - loss: 0.0532 - val_loss: 0.4536\n",
      "TOP1 56\n",
      "TOP5 285\n",
      "TOP10 430\n",
      "TOP1 56\n",
      "TOP5 285\n",
      "TOP10 430\n"
     ]
    }
   ],
   "source": [
    "run keras_title.py"
   ]
  },
  {
   "cell_type": "code",
   "execution_count": 19,
   "metadata": {
    "collapsed": false
   },
   "outputs": [
    {
     "name": "stdout",
     "output_type": "stream",
     "text": [
      "maxlen 20 epoch 10 dim_lstm 200 dim_Dense\n",
      "50\n",
      "dropout_rate 0.0 , LSTM type: bi-lstm\n",
      "Activation function: ['relu', 'relu', 'relu']\n",
      "bias of y: -1\n",
      "loss_function: mse\n",
      "------------------------------\n",
      "Reading english Data: 5000\n",
      "Reading english Data: 5000\n",
      "Merging the English and Japanes news dataframe...\n",
      "Drop the null line...\n",
      "False    4995\n",
      "True        5\n",
      "Name: en_article, dtype: int64\n"
     ]
    },
    {
     "name": "stderr",
     "output_type": "stream",
     "text": [
      "keras_title.py:400: SettingWithCopyWarning: \n",
      "A value is trying to be set on a copy of a slice from a DataFrame.\n",
      "Try using .loc[row_indexer,col_indexer] = value instead\n",
      "\n",
      "See the caveats in the documentation: http://pandas.pydata.org/pandas-docs/stable/indexing.html#indexing-view-versus-copy\n",
      "  features_en_0 = np.array(features_en_1)\n",
      "keras_title.py:401: SettingWithCopyWarning: \n",
      "A value is trying to be set on a copy of a slice from a DataFrame.\n",
      "Try using .loc[row_indexer,col_indexer] = value instead\n",
      "\n",
      "See the caveats in the documentation: http://pandas.pydata.org/pandas-docs/stable/indexing.html#indexing-view-versus-copy\n",
      "  np.random.shuffle((features_en_0))\n",
      "keras_title.py:405: SettingWithCopyWarning: \n",
      "A value is trying to be set on a copy of a slice from a DataFrame.\n",
      "Try using .loc[row_indexer,col_indexer] = value instead\n",
      "\n",
      "See the caveats in the documentation: http://pandas.pydata.org/pandas-docs/stable/indexing.html#indexing-view-versus-copy\n",
      "  print \"C value =\", c.sum(), \"position:\", np.where(c== True)[0].tolist()\n",
      "keras_title.py:406: SettingWithCopyWarning: \n",
      "A value is trying to be set on a copy of a slice from a DataFrame.\n",
      "Try using .loc[row_indexer,col_indexer] = value instead\n",
      "\n",
      "See the caveats in the documentation: http://pandas.pydata.org/pandas-docs/stable/indexing.html#indexing-view-versus-copy\n",
      "  \n"
     ]
    },
    {
     "name": "stdout",
     "output_type": "stream",
     "text": [
      "C value = 8 position: [1467, 1964, 2967, 3305, 3437, 4289, 4321, 4473]\n"
     ]
    },
    {
     "name": "stderr",
     "output_type": "stream",
     "text": [
      "keras_title.py:490: UserWarning: Update your `Model` call to the Keras 2 API: `Model(outputs=Elemwise{a..., inputs=[/main_inp...)`\n",
      "  X2_test_1,\n"
     ]
    },
    {
     "name": "stdout",
     "output_type": "stream",
     "text": [
      "____________________________________________________________________________________________________\n",
      "Layer (type)                     Output Shape          Param #     Connected to                     \n",
      "====================================================================================================\n",
      "main_input_1 (InputLayer)        (None, 20, 200)       0                                            \n",
      "____________________________________________________________________________________________________\n",
      "main_input_2 (InputLayer)        (None, 20, 200)       0                                            \n",
      "____________________________________________________________________________________________________\n",
      "bidirectional_79 (Bidirectional) (None, 400)           641600      main_input_1[0][0]               \n",
      "____________________________________________________________________________________________________\n",
      "bidirectional_80 (Bidirectional) (None, 400)           641600      main_input_2[0][0]               \n",
      "____________________________________________________________________________________________________\n",
      "concatenate_103 (Concatenate)    (None, 800)           0           bidirectional_79[0][0]           \n",
      "                                                                   bidirectional_80[0][0]           \n",
      "____________________________________________________________________________________________________\n",
      "dense_167 (Dense)                (None, 50)            40050       concatenate_103[0][0]            \n",
      "____________________________________________________________________________________________________\n",
      "dropout_167 (Dropout)            (None, 50)            0           dense_167[0][0]                  \n",
      "____________________________________________________________________________________________________\n",
      "main_output (Dense)              (None, 1)             51          dropout_167[0][0]                \n",
      "====================================================================================================\n",
      "Total params: 1,323,301\n",
      "Trainable params: 1,323,301\n",
      "Non-trainable params: 0\n",
      "____________________________________________________________________________________________________\n",
      "None\n",
      "Train on 8000 samples, validate on 2000 samples\n",
      "Epoch 1/1\n",
      "8000/8000 [==============================] - 16s - loss: 0.6442 - val_loss: 0.5652\n"
     ]
    },
    {
     "name": "stderr",
     "output_type": "stream",
     "text": [
      "keras_title.py:126: UserWarning: Update your `Model` call to the Keras 2 API: `Model(outputs=[Join.0, J..., inputs=[/main_inp...)`\n",
      "  # model.compile(optimizer='adam', loss='sparse_categorical_crossentropy', metrics=['accuracy'])\n",
      "keras_title.py:176: UserWarning: Update your `Model` call to the Keras 2 API: `Model(outputs=Elemwise{a..., inputs=[/lstm1, /...)`\n",
      "  # Set the weights\n"
     ]
    },
    {
     "name": "stdout",
     "output_type": "stream",
     "text": [
      "TOP1 18\n",
      "TOP5 90\n",
      "TOP10 149\n",
      "Train on 8000 samples, validate on 2000 samples\n",
      "Epoch 2/2\n",
      "8000/8000 [==============================] - 15s - loss: 0.4096 - val_loss: 0.4864\n",
      "TOP1 25\n",
      "TOP5 150\n",
      "TOP10 229\n",
      "Train on 8000 samples, validate on 2000 samples\n",
      "Epoch 3/3\n",
      "8000/8000 [==============================] - 15s - loss: 0.3255 - val_loss: 0.4862\n",
      "TOP1 39\n",
      "TOP5 193\n",
      "TOP10 287\n",
      "Train on 8000 samples, validate on 2000 samples\n",
      "Epoch 4/4\n",
      "8000/8000 [==============================] - 15s - loss: 0.2525 - val_loss: 0.4789\n",
      "TOP1 44\n",
      "TOP5 190\n",
      "TOP10 314\n",
      "Train on 8000 samples, validate on 2000 samples\n",
      "Epoch 5/5\n",
      "8000/8000 [==============================] - 15s - loss: 0.2021 - val_loss: 0.4413\n",
      "TOP1 49\n",
      "TOP5 220\n",
      "TOP10 327\n",
      "Train on 8000 samples, validate on 2000 samples\n",
      "Epoch 6/6\n",
      "8000/8000 [==============================] - 15s - loss: 0.1604 - val_loss: 0.4747\n",
      "TOP1 42\n",
      "TOP5 212\n",
      "TOP10 338\n",
      "Train on 8000 samples, validate on 2000 samples\n",
      "Epoch 7/7\n",
      "8000/8000 [==============================] - 16s - loss: 0.1316 - val_loss: 0.4990\n",
      "TOP1 43\n",
      "TOP5 210\n",
      "TOP10 326\n",
      "Train on 8000 samples, validate on 2000 samples\n",
      "Epoch 8/8\n",
      "8000/8000 [==============================] - 16s - loss: 0.1040 - val_loss: 0.5378\n",
      "TOP1 42\n",
      "TOP5 198\n",
      "TOP10 329\n",
      "Train on 8000 samples, validate on 2000 samples\n",
      "Epoch 9/9\n",
      "8000/8000 [==============================] - 15s - loss: 0.0828 - val_loss: 0.5426\n",
      "TOP1 46\n",
      "TOP5 204\n",
      "TOP10 312\n",
      "Train on 8000 samples, validate on 2000 samples\n",
      "Epoch 10/10\n",
      "8000/8000 [==============================] - 16s - loss: 0.0690 - val_loss: 0.5692\n",
      "TOP1 46\n",
      "TOP5 207\n",
      "TOP10 325\n",
      "TOP1 46\n",
      "TOP5 207\n",
      "TOP10 325\n"
     ]
    }
   ],
   "source": [
    "run keras_title.py"
   ]
  },
  {
   "cell_type": "code",
   "execution_count": 20,
   "metadata": {
    "collapsed": false
   },
   "outputs": [
    {
     "name": "stdout",
     "output_type": "stream",
     "text": [
      "maxlen 30 epoch 10 dim_lstm 200\n",
      "dim_Dense 600\n",
      "dropout_rate 0.0 , LSTM type: bi-lstm\n",
      "Activation function: ['relu', 'relu', 'relu']\n",
      "bias of y: -1\n",
      "loss_function: mse\n",
      "------------------------------\n",
      "Reading english Data: 5000\n",
      "Reading english Data: 5000\n",
      "Merging the English and Japanes news dataframe...\n",
      "Drop the null line...\n",
      "False    4995\n",
      "True        5\n",
      "Name: en_article, dtype: int64\n"
     ]
    },
    {
     "name": "stderr",
     "output_type": "stream",
     "text": [
      "keras_title.py:400: SettingWithCopyWarning: \n",
      "A value is trying to be set on a copy of a slice from a DataFrame.\n",
      "Try using .loc[row_indexer,col_indexer] = value instead\n",
      "\n",
      "See the caveats in the documentation: http://pandas.pydata.org/pandas-docs/stable/indexing.html#indexing-view-versus-copy\n",
      "  features_en_0 = np.array(features_en_1)\n",
      "keras_title.py:401: SettingWithCopyWarning: \n",
      "A value is trying to be set on a copy of a slice from a DataFrame.\n",
      "Try using .loc[row_indexer,col_indexer] = value instead\n",
      "\n",
      "See the caveats in the documentation: http://pandas.pydata.org/pandas-docs/stable/indexing.html#indexing-view-versus-copy\n",
      "  np.random.shuffle((features_en_0))\n",
      "keras_title.py:405: SettingWithCopyWarning: \n",
      "A value is trying to be set on a copy of a slice from a DataFrame.\n",
      "Try using .loc[row_indexer,col_indexer] = value instead\n",
      "\n",
      "See the caveats in the documentation: http://pandas.pydata.org/pandas-docs/stable/indexing.html#indexing-view-versus-copy\n",
      "  print \"C value =\", c.sum(), \"position:\", np.where(c== True)[0].tolist()\n",
      "keras_title.py:406: SettingWithCopyWarning: \n",
      "A value is trying to be set on a copy of a slice from a DataFrame.\n",
      "Try using .loc[row_indexer,col_indexer] = value instead\n",
      "\n",
      "See the caveats in the documentation: http://pandas.pydata.org/pandas-docs/stable/indexing.html#indexing-view-versus-copy\n",
      "  \n"
     ]
    },
    {
     "name": "stdout",
     "output_type": "stream",
     "text": [
      "C value = 6 position: [381, 399, 998, 1009, 2224, 4312]\n"
     ]
    },
    {
     "name": "stderr",
     "output_type": "stream",
     "text": [
      "keras_title.py:490: UserWarning: Update your `Model` call to the Keras 2 API: `Model(outputs=Elemwise{a..., inputs=[/main_inp...)`\n",
      "  X2_test_1,\n"
     ]
    },
    {
     "name": "stdout",
     "output_type": "stream",
     "text": [
      "____________________________________________________________________________________________________\n",
      "Layer (type)                     Output Shape          Param #     Connected to                     \n",
      "====================================================================================================\n",
      "main_input_1 (InputLayer)        (None, 30, 200)       0                                            \n",
      "____________________________________________________________________________________________________\n",
      "main_input_2 (InputLayer)        (None, 30, 200)       0                                            \n",
      "____________________________________________________________________________________________________\n",
      "bidirectional_103 (Bidirectional (None, 400)           641600      main_input_1[0][0]               \n",
      "____________________________________________________________________________________________________\n",
      "bidirectional_104 (Bidirectional (None, 400)           641600      main_input_2[0][0]               \n",
      "____________________________________________________________________________________________________\n",
      "concatenate_115 (Concatenate)    (None, 800)           0           bidirectional_103[0][0]          \n",
      "                                                                   bidirectional_104[0][0]          \n",
      "____________________________________________________________________________________________________\n",
      "dense_179 (Dense)                (None, 600)           480600      concatenate_115[0][0]            \n",
      "____________________________________________________________________________________________________\n",
      "dropout_179 (Dropout)            (None, 600)           0           dense_179[0][0]                  \n",
      "____________________________________________________________________________________________________\n",
      "main_output (Dense)              (None, 1)             601         dropout_179[0][0]                \n",
      "====================================================================================================\n",
      "Total params: 1,764,401\n",
      "Trainable params: 1,764,401\n",
      "Non-trainable params: 0\n",
      "____________________________________________________________________________________________________\n",
      "None\n",
      "Train on 8000 samples, validate on 2000 samples\n",
      "Epoch 1/1\n",
      "8000/8000 [==============================] - 23s - loss: 0.5860 - val_loss: 0.5060\n"
     ]
    },
    {
     "name": "stderr",
     "output_type": "stream",
     "text": [
      "keras_title.py:126: UserWarning: Update your `Model` call to the Keras 2 API: `Model(outputs=[Join.0, J..., inputs=[/main_inp...)`\n",
      "  # model.compile(optimizer='adam', loss='sparse_categorical_crossentropy', metrics=['accuracy'])\n",
      "keras_title.py:176: UserWarning: Update your `Model` call to the Keras 2 API: `Model(outputs=Elemwise{a..., inputs=[/lstm1, /...)`\n",
      "  # Set the weights\n"
     ]
    },
    {
     "name": "stdout",
     "output_type": "stream",
     "text": [
      "TOP1 23\n",
      "TOP5 154\n",
      "TOP10 249\n",
      "Train on 8000 samples, validate on 2000 samples\n",
      "Epoch 2/2\n",
      "8000/8000 [==============================] - 23s - loss: 0.3513 - val_loss: 0.4845\n",
      "TOP1 41\n",
      "TOP5 191\n",
      "TOP10 300\n",
      "Train on 8000 samples, validate on 2000 samples\n",
      "Epoch 3/3\n",
      "8000/8000 [==============================] - 23s - loss: 0.2618 - val_loss: 0.4195\n",
      "TOP1 49\n",
      "TOP5 252\n",
      "TOP10 407\n",
      "Train on 8000 samples, validate on 2000 samples\n",
      "Epoch 4/4\n",
      "8000/8000 [==============================] - 23s - loss: 0.1988 - val_loss: 0.4380\n",
      "TOP1 53\n",
      "TOP5 236\n",
      "TOP10 391\n",
      "Train on 8000 samples, validate on 2000 samples\n",
      "Epoch 5/5\n",
      "8000/8000 [==============================] - 23s - loss: 0.1539 - val_loss: 0.4070\n",
      "TOP1 57\n",
      "TOP5 264\n",
      "TOP10 411\n",
      "Train on 8000 samples, validate on 2000 samples\n",
      "Epoch 6/6\n",
      "8000/8000 [==============================] - 23s - loss: 0.1228 - val_loss: 0.4035\n",
      "TOP1 61\n",
      "TOP5 266\n",
      "TOP10 416\n",
      "Train on 8000 samples, validate on 2000 samples\n",
      "Epoch 7/7\n",
      "8000/8000 [==============================] - 23s - loss: 0.1007 - val_loss: 0.4350\n",
      "TOP1 54\n",
      "TOP5 242\n",
      "TOP10 388\n",
      "Train on 8000 samples, validate on 2000 samples\n",
      "Epoch 8/8\n",
      "8000/8000 [==============================] - 23s - loss: 0.0789 - val_loss: 0.4085\n",
      "TOP1 60\n",
      "TOP5 282\n",
      "TOP10 443\n",
      "Train on 8000 samples, validate on 2000 samples\n",
      "Epoch 9/9\n",
      "8000/8000 [==============================] - 23s - loss: 0.0671 - val_loss: 0.4060\n",
      "TOP1 60\n",
      "TOP5 301\n",
      "TOP10 469\n",
      "Train on 8000 samples, validate on 2000 samples\n",
      "Epoch 10/10\n",
      "8000/8000 [==============================] - 23s - loss: 0.0528 - val_loss: 0.4508\n",
      "TOP1 65\n",
      "TOP5 277\n",
      "TOP10 435\n",
      "TOP1 65\n",
      "TOP5 277\n",
      "TOP10 435\n"
     ]
    }
   ],
   "source": [
    "run keras_title.py"
   ]
  },
  {
   "cell_type": "code",
   "execution_count": 21,
   "metadata": {
    "collapsed": false,
    "scrolled": false
   },
   "outputs": [
    {
     "name": "stdout",
     "output_type": "stream",
     "text": [
      "maxlen 30 epoch 10 dim_lstm 200\n",
      "dim_Dense 600\n",
      "dropout_rate 0.0 , LSTM type: bi-lstm\n",
      "Activation function: ['relu', 'relu', 'relu']\n",
      "bias of y: 0\n",
      "loss_function: mse\n",
      "start: 0 end:\n",
      "------------------------------\n",
      "Reading english Data: 59999\n",
      "Reading english Data: 59999\n",
      "Merging the English and Japanes news dataframe...\n",
      "Drop the null line...\n",
      "False    59987\n",
      "True        12\n",
      "Name: en_article, dtype: int64\n"
     ]
    },
    {
     "name": "stderr",
     "output_type": "stream",
     "text": [
      "keras_title.py:403: SettingWithCopyWarning: \n",
      "A value is trying to be set on a copy of a slice from a DataFrame.\n",
      "Try using .loc[row_indexer,col_indexer] = value instead\n",
      "\n",
      "See the caveats in the documentation: http://pandas.pydata.org/pandas-docs/stable/indexing.html#indexing-view-versus-copy\n",
      "  # check the duplicated amount\n",
      "keras_title.py:404: SettingWithCopyWarning: \n",
      "A value is trying to be set on a copy of a slice from a DataFrame.\n",
      "Try using .loc[row_indexer,col_indexer] = value instead\n",
      "\n",
      "See the caveats in the documentation: http://pandas.pydata.org/pandas-docs/stable/indexing.html#indexing-view-versus-copy\n",
      "  c = np.all(features_en_1 == features_en_0, axis=(1,2))\n",
      "keras_title.py:408: SettingWithCopyWarning: \n",
      "A value is trying to be set on a copy of a slice from a DataFrame.\n",
      "Try using .loc[row_indexer,col_indexer] = value instead\n",
      "\n",
      "See the caveats in the documentation: http://pandas.pydata.org/pandas-docs/stable/indexing.html#indexing-view-versus-copy\n",
      "  X_1 = np.concatenate((features_en_1, features_en_0), axis = 0)\n",
      "keras_title.py:409: SettingWithCopyWarning: \n",
      "A value is trying to be set on a copy of a slice from a DataFrame.\n",
      "Try using .loc[row_indexer,col_indexer] = value instead\n",
      "\n",
      "See the caveats in the documentation: http://pandas.pydata.org/pandas-docs/stable/indexing.html#indexing-view-versus-copy\n",
      "  X_2 = np.concatenate((features_jp_1, features_jp_1), axis = 0)\n"
     ]
    },
    {
     "name": "stdout",
     "output_type": "stream",
     "text": [
      "C value = 4 position: [1011, 1572, 3377, 4371]\n"
     ]
    },
    {
     "name": "stderr",
     "output_type": "stream",
     "text": [
      "keras_title.py:493: UserWarning: Update your `Model` call to the Keras 2 API: `Model(outputs=Elemwise{a..., inputs=[/main_inp...)`\n",
      "  saved_model.append(deepcopy(model_lstm2))\n"
     ]
    },
    {
     "name": "stdout",
     "output_type": "stream",
     "text": [
      "____________________________________________________________________________________________________\n",
      "Layer (type)                     Output Shape          Param #     Connected to                     \n",
      "====================================================================================================\n",
      "main_input_1 (InputLayer)        (None, 30, 200)       0                                            \n",
      "____________________________________________________________________________________________________\n",
      "main_input_2 (InputLayer)        (None, 30, 200)       0                                            \n",
      "____________________________________________________________________________________________________\n",
      "bidirectional_127 (Bidirectional (None, 400)           641600      main_input_1[0][0]               \n",
      "____________________________________________________________________________________________________\n",
      "bidirectional_128 (Bidirectional (None, 400)           641600      main_input_2[0][0]               \n",
      "____________________________________________________________________________________________________\n",
      "concatenate_127 (Concatenate)    (None, 800)           0           bidirectional_127[0][0]          \n",
      "                                                                   bidirectional_128[0][0]          \n",
      "____________________________________________________________________________________________________\n",
      "dense_191 (Dense)                (None, 600)           480600      concatenate_127[0][0]            \n",
      "____________________________________________________________________________________________________\n",
      "dropout_191 (Dropout)            (None, 600)           0           dense_191[0][0]                  \n",
      "____________________________________________________________________________________________________\n",
      "main_output (Dense)              (None, 1)             601         dropout_191[0][0]                \n",
      "====================================================================================================\n",
      "Total params: 1,764,401\n",
      "Trainable params: 1,764,401\n",
      "Non-trainable params: 0\n",
      "____________________________________________________________________________________________________\n",
      "None\n",
      "Train on 8000 samples, validate on 2000 samples\n",
      "Epoch 1/1\n",
      "8000/8000 [==============================] - 22s - loss: 0.1582 - val_loss: 0.1365\n"
     ]
    },
    {
     "name": "stderr",
     "output_type": "stream",
     "text": [
      "keras_title.py:129: UserWarning: Update your `Model` call to the Keras 2 API: `Model(outputs=[Join.0, J..., inputs=[/main_inp...)`\n",
      "  # print model_1.summary()\n",
      "keras_title.py:179: UserWarning: Update your `Model` call to the Keras 2 API: `Model(outputs=Elemwise{a..., inputs=[/lstm1, /...)`\n",
      "  model_2.layers[7].set_weights(dlmodel.layers[9].get_weights())\n"
     ]
    },
    {
     "name": "stdout",
     "output_type": "stream",
     "text": [
      "TOP1 36\n",
      "TOP5 166\n",
      "TOP10 271\n",
      "Train on 8000 samples, validate on 2000 samples\n",
      "Epoch 2/2\n",
      "8000/8000 [==============================] - 23s - loss: 0.0829 - val_loss: 0.1153\n",
      "TOP1 69\n",
      "TOP5 250\n",
      "TOP10 406\n",
      "Train on 8000 samples, validate on 2000 samples\n",
      "Epoch 3/3\n",
      "8000/8000 [==============================] - 23s - loss: 0.0584 - val_loss: 0.1152\n",
      "TOP1 66\n",
      "TOP5 296\n",
      "TOP10 447\n",
      "Train on 8000 samples, validate on 2000 samples\n",
      "Epoch 4/4\n",
      "8000/8000 [==============================] - 23s - loss: 0.0457 - val_loss: 0.1105\n",
      "TOP1 74\n",
      "TOP5 291\n",
      "TOP10 442\n",
      "Train on 8000 samples, validate on 2000 samples\n",
      "Epoch 5/5\n",
      "8000/8000 [==============================] - 23s - loss: 0.0346 - val_loss: 0.1063\n",
      "TOP1 65\n",
      "TOP5 287\n",
      "TOP10 426\n",
      "Train on 8000 samples, validate on 2000 samples\n",
      "Epoch 6/6\n",
      "8000/8000 [==============================] - 23s - loss: 0.0279 - val_loss: 0.1086\n",
      "TOP1 74\n",
      "TOP5 295\n",
      "TOP10 442\n",
      "Train on 8000 samples, validate on 2000 samples\n",
      "Epoch 7/7\n",
      "8000/8000 [==============================] - 23s - loss: 0.0228 - val_loss: 0.1041\n",
      "TOP1 79\n",
      "TOP5 303\n",
      "TOP10 468\n",
      "Train on 8000 samples, validate on 2000 samples\n",
      "Epoch 8/8\n",
      "8000/8000 [==============================] - 23s - loss: 0.0192 - val_loss: 0.1161\n",
      "TOP1 59\n",
      "TOP5 291\n",
      "TOP10 438\n",
      "Train on 8000 samples, validate on 2000 samples\n",
      "Epoch 9/9\n",
      "8000/8000 [==============================] - 23s - loss: 0.0160 - val_loss: 0.1114\n",
      "TOP1 73\n",
      "TOP5 311\n",
      "TOP10 467\n",
      "Train on 8000 samples, validate on 2000 samples\n",
      "Epoch 10/10\n",
      "8000/8000 [==============================] - 23s - loss: 0.0137 - val_loss: 0.1104\n",
      "TOP1 71\n",
      "TOP5 331\n",
      "TOP10 458\n",
      "TOP1 71\n",
      "TOP5 331\n",
      "TOP10 458\n"
     ]
    }
   ],
   "source": [
    "run keras_title.py"
   ]
  },
  {
   "cell_type": "code",
   "execution_count": 22,
   "metadata": {
    "collapsed": false,
    "scrolled": false
   },
   "outputs": [
    {
     "name": "stdout",
     "output_type": "stream",
     "text": [
      "maxlen 20 epoch 10 dim_lstm 200\n",
      "dim_Dense 600\n",
      "dropout_rate 0.0 , LSTM type: bi-lstm\n",
      "Activation function: ['relu', 'relu', 'relu']\n",
      "bias of y: 0\n",
      "loss_function: mse\n",
      "start: 0 end:\n",
      "------------------------------\n",
      "Reading english Data: 59999\n",
      "Reading english Data: 59999\n",
      "Merging the English and Japanes news dataframe...\n",
      "Drop the null line...\n",
      "False    59987\n",
      "True        12\n",
      "Name: en_article, dtype: int64\n"
     ]
    },
    {
     "name": "stderr",
     "output_type": "stream",
     "text": [
      "keras_title.py:403: SettingWithCopyWarning: \n",
      "A value is trying to be set on a copy of a slice from a DataFrame.\n",
      "Try using .loc[row_indexer,col_indexer] = value instead\n",
      "\n",
      "See the caveats in the documentation: http://pandas.pydata.org/pandas-docs/stable/indexing.html#indexing-view-versus-copy\n",
      "  # check the duplicated amount\n",
      "keras_title.py:404: SettingWithCopyWarning: \n",
      "A value is trying to be set on a copy of a slice from a DataFrame.\n",
      "Try using .loc[row_indexer,col_indexer] = value instead\n",
      "\n",
      "See the caveats in the documentation: http://pandas.pydata.org/pandas-docs/stable/indexing.html#indexing-view-versus-copy\n",
      "  c = np.all(features_en_1 == features_en_0, axis=(1,2))\n",
      "keras_title.py:408: SettingWithCopyWarning: \n",
      "A value is trying to be set on a copy of a slice from a DataFrame.\n",
      "Try using .loc[row_indexer,col_indexer] = value instead\n",
      "\n",
      "See the caveats in the documentation: http://pandas.pydata.org/pandas-docs/stable/indexing.html#indexing-view-versus-copy\n",
      "  X_1 = np.concatenate((features_en_1, features_en_0), axis = 0)\n",
      "keras_title.py:409: SettingWithCopyWarning: \n",
      "A value is trying to be set on a copy of a slice from a DataFrame.\n",
      "Try using .loc[row_indexer,col_indexer] = value instead\n",
      "\n",
      "See the caveats in the documentation: http://pandas.pydata.org/pandas-docs/stable/indexing.html#indexing-view-versus-copy\n",
      "  X_2 = np.concatenate((features_jp_1, features_jp_1), axis = 0)\n"
     ]
    },
    {
     "name": "stdout",
     "output_type": "stream",
     "text": [
      "C value = 11 position: [534, 547, 1001, 1018, 2601, 2949, 3378, 3384, 3812, 4283, 4292]\n"
     ]
    },
    {
     "name": "stderr",
     "output_type": "stream",
     "text": [
      "keras_title.py:493: UserWarning: Update your `Model` call to the Keras 2 API: `Model(outputs=Elemwise{a..., inputs=[/main_inp...)`\n",
      "  saved_model.append(deepcopy(model_lstm2))\n"
     ]
    },
    {
     "name": "stdout",
     "output_type": "stream",
     "text": [
      "____________________________________________________________________________________________________\n",
      "Layer (type)                     Output Shape          Param #     Connected to                     \n",
      "====================================================================================================\n",
      "main_input_1 (InputLayer)        (None, 20, 200)       0                                            \n",
      "____________________________________________________________________________________________________\n",
      "main_input_2 (InputLayer)        (None, 20, 200)       0                                            \n",
      "____________________________________________________________________________________________________\n",
      "bidirectional_151 (Bidirectional (None, 400)           641600      main_input_1[0][0]               \n",
      "____________________________________________________________________________________________________\n",
      "bidirectional_152 (Bidirectional (None, 400)           641600      main_input_2[0][0]               \n",
      "____________________________________________________________________________________________________\n",
      "concatenate_139 (Concatenate)    (None, 800)           0           bidirectional_151[0][0]          \n",
      "                                                                   bidirectional_152[0][0]          \n",
      "____________________________________________________________________________________________________\n",
      "dense_203 (Dense)                (None, 600)           480600      concatenate_139[0][0]            \n",
      "____________________________________________________________________________________________________\n",
      "dropout_203 (Dropout)            (None, 600)           0           dense_203[0][0]                  \n",
      "____________________________________________________________________________________________________\n",
      "main_output (Dense)              (None, 1)             601         dropout_203[0][0]                \n",
      "====================================================================================================\n",
      "Total params: 1,764,401\n",
      "Trainable params: 1,764,401\n",
      "Non-trainable params: 0\n",
      "____________________________________________________________________________________________________\n",
      "None\n",
      "Train on 8000 samples, validate on 2000 samples\n",
      "Epoch 1/1\n",
      "8000/8000 [==============================] - 15s - loss: 0.1583 - val_loss: 0.1439\n"
     ]
    },
    {
     "name": "stderr",
     "output_type": "stream",
     "text": [
      "keras_title.py:129: UserWarning: Update your `Model` call to the Keras 2 API: `Model(outputs=[Join.0, J..., inputs=[/main_inp...)`\n",
      "  # print model_1.summary()\n",
      "keras_title.py:179: UserWarning: Update your `Model` call to the Keras 2 API: `Model(outputs=Elemwise{a..., inputs=[/lstm1, /...)`\n",
      "  model_2.layers[7].set_weights(dlmodel.layers[9].get_weights())\n"
     ]
    },
    {
     "name": "stdout",
     "output_type": "stream",
     "text": [
      "TOP1 29\n",
      "TOP5 135\n",
      "TOP10 254\n",
      "Train on 8000 samples, validate on 2000 samples\n",
      "Epoch 2/2\n",
      "8000/8000 [==============================] - 16s - loss: 0.0882 - val_loss: 0.1209\n",
      "TOP1 46\n",
      "TOP5 188\n",
      "TOP10 317\n",
      "Train on 8000 samples, validate on 2000 samples\n",
      "Epoch 3/3\n",
      "8000/8000 [==============================] - 16s - loss: 0.0624 - val_loss: 0.1229\n",
      "TOP1 55\n",
      "TOP5 235\n",
      "TOP10 392\n",
      "Train on 8000 samples, validate on 2000 samples\n",
      "Epoch 4/4\n",
      "8000/8000 [==============================] - 16s - loss: 0.0479 - val_loss: 0.1052\n",
      "TOP1 56\n",
      "TOP5 254\n",
      "TOP10 401\n",
      "Train on 8000 samples, validate on 2000 samples\n",
      "Epoch 5/5\n",
      "8000/8000 [==============================] - 16s - loss: 0.0366 - val_loss: 0.1163\n",
      "TOP1 45\n",
      "TOP5 267\n",
      "TOP10 418\n",
      "Train on 8000 samples, validate on 2000 samples\n",
      "Epoch 6/6\n",
      "8000/8000 [==============================] - 16s - loss: 0.0295 - val_loss: 0.1120\n",
      "TOP1 58\n",
      "TOP5 279\n",
      "TOP10 424\n",
      "Train on 8000 samples, validate on 2000 samples\n",
      "Epoch 7/7\n",
      "8000/8000 [==============================] - 16s - loss: 0.0234 - val_loss: 0.1144\n",
      "TOP1 67\n",
      "TOP5 290\n",
      "TOP10 435\n",
      "Train on 8000 samples, validate on 2000 samples\n",
      "Epoch 8/8\n",
      "8000/8000 [==============================] - 16s - loss: 0.0181 - val_loss: 0.1134\n",
      "TOP1 69\n",
      "TOP5 307\n",
      "TOP10 460\n",
      "Train on 8000 samples, validate on 2000 samples\n",
      "Epoch 9/9\n",
      "8000/8000 [==============================] - 16s - loss: 0.0151 - val_loss: 0.1101\n",
      "TOP1 74\n",
      "TOP5 291\n",
      "TOP10 445\n",
      "Train on 8000 samples, validate on 2000 samples\n",
      "Epoch 10/10\n",
      "8000/8000 [==============================] - 16s - loss: 0.0129 - val_loss: 0.1149\n",
      "TOP1 69\n",
      "TOP5 285\n",
      "TOP10 446\n",
      "TOP1 69\n",
      "TOP5 285\n",
      "TOP10 446\n"
     ]
    }
   ],
   "source": [
    "run keras_title.py"
   ]
  },
  {
   "cell_type": "code",
   "execution_count": 23,
   "metadata": {
    "collapsed": false,
    "scrolled": false
   },
   "outputs": [
    {
     "name": "stdout",
     "output_type": "stream",
     "text": [
      "maxlen 30 epoch 10 dim_lstm 200\n",
      "dim_Dense 600\n",
      "dropout_rate 0.0 , LSTM type: bi-lstm\n",
      "Activation function: ['relu', 'relu', 'relu']\n",
      "bias of y: 0\n",
      "loss_function: mse\n",
      "start: 0 end:\n",
      "------------------------------\n",
      "Reading english Data: 59999\n",
      "Reading english Data: 59999\n",
      "Merging the English and Japanes news dataframe...\n",
      "Drop the null line...\n",
      "False    59987\n",
      "True        12\n",
      "Name: en_article, dtype: int64\n"
     ]
    },
    {
     "name": "stderr",
     "output_type": "stream",
     "text": [
      "keras_title.py:403: SettingWithCopyWarning: \n",
      "A value is trying to be set on a copy of a slice from a DataFrame.\n",
      "Try using .loc[row_indexer,col_indexer] = value instead\n",
      "\n",
      "See the caveats in the documentation: http://pandas.pydata.org/pandas-docs/stable/indexing.html#indexing-view-versus-copy\n",
      "  # check the duplicated amount\n",
      "keras_title.py:404: SettingWithCopyWarning: \n",
      "A value is trying to be set on a copy of a slice from a DataFrame.\n",
      "Try using .loc[row_indexer,col_indexer] = value instead\n",
      "\n",
      "See the caveats in the documentation: http://pandas.pydata.org/pandas-docs/stable/indexing.html#indexing-view-versus-copy\n",
      "  c = np.all(features_en_1 == features_en_0, axis=(1,2))\n",
      "keras_title.py:408: SettingWithCopyWarning: \n",
      "A value is trying to be set on a copy of a slice from a DataFrame.\n",
      "Try using .loc[row_indexer,col_indexer] = value instead\n",
      "\n",
      "See the caveats in the documentation: http://pandas.pydata.org/pandas-docs/stable/indexing.html#indexing-view-versus-copy\n",
      "  X_1 = np.concatenate((features_en_1, features_en_0), axis = 0)\n",
      "keras_title.py:409: SettingWithCopyWarning: \n",
      "A value is trying to be set on a copy of a slice from a DataFrame.\n",
      "Try using .loc[row_indexer,col_indexer] = value instead\n",
      "\n",
      "See the caveats in the documentation: http://pandas.pydata.org/pandas-docs/stable/indexing.html#indexing-view-versus-copy\n",
      "  X_2 = np.concatenate((features_jp_1, features_jp_1), axis = 0)\n"
     ]
    },
    {
     "name": "stdout",
     "output_type": "stream",
     "text": [
      "C value = 3 position: [3193, 4260, 4326]\n"
     ]
    },
    {
     "name": "stderr",
     "output_type": "stream",
     "text": [
      "keras_title.py:493: UserWarning: Update your `Model` call to the Keras 2 API: `Model(outputs=Elemwise{a..., inputs=[/main_inp...)`\n",
      "  saved_model.append(deepcopy(model_lstm2))\n"
     ]
    },
    {
     "name": "stdout",
     "output_type": "stream",
     "text": [
      "____________________________________________________________________________________________________\n",
      "Layer (type)                     Output Shape          Param #     Connected to                     \n",
      "====================================================================================================\n",
      "main_input_1 (InputLayer)        (None, 30, 200)       0                                            \n",
      "____________________________________________________________________________________________________\n",
      "main_input_2 (InputLayer)        (None, 30, 200)       0                                            \n",
      "____________________________________________________________________________________________________\n",
      "bidirectional_175 (Bidirectional (None, 400)           641600      main_input_1[0][0]               \n",
      "____________________________________________________________________________________________________\n",
      "bidirectional_176 (Bidirectional (None, 400)           641600      main_input_2[0][0]               \n",
      "____________________________________________________________________________________________________\n",
      "concatenate_151 (Concatenate)    (None, 800)           0           bidirectional_175[0][0]          \n",
      "                                                                   bidirectional_176[0][0]          \n",
      "____________________________________________________________________________________________________\n",
      "dense_215 (Dense)                (None, 600)           480600      concatenate_151[0][0]            \n",
      "____________________________________________________________________________________________________\n",
      "dropout_215 (Dropout)            (None, 600)           0           dense_215[0][0]                  \n",
      "____________________________________________________________________________________________________\n",
      "main_output (Dense)              (None, 1)             601         dropout_215[0][0]                \n",
      "====================================================================================================\n",
      "Total params: 1,764,401\n",
      "Trainable params: 1,764,401\n",
      "Non-trainable params: 0\n",
      "____________________________________________________________________________________________________\n",
      "None\n",
      "Train on 8000 samples, validate on 2000 samples\n",
      "Epoch 1/1\n",
      "8000/8000 [==============================] - 23s - loss: 0.1641 - val_loss: 0.1356\n"
     ]
    },
    {
     "name": "stderr",
     "output_type": "stream",
     "text": [
      "keras_title.py:129: UserWarning: Update your `Model` call to the Keras 2 API: `Model(outputs=[Join.0, J..., inputs=[/main_inp...)`\n",
      "  # print model_1.summary()\n",
      "keras_title.py:179: UserWarning: Update your `Model` call to the Keras 2 API: `Model(outputs=Elemwise{a..., inputs=[/lstm1, /...)`\n",
      "  model_2.layers[7].set_weights(dlmodel.layers[9].get_weights())\n"
     ]
    },
    {
     "name": "stdout",
     "output_type": "stream",
     "text": [
      "TOP1 26\n",
      "TOP5 154\n",
      "TOP10 254\n",
      "Train on 8000 samples, validate on 2000 samples\n",
      "Epoch 2/2\n",
      "8000/8000 [==============================] - 23s - loss: 0.0850 - val_loss: 0.1153\n",
      "TOP1 57\n",
      "TOP5 266\n",
      "TOP10 393\n",
      "Train on 8000 samples, validate on 2000 samples\n",
      "Epoch 3/3\n",
      "8000/8000 [==============================] - 23s - loss: 0.0607 - val_loss: 0.1116\n",
      "TOP1 58\n",
      "TOP5 259\n",
      "TOP10 399\n",
      "Train on 8000 samples, validate on 2000 samples\n",
      "Epoch 4/4\n",
      "8000/8000 [==============================] - 22s - loss: 0.0478 - val_loss: 0.1122\n",
      "TOP1 52\n",
      "TOP5 300\n",
      "TOP10 429\n",
      "Train on 8000 samples, validate on 2000 samples\n",
      "Epoch 5/5\n",
      "8000/8000 [==============================] - 23s - loss: 0.0359 - val_loss: 0.1093\n",
      "TOP1 66\n",
      "TOP5 310\n",
      "TOP10 454\n",
      "Train on 8000 samples, validate on 2000 samples\n",
      "Epoch 6/6\n",
      "8000/8000 [==============================] - 23s - loss: 0.0300 - val_loss: 0.1208\n",
      "TOP1 73\n",
      "TOP5 326\n",
      "TOP10 468\n",
      "Train on 8000 samples, validate on 2000 samples\n",
      "Epoch 7/7\n",
      "8000/8000 [==============================] - 23s - loss: 0.0228 - val_loss: 0.1090\n",
      "TOP1 66\n",
      "TOP5 309\n",
      "TOP10 473\n",
      "Train on 8000 samples, validate on 2000 samples\n",
      "Epoch 8/8\n",
      "8000/8000 [==============================] - 23s - loss: 0.0192 - val_loss: 0.1267\n",
      "TOP1 72\n",
      "TOP5 311\n",
      "TOP10 463\n",
      "Train on 8000 samples, validate on 2000 samples\n",
      "Epoch 9/9\n",
      "8000/8000 [==============================] - 23s - loss: 0.0153 - val_loss: 0.1169\n",
      "TOP1 61\n",
      "TOP5 334\n",
      "TOP10 475\n",
      "Train on 8000 samples, validate on 2000 samples\n",
      "Epoch 10/10\n",
      "8000/8000 [==============================] - 23s - loss: 0.0120 - val_loss: 0.1196\n",
      "TOP1 60\n",
      "TOP5 328\n",
      "TOP10 488\n",
      "TOP1 60\n",
      "TOP5 328\n",
      "TOP10 488\n"
     ]
    }
   ],
   "source": [
    "run keras_title.py"
   ]
  },
  {
   "cell_type": "code",
   "execution_count": 24,
   "metadata": {
    "collapsed": false,
    "scrolled": false
   },
   "outputs": [
    {
     "name": "stdout",
     "output_type": "stream",
     "text": [
      "maxlen 30 epoch 10 dim_lstm 200\n",
      "dim_Dense 600\n",
      "dropout_rate 0.0 , LSTM type: bi-lstm\n",
      "Activation function: ['relu', 'relu', 'relu']\n",
      "bias of y: 0\n",
      "loss_function: mse\n",
      "start: 0 end:\n",
      "------------------------------\n",
      "Reading english Data: 59999\n",
      "Reading english Data: 59999\n",
      "Merging the English and Japanes news dataframe...\n",
      "Drop the null line...\n",
      "False    59987\n",
      "True        12\n",
      "Name: en_article, dtype: int64\n"
     ]
    },
    {
     "name": "stderr",
     "output_type": "stream",
     "text": [
      "keras_title.py:403: SettingWithCopyWarning: \n",
      "A value is trying to be set on a copy of a slice from a DataFrame.\n",
      "Try using .loc[row_indexer,col_indexer] = value instead\n",
      "\n",
      "See the caveats in the documentation: http://pandas.pydata.org/pandas-docs/stable/indexing.html#indexing-view-versus-copy\n",
      "  # check the duplicated amount\n",
      "keras_title.py:404: SettingWithCopyWarning: \n",
      "A value is trying to be set on a copy of a slice from a DataFrame.\n",
      "Try using .loc[row_indexer,col_indexer] = value instead\n",
      "\n",
      "See the caveats in the documentation: http://pandas.pydata.org/pandas-docs/stable/indexing.html#indexing-view-versus-copy\n",
      "  c = np.all(features_en_1 == features_en_0, axis=(1,2))\n",
      "keras_title.py:408: SettingWithCopyWarning: \n",
      "A value is trying to be set on a copy of a slice from a DataFrame.\n",
      "Try using .loc[row_indexer,col_indexer] = value instead\n",
      "\n",
      "See the caveats in the documentation: http://pandas.pydata.org/pandas-docs/stable/indexing.html#indexing-view-versus-copy\n",
      "  X_1 = np.concatenate((features_en_1, features_en_0), axis = 0)\n",
      "keras_title.py:409: SettingWithCopyWarning: \n",
      "A value is trying to be set on a copy of a slice from a DataFrame.\n",
      "Try using .loc[row_indexer,col_indexer] = value instead\n",
      "\n",
      "See the caveats in the documentation: http://pandas.pydata.org/pandas-docs/stable/indexing.html#indexing-view-versus-copy\n",
      "  X_2 = np.concatenate((features_jp_1, features_jp_1), axis = 0)\n"
     ]
    },
    {
     "name": "stdout",
     "output_type": "stream",
     "text": [
      "C value = 2 position: [4316, 4503]\n"
     ]
    },
    {
     "name": "stderr",
     "output_type": "stream",
     "text": [
      "keras_title.py:493: UserWarning: Update your `Model` call to the Keras 2 API: `Model(outputs=Elemwise{a..., inputs=[/main_inp...)`\n",
      "  saved_model.append(deepcopy(model_lstm2))\n"
     ]
    },
    {
     "name": "stdout",
     "output_type": "stream",
     "text": [
      "____________________________________________________________________________________________________\n",
      "Layer (type)                     Output Shape          Param #     Connected to                     \n",
      "====================================================================================================\n",
      "main_input_1 (InputLayer)        (None, 30, 200)       0                                            \n",
      "____________________________________________________________________________________________________\n",
      "main_input_2 (InputLayer)        (None, 30, 200)       0                                            \n",
      "____________________________________________________________________________________________________\n",
      "bidirectional_199 (Bidirectional (None, 400)           641600      main_input_1[0][0]               \n",
      "____________________________________________________________________________________________________\n",
      "bidirectional_200 (Bidirectional (None, 400)           641600      main_input_2[0][0]               \n",
      "____________________________________________________________________________________________________\n",
      "concatenate_163 (Concatenate)    (None, 800)           0           bidirectional_199[0][0]          \n",
      "                                                                   bidirectional_200[0][0]          \n",
      "____________________________________________________________________________________________________\n",
      "dense_227 (Dense)                (None, 600)           480600      concatenate_163[0][0]            \n",
      "____________________________________________________________________________________________________\n",
      "dropout_227 (Dropout)            (None, 600)           0           dense_227[0][0]                  \n",
      "____________________________________________________________________________________________________\n",
      "main_output (Dense)              (None, 1)             601         dropout_227[0][0]                \n",
      "====================================================================================================\n",
      "Total params: 1,764,401\n",
      "Trainable params: 1,764,401\n",
      "Non-trainable params: 0\n",
      "____________________________________________________________________________________________________\n",
      "None\n",
      "Train on 8000 samples, validate on 2000 samples\n",
      "Epoch 1/1\n",
      "8000/8000 [==============================] - 22s - loss: 0.1619 - val_loss: 0.1385\n"
     ]
    },
    {
     "name": "stderr",
     "output_type": "stream",
     "text": [
      "keras_title.py:129: UserWarning: Update your `Model` call to the Keras 2 API: `Model(outputs=[Join.0, J..., inputs=[/main_inp...)`\n",
      "  # print model_1.summary()\n",
      "keras_title.py:179: UserWarning: Update your `Model` call to the Keras 2 API: `Model(outputs=Elemwise{a..., inputs=[/lstm1, /...)`\n",
      "  model_2.layers[7].set_weights(dlmodel.layers[9].get_weights())\n"
     ]
    },
    {
     "name": "stdout",
     "output_type": "stream",
     "text": [
      "TOP1 31\n",
      "TOP5 136\n",
      "TOP10 252\n",
      "Train on 8000 samples, validate on 2000 samples\n",
      "Epoch 2/2\n",
      "8000/8000 [==============================] - 23s - loss: 0.0874 - val_loss: 0.1156\n",
      "TOP1 42\n",
      "TOP5 221\n",
      "TOP10 380\n",
      "Train on 8000 samples, validate on 2000 samples\n",
      "Epoch 3/3\n",
      "8000/8000 [==============================] - 22s - loss: 0.0628 - val_loss: 0.1133\n",
      "TOP1 41\n",
      "TOP5 233\n",
      "TOP10 386\n",
      "Train on 8000 samples, validate on 2000 samples\n",
      "Epoch 4/4\n",
      "8000/8000 [==============================] - 23s - loss: 0.0488 - val_loss: 0.1154\n",
      "TOP1 67\n",
      "TOP5 306\n",
      "TOP10 454\n",
      "Train on 8000 samples, validate on 2000 samples\n",
      "Epoch 5/5\n",
      "8000/8000 [==============================] - 23s - loss: 0.0393 - val_loss: 0.1123\n",
      "TOP1 69\n",
      "TOP5 286\n",
      "TOP10 417\n",
      "Train on 8000 samples, validate on 2000 samples\n",
      "Epoch 6/6\n",
      "8000/8000 [==============================] - 23s - loss: 0.0301 - val_loss: 0.1102\n",
      "TOP1 62\n",
      "TOP5 302\n",
      "TOP10 435\n",
      "Train on 8000 samples, validate on 2000 samples\n",
      "Epoch 7/7\n",
      "8000/8000 [==============================] - 23s - loss: 0.0250 - val_loss: 0.1108\n",
      "TOP1 58\n",
      "TOP5 299\n",
      "TOP10 438\n",
      "Train on 8000 samples, validate on 2000 samples\n",
      "Epoch 8/8\n",
      "8000/8000 [==============================] - 23s - loss: 0.0197 - val_loss: 0.1135\n",
      "TOP1 63\n",
      "TOP5 307\n",
      "TOP10 457\n",
      "Train on 8000 samples, validate on 2000 samples\n",
      "Epoch 9/9\n",
      "8000/8000 [==============================] - 23s - loss: 0.0163 - val_loss: 0.1102\n",
      "TOP1 64\n",
      "TOP5 306\n",
      "TOP10 442\n",
      "Train on 8000 samples, validate on 2000 samples\n",
      "Epoch 10/10\n",
      "8000/8000 [==============================] - 23s - loss: 0.0139 - val_loss: 0.1102\n",
      "TOP1 76\n",
      "TOP5 310\n",
      "TOP10 456\n",
      "TOP1 76\n",
      "TOP5 310\n",
      "TOP10 456\n"
     ]
    }
   ],
   "source": [
    "run keras_title.py"
   ]
  },
  {
   "cell_type": "code",
   "execution_count": 25,
   "metadata": {
    "collapsed": false,
    "scrolled": false
   },
   "outputs": [
    {
     "name": "stdout",
     "output_type": "stream",
     "text": [
      "maxlen 30 epoch 10 dim_lstm 200\n",
      "dim_Dense 800\n",
      "dropout_rate 0.0 , LSTM type: bi-lstm\n",
      "Activation function: ['relu', 'relu', 'relu']\n",
      "bias of y: 0\n",
      "loss_function: mse\n",
      "start: 0 end:\n",
      "------------------------------\n",
      "Reading english Data: 59999\n",
      "Reading english Data: 59999\n",
      "Merging the English and Japanes news dataframe...\n",
      "Drop the null line...\n",
      "False    59987\n",
      "True        12\n",
      "Name: en_article, dtype: int64\n"
     ]
    },
    {
     "name": "stderr",
     "output_type": "stream",
     "text": [
      "keras_title.py:403: SettingWithCopyWarning: \n",
      "A value is trying to be set on a copy of a slice from a DataFrame.\n",
      "Try using .loc[row_indexer,col_indexer] = value instead\n",
      "\n",
      "See the caveats in the documentation: http://pandas.pydata.org/pandas-docs/stable/indexing.html#indexing-view-versus-copy\n",
      "  # check the duplicated amount\n",
      "keras_title.py:404: SettingWithCopyWarning: \n",
      "A value is trying to be set on a copy of a slice from a DataFrame.\n",
      "Try using .loc[row_indexer,col_indexer] = value instead\n",
      "\n",
      "See the caveats in the documentation: http://pandas.pydata.org/pandas-docs/stable/indexing.html#indexing-view-versus-copy\n",
      "  c = np.all(features_en_1 == features_en_0, axis=(1,2))\n",
      "keras_title.py:408: SettingWithCopyWarning: \n",
      "A value is trying to be set on a copy of a slice from a DataFrame.\n",
      "Try using .loc[row_indexer,col_indexer] = value instead\n",
      "\n",
      "See the caveats in the documentation: http://pandas.pydata.org/pandas-docs/stable/indexing.html#indexing-view-versus-copy\n",
      "  X_1 = np.concatenate((features_en_1, features_en_0), axis = 0)\n",
      "keras_title.py:409: SettingWithCopyWarning: \n",
      "A value is trying to be set on a copy of a slice from a DataFrame.\n",
      "Try using .loc[row_indexer,col_indexer] = value instead\n",
      "\n",
      "See the caveats in the documentation: http://pandas.pydata.org/pandas-docs/stable/indexing.html#indexing-view-versus-copy\n",
      "  X_2 = np.concatenate((features_jp_1, features_jp_1), axis = 0)\n"
     ]
    },
    {
     "name": "stdout",
     "output_type": "stream",
     "text": [
      "C value = 6 position: [343, 1028, 3372, 4292, 4319, 4634]\n"
     ]
    },
    {
     "name": "stderr",
     "output_type": "stream",
     "text": [
      "keras_title.py:493: UserWarning: Update your `Model` call to the Keras 2 API: `Model(outputs=Elemwise{a..., inputs=[/main_inp...)`\n",
      "  saved_model.append(deepcopy(model_lstm2))\n"
     ]
    },
    {
     "name": "stdout",
     "output_type": "stream",
     "text": [
      "____________________________________________________________________________________________________\n",
      "Layer (type)                     Output Shape          Param #     Connected to                     \n",
      "====================================================================================================\n",
      "main_input_1 (InputLayer)        (None, 30, 200)       0                                            \n",
      "____________________________________________________________________________________________________\n",
      "main_input_2 (InputLayer)        (None, 30, 200)       0                                            \n",
      "____________________________________________________________________________________________________\n",
      "bidirectional_223 (Bidirectional (None, 400)           641600      main_input_1[0][0]               \n",
      "____________________________________________________________________________________________________\n",
      "bidirectional_224 (Bidirectional (None, 400)           641600      main_input_2[0][0]               \n",
      "____________________________________________________________________________________________________\n",
      "concatenate_175 (Concatenate)    (None, 800)           0           bidirectional_223[0][0]          \n",
      "                                                                   bidirectional_224[0][0]          \n",
      "____________________________________________________________________________________________________\n",
      "dense_239 (Dense)                (None, 800)           640800      concatenate_175[0][0]            \n",
      "____________________________________________________________________________________________________\n",
      "dropout_239 (Dropout)            (None, 800)           0           dense_239[0][0]                  \n",
      "____________________________________________________________________________________________________\n",
      "main_output (Dense)              (None, 1)             801         dropout_239[0][0]                \n",
      "====================================================================================================\n",
      "Total params: 1,924,801\n",
      "Trainable params: 1,924,801\n",
      "Non-trainable params: 0\n",
      "____________________________________________________________________________________________________\n",
      "None\n",
      "Train on 8000 samples, validate on 2000 samples\n",
      "Epoch 1/1\n",
      "8000/8000 [==============================] - 22s - loss: 0.1593 - val_loss: 0.1380\n"
     ]
    },
    {
     "name": "stderr",
     "output_type": "stream",
     "text": [
      "keras_title.py:129: UserWarning: Update your `Model` call to the Keras 2 API: `Model(outputs=[Join.0, J..., inputs=[/main_inp...)`\n",
      "  # print model_1.summary()\n",
      "keras_title.py:179: UserWarning: Update your `Model` call to the Keras 2 API: `Model(outputs=Elemwise{a..., inputs=[/lstm1, /...)`\n",
      "  model_2.layers[7].set_weights(dlmodel.layers[9].get_weights())\n"
     ]
    },
    {
     "name": "stdout",
     "output_type": "stream",
     "text": [
      "TOP1 35\n",
      "TOP5 160\n",
      "TOP10 295\n",
      "Train on 8000 samples, validate on 2000 samples\n",
      "Epoch 2/2\n",
      "8000/8000 [==============================] - 22s - loss: 0.0883 - val_loss: 0.1173\n",
      "TOP1 44\n",
      "TOP5 220\n",
      "TOP10 365\n",
      "Train on 8000 samples, validate on 2000 samples\n",
      "Epoch 3/3\n",
      "8000/8000 [==============================] - 22s - loss: 0.0640 - val_loss: 0.1015\n",
      "TOP1 59\n",
      "TOP5 258\n",
      "TOP10 413\n",
      "Train on 8000 samples, validate on 2000 samples\n",
      "Epoch 4/4\n",
      "8000/8000 [==============================] - 23s - loss: 0.0482 - val_loss: 0.1052\n",
      "TOP1 61\n",
      "TOP5 292\n",
      "TOP10 428\n",
      "Train on 8000 samples, validate on 2000 samples\n",
      "Epoch 5/5\n",
      "8000/8000 [==============================] - 23s - loss: 0.0376 - val_loss: 0.1011\n",
      "TOP1 77\n",
      "TOP5 327\n",
      "TOP10 468\n",
      "Train on 8000 samples, validate on 2000 samples\n",
      "Epoch 6/6\n",
      "8000/8000 [==============================] - 23s - loss: 0.0303 - val_loss: 0.0996\n",
      "TOP1 60\n",
      "TOP5 343\n",
      "TOP10 491\n",
      "Train on 8000 samples, validate on 2000 samples\n",
      "Epoch 7/7\n",
      "8000/8000 [==============================] - 23s - loss: 0.0230 - val_loss: 0.1092\n",
      "TOP1 74\n",
      "TOP5 311\n",
      "TOP10 492\n",
      "Train on 8000 samples, validate on 2000 samples\n",
      "Epoch 8/8\n",
      "8000/8000 [==============================] - 23s - loss: 0.0193 - val_loss: 0.1078\n",
      "TOP1 74\n",
      "TOP5 332\n",
      "TOP10 502\n",
      "Train on 8000 samples, validate on 2000 samples\n",
      "Epoch 9/9\n",
      "8000/8000 [==============================] - 23s - loss: 0.0155 - val_loss: 0.1126\n",
      "TOP1 79\n",
      "TOP5 328\n",
      "TOP10 476\n",
      "Train on 8000 samples, validate on 2000 samples\n",
      "Epoch 10/10\n",
      "8000/8000 [==============================] - 23s - loss: 0.0137 - val_loss: 0.1067\n",
      "TOP1 74\n",
      "TOP5 308\n",
      "TOP10 471\n",
      "TOP1 74\n",
      "TOP5 308\n",
      "TOP10 471\n"
     ]
    }
   ],
   "source": [
    "run keras_title.py"
   ]
  },
  {
   "cell_type": "code",
   "execution_count": 26,
   "metadata": {
    "collapsed": false,
    "scrolled": false
   },
   "outputs": [
    {
     "name": "stdout",
     "output_type": "stream",
     "text": [
      "maxlen 30 epoch 10 dim_lstm 200\n",
      "dim_Dense 1000\n",
      "dropout_rate 0.0 , LSTM type: bi-lstm\n",
      "Activation function: ['relu', 'relu', 'relu']\n",
      "bias of y: 0\n",
      "loss_function: mse\n",
      "start: 0 end:\n",
      "------------------------------\n",
      "Reading english Data: 59999\n",
      "Reading english Data: 59999\n",
      "Merging the English and Japanes news dataframe...\n",
      "Drop the null line...\n",
      "False    59987\n",
      "True        12\n",
      "Name: en_article, dtype: int64\n"
     ]
    },
    {
     "name": "stderr",
     "output_type": "stream",
     "text": [
      "keras_title.py:403: SettingWithCopyWarning: \n",
      "A value is trying to be set on a copy of a slice from a DataFrame.\n",
      "Try using .loc[row_indexer,col_indexer] = value instead\n",
      "\n",
      "See the caveats in the documentation: http://pandas.pydata.org/pandas-docs/stable/indexing.html#indexing-view-versus-copy\n",
      "  # check the duplicated amount\n",
      "keras_title.py:404: SettingWithCopyWarning: \n",
      "A value is trying to be set on a copy of a slice from a DataFrame.\n",
      "Try using .loc[row_indexer,col_indexer] = value instead\n",
      "\n",
      "See the caveats in the documentation: http://pandas.pydata.org/pandas-docs/stable/indexing.html#indexing-view-versus-copy\n",
      "  c = np.all(features_en_1 == features_en_0, axis=(1,2))\n",
      "keras_title.py:408: SettingWithCopyWarning: \n",
      "A value is trying to be set on a copy of a slice from a DataFrame.\n",
      "Try using .loc[row_indexer,col_indexer] = value instead\n",
      "\n",
      "See the caveats in the documentation: http://pandas.pydata.org/pandas-docs/stable/indexing.html#indexing-view-versus-copy\n",
      "  X_1 = np.concatenate((features_en_1, features_en_0), axis = 0)\n",
      "keras_title.py:409: SettingWithCopyWarning: \n",
      "A value is trying to be set on a copy of a slice from a DataFrame.\n",
      "Try using .loc[row_indexer,col_indexer] = value instead\n",
      "\n",
      "See the caveats in the documentation: http://pandas.pydata.org/pandas-docs/stable/indexing.html#indexing-view-versus-copy\n",
      "  X_2 = np.concatenate((features_jp_1, features_jp_1), axis = 0)\n"
     ]
    },
    {
     "name": "stdout",
     "output_type": "stream",
     "text": [
      "C value = 7 position: [690, 988, 1604, 3431, 3954, 4295, 4875]\n"
     ]
    },
    {
     "name": "stderr",
     "output_type": "stream",
     "text": [
      "keras_title.py:493: UserWarning: Update your `Model` call to the Keras 2 API: `Model(outputs=Elemwise{a..., inputs=[/main_inp...)`\n",
      "  saved_model.append(deepcopy(model_lstm2))\n"
     ]
    },
    {
     "name": "stdout",
     "output_type": "stream",
     "text": [
      "____________________________________________________________________________________________________\n",
      "Layer (type)                     Output Shape          Param #     Connected to                     \n",
      "====================================================================================================\n",
      "main_input_1 (InputLayer)        (None, 30, 200)       0                                            \n",
      "____________________________________________________________________________________________________\n",
      "main_input_2 (InputLayer)        (None, 30, 200)       0                                            \n",
      "____________________________________________________________________________________________________\n",
      "bidirectional_247 (Bidirectional (None, 400)           641600      main_input_1[0][0]               \n",
      "____________________________________________________________________________________________________\n",
      "bidirectional_248 (Bidirectional (None, 400)           641600      main_input_2[0][0]               \n",
      "____________________________________________________________________________________________________\n",
      "concatenate_187 (Concatenate)    (None, 800)           0           bidirectional_247[0][0]          \n",
      "                                                                   bidirectional_248[0][0]          \n",
      "____________________________________________________________________________________________________\n",
      "dense_251 (Dense)                (None, 1000)          801000      concatenate_187[0][0]            \n",
      "____________________________________________________________________________________________________\n",
      "dropout_251 (Dropout)            (None, 1000)          0           dense_251[0][0]                  \n",
      "____________________________________________________________________________________________________\n",
      "main_output (Dense)              (None, 1)             1001        dropout_251[0][0]                \n",
      "====================================================================================================\n",
      "Total params: 2,085,201\n",
      "Trainable params: 2,085,201\n",
      "Non-trainable params: 0\n",
      "____________________________________________________________________________________________________\n",
      "None\n",
      "Train on 8000 samples, validate on 2000 samples\n",
      "Epoch 1/1\n",
      "8000/8000 [==============================] - 23s - loss: 0.1579 - val_loss: 0.1369\n"
     ]
    },
    {
     "name": "stderr",
     "output_type": "stream",
     "text": [
      "keras_title.py:129: UserWarning: Update your `Model` call to the Keras 2 API: `Model(outputs=[Join.0, J..., inputs=[/main_inp...)`\n",
      "  # print model_1.summary()\n",
      "keras_title.py:179: UserWarning: Update your `Model` call to the Keras 2 API: `Model(outputs=Elemwise{a..., inputs=[/lstm1, /...)`\n",
      "  model_2.layers[7].set_weights(dlmodel.layers[9].get_weights())\n"
     ]
    },
    {
     "name": "stdout",
     "output_type": "stream",
     "text": [
      "TOP1 31\n",
      "TOP5 155\n",
      "TOP10 255\n",
      "Train on 8000 samples, validate on 2000 samples\n",
      "Epoch 2/2\n",
      "8000/8000 [==============================] - 23s - loss: 0.0868 - val_loss: 0.1233\n",
      "TOP1 39\n",
      "TOP5 229\n",
      "TOP10 357\n",
      "Train on 8000 samples, validate on 2000 samples\n",
      "Epoch 3/3\n",
      "8000/8000 [==============================] - 23s - loss: 0.0625 - val_loss: 0.1176\n",
      "TOP1 55\n",
      "TOP5 248\n",
      "TOP10 401\n",
      "Train on 8000 samples, validate on 2000 samples\n",
      "Epoch 4/4\n",
      "8000/8000 [==============================] - 23s - loss: 0.0499 - val_loss: 0.1151\n",
      "TOP1 48\n",
      "TOP5 264\n",
      "TOP10 423\n",
      "Train on 8000 samples, validate on 2000 samples\n",
      "Epoch 5/5\n",
      "8000/8000 [==============================] - 23s - loss: 0.0406 - val_loss: 0.1083\n",
      "TOP1 52\n",
      "TOP5 268\n",
      "TOP10 424\n",
      "Train on 8000 samples, validate on 2000 samples\n",
      "Epoch 6/6\n",
      "8000/8000 [==============================] - 23s - loss: 0.0324 - val_loss: 0.1104\n",
      "TOP1 68\n",
      "TOP5 294\n",
      "TOP10 457\n",
      "Train on 8000 samples, validate on 2000 samples\n",
      "Epoch 7/7\n",
      "8000/8000 [==============================] - 23s - loss: 0.0258 - val_loss: 0.1199\n",
      "TOP1 71\n",
      "TOP5 288\n",
      "TOP10 449\n",
      "Train on 8000 samples, validate on 2000 samples\n",
      "Epoch 8/8\n",
      "8000/8000 [==============================] - 23s - loss: 0.0209 - val_loss: 0.1163\n",
      "TOP1 70\n",
      "TOP5 283\n",
      "TOP10 429\n",
      "Train on 8000 samples, validate on 2000 samples\n",
      "Epoch 9/9\n",
      "8000/8000 [==============================] - 23s - loss: 0.0170 - val_loss: 0.1151\n",
      "TOP1 62\n",
      "TOP5 287\n",
      "TOP10 443\n",
      "Train on 8000 samples, validate on 2000 samples\n",
      "Epoch 10/10\n",
      "8000/8000 [==============================] - 23s - loss: 0.0150 - val_loss: 0.1110\n",
      "TOP1 69\n",
      "TOP5 300\n",
      "TOP10 449\n",
      "TOP1 69\n",
      "TOP5 300\n",
      "TOP10 449\n"
     ]
    }
   ],
   "source": [
    "run keras_title.py"
   ]
  },
  {
   "cell_type": "code",
   "execution_count": 27,
   "metadata": {
    "collapsed": false,
    "scrolled": false
   },
   "outputs": [
    {
     "name": "stdout",
     "output_type": "stream",
     "text": [
      "maxlen 30 epoch 10 dim_lstm 200\n",
      "dim_Dense 800\n",
      "dropout_rate 0.0 , LSTM type: bi-lstm\n",
      "Activation function: ['relu', 'relu', 'relu']\n",
      "bias of y: 0\n",
      "loss_function: mse\n",
      "start: 0 end:\n",
      "------------------------------\n",
      "Reading english Data: 59999\n",
      "Reading english Data: 59999\n",
      "Merging the English and Japanes news dataframe...\n",
      "Drop the null line...\n",
      "False    59987\n",
      "True        12\n",
      "Name: en_article, dtype: int64\n"
     ]
    },
    {
     "name": "stderr",
     "output_type": "stream",
     "text": [
      "keras_title.py:403: SettingWithCopyWarning: \n",
      "A value is trying to be set on a copy of a slice from a DataFrame.\n",
      "Try using .loc[row_indexer,col_indexer] = value instead\n",
      "\n",
      "See the caveats in the documentation: http://pandas.pydata.org/pandas-docs/stable/indexing.html#indexing-view-versus-copy\n",
      "  # check the duplicated amount\n",
      "keras_title.py:404: SettingWithCopyWarning: \n",
      "A value is trying to be set on a copy of a slice from a DataFrame.\n",
      "Try using .loc[row_indexer,col_indexer] = value instead\n",
      "\n",
      "See the caveats in the documentation: http://pandas.pydata.org/pandas-docs/stable/indexing.html#indexing-view-versus-copy\n",
      "  c = np.all(features_en_1 == features_en_0, axis=(1,2))\n",
      "keras_title.py:408: SettingWithCopyWarning: \n",
      "A value is trying to be set on a copy of a slice from a DataFrame.\n",
      "Try using .loc[row_indexer,col_indexer] = value instead\n",
      "\n",
      "See the caveats in the documentation: http://pandas.pydata.org/pandas-docs/stable/indexing.html#indexing-view-versus-copy\n",
      "  X_1 = np.concatenate((features_en_1, features_en_0), axis = 0)\n",
      "keras_title.py:409: SettingWithCopyWarning: \n",
      "A value is trying to be set on a copy of a slice from a DataFrame.\n",
      "Try using .loc[row_indexer,col_indexer] = value instead\n",
      "\n",
      "See the caveats in the documentation: http://pandas.pydata.org/pandas-docs/stable/indexing.html#indexing-view-versus-copy\n",
      "  X_2 = np.concatenate((features_jp_1, features_jp_1), axis = 0)\n"
     ]
    },
    {
     "name": "stdout",
     "output_type": "stream",
     "text": [
      "C value = 7 position: [239, 991, 1965, 3369, 4192, 4267, 4308]\n"
     ]
    },
    {
     "name": "stderr",
     "output_type": "stream",
     "text": [
      "keras_title.py:493: UserWarning: Update your `Model` call to the Keras 2 API: `Model(outputs=Elemwise{a..., inputs=[/main_inp...)`\n",
      "  saved_model.append(deepcopy(model_lstm2))\n"
     ]
    },
    {
     "name": "stdout",
     "output_type": "stream",
     "text": [
      "____________________________________________________________________________________________________\n",
      "Layer (type)                     Output Shape          Param #     Connected to                     \n",
      "====================================================================================================\n",
      "main_input_1 (InputLayer)        (None, 30, 200)       0                                            \n",
      "____________________________________________________________________________________________________\n",
      "main_input_2 (InputLayer)        (None, 30, 200)       0                                            \n",
      "____________________________________________________________________________________________________\n",
      "bidirectional_271 (Bidirectional (None, 400)           641600      main_input_1[0][0]               \n",
      "____________________________________________________________________________________________________\n",
      "bidirectional_272 (Bidirectional (None, 400)           641600      main_input_2[0][0]               \n",
      "____________________________________________________________________________________________________\n",
      "concatenate_199 (Concatenate)    (None, 800)           0           bidirectional_271[0][0]          \n",
      "                                                                   bidirectional_272[0][0]          \n",
      "____________________________________________________________________________________________________\n",
      "dense_263 (Dense)                (None, 800)           640800      concatenate_199[0][0]            \n",
      "____________________________________________________________________________________________________\n",
      "dropout_263 (Dropout)            (None, 800)           0           dense_263[0][0]                  \n",
      "____________________________________________________________________________________________________\n",
      "main_output (Dense)              (None, 1)             801         dropout_263[0][0]                \n",
      "====================================================================================================\n",
      "Total params: 1,924,801\n",
      "Trainable params: 1,924,801\n",
      "Non-trainable params: 0\n",
      "____________________________________________________________________________________________________\n",
      "None\n",
      "Train on 8000 samples, validate on 2000 samples\n",
      "Epoch 1/1\n",
      "8000/8000 [==============================] - 22s - loss: 0.1569 - val_loss: 0.1314\n"
     ]
    },
    {
     "name": "stderr",
     "output_type": "stream",
     "text": [
      "keras_title.py:129: UserWarning: Update your `Model` call to the Keras 2 API: `Model(outputs=[Join.0, J..., inputs=[/main_inp...)`\n",
      "  # print model_1.summary()\n",
      "keras_title.py:179: UserWarning: Update your `Model` call to the Keras 2 API: `Model(outputs=Elemwise{a..., inputs=[/lstm1, /...)`\n",
      "  model_2.layers[7].set_weights(dlmodel.layers[9].get_weights())\n"
     ]
    },
    {
     "name": "stdout",
     "output_type": "stream",
     "text": [
      "TOP1 32\n",
      "TOP5 167\n",
      "TOP10 274\n",
      "Train on 8000 samples, validate on 2000 samples\n",
      "Epoch 2/2\n",
      "8000/8000 [==============================] - 22s - loss: 0.0859 - val_loss: 0.1265\n",
      "TOP1 40\n",
      "TOP5 188\n",
      "TOP10 332\n",
      "Train on 8000 samples, validate on 2000 samples\n",
      "Epoch 3/3\n",
      "8000/8000 [==============================] - 23s - loss: 0.0598 - val_loss: 0.1099\n",
      "TOP1 46\n",
      "TOP5 252\n",
      "TOP10 391\n",
      "Train on 8000 samples, validate on 2000 samples\n",
      "Epoch 4/4\n",
      "8000/8000 [==============================] - 23s - loss: 0.0443 - val_loss: 0.1146\n",
      "TOP1 55\n",
      "TOP5 296\n",
      "TOP10 441\n",
      "Train on 8000 samples, validate on 2000 samples\n",
      "Epoch 5/5\n",
      "8000/8000 [==============================] - 23s - loss: 0.0355 - val_loss: 0.1095\n",
      "TOP1 54\n",
      "TOP5 302\n",
      "TOP10 459\n",
      "Train on 8000 samples, validate on 2000 samples\n",
      "Epoch 6/6\n",
      "8000/8000 [==============================] - 23s - loss: 0.0270 - val_loss: 0.1156\n",
      "TOP1 59\n",
      "TOP5 289\n",
      "TOP10 420\n",
      "Train on 8000 samples, validate on 2000 samples\n",
      "Epoch 7/7\n",
      "8000/8000 [==============================] - 23s - loss: 0.0227 - val_loss: 0.1165\n",
      "TOP1 65\n",
      "TOP5 304\n",
      "TOP10 439\n",
      "Train on 8000 samples, validate on 2000 samples\n",
      "Epoch 8/8\n",
      "8000/8000 [==============================] - 23s - loss: 0.0180 - val_loss: 0.1192\n",
      "TOP1 63\n",
      "TOP5 313\n",
      "TOP10 466\n",
      "Train on 8000 samples, validate on 2000 samples\n",
      "Epoch 9/9\n",
      "8000/8000 [==============================] - 23s - loss: 0.0147 - val_loss: 0.1194\n",
      "TOP1 72\n",
      "TOP5 307\n",
      "TOP10 454\n",
      "Train on 8000 samples, validate on 2000 samples\n",
      "Epoch 10/10\n",
      "8000/8000 [==============================] - 23s - loss: 0.0126 - val_loss: 0.1173\n",
      "TOP1 71\n",
      "TOP5 313\n",
      "TOP10 458\n",
      "TOP1 71\n",
      "TOP5 313\n",
      "TOP10 458\n"
     ]
    }
   ],
   "source": [
    "run keras_title.py"
   ]
  },
  {
   "cell_type": "code",
   "execution_count": 32,
   "metadata": {
    "collapsed": false,
    "scrolled": false
   },
   "outputs": [
    {
     "name": "stdout",
     "output_type": "stream",
     "text": [
      "maxlen 30 epoch 10 dim_lstm 200\n",
      "dim_Dense 800\n",
      "dropout_rate 0.0 , LSTM type: bi-lstm sum\n",
      "Activation function: ['relu', 'relu', 'relu']\n",
      "bias of y: 0\n",
      "loss_function: mse\n",
      "start: 0 end:\n",
      "------------------------------\n",
      "Reading english Data: 59999\n",
      "Reading english Data: 59999\n",
      "Merging the English and Japanes news dataframe...\n",
      "Drop the null line...\n",
      "False    59987\n",
      "True        12\n",
      "Name: en_article, dtype: int64\n"
     ]
    },
    {
     "name": "stderr",
     "output_type": "stream",
     "text": [
      "keras_title.py:406: SettingWithCopyWarning: \n",
      "A value is trying to be set on a copy of a slice from a DataFrame.\n",
      "Try using .loc[row_indexer,col_indexer] = value instead\n",
      "\n",
      "See the caveats in the documentation: http://pandas.pydata.org/pandas-docs/stable/indexing.html#indexing-view-versus-copy\n",
      "  \n",
      "keras_title.py:407: SettingWithCopyWarning: \n",
      "A value is trying to be set on a copy of a slice from a DataFrame.\n",
      "Try using .loc[row_indexer,col_indexer] = value instead\n",
      "\n",
      "See the caveats in the documentation: http://pandas.pydata.org/pandas-docs/stable/indexing.html#indexing-view-versus-copy\n",
      "  # Prepare the final training and test data\n",
      "keras_title.py:411: SettingWithCopyWarning: \n",
      "A value is trying to be set on a copy of a slice from a DataFrame.\n",
      "Try using .loc[row_indexer,col_indexer] = value instead\n",
      "\n",
      "See the caveats in the documentation: http://pandas.pydata.org/pandas-docs/stable/indexing.html#indexing-view-versus-copy\n",
      "  y = np.concatenate((np.ones(len(features_en_1)), np.zeros(len(features_en_0))+bias_y), axis = 0)\n",
      "keras_title.py:412: SettingWithCopyWarning: \n",
      "A value is trying to be set on a copy of a slice from a DataFrame.\n",
      "Try using .loc[row_indexer,col_indexer] = value instead\n",
      "\n",
      "See the caveats in the documentation: http://pandas.pydata.org/pandas-docs/stable/indexing.html#indexing-view-versus-copy\n",
      "  # y = np.concatenate((np.ones(len(features_en_1)), np.zeros(len(features_en_0))), axis = 0)\n"
     ]
    },
    {
     "name": "stdout",
     "output_type": "stream",
     "text": [
      "C value = 1 position: [3369]\n"
     ]
    },
    {
     "name": "stderr",
     "output_type": "stream",
     "text": [
      "keras_title.py:496: UserWarning: Update your `Model` call to the Keras 2 API: `Model(outputs=Elemwise{a..., inputs=[/main_inp...)`\n",
      "  print \"TOP1\", (pd.Series(rank_results_test) <= 1).sum()\n"
     ]
    },
    {
     "name": "stdout",
     "output_type": "stream",
     "text": [
      "____________________________________________________________________________________________________\n",
      "Layer (type)                     Output Shape          Param #     Connected to                     \n",
      "====================================================================================================\n",
      "main_input_1 (InputLayer)        (None, 30, 200)       0                                            \n",
      "____________________________________________________________________________________________________\n",
      "main_input_2 (InputLayer)        (None, 30, 200)       0                                            \n",
      "____________________________________________________________________________________________________\n",
      "bidirectional_301 (Bidirectional (None, 200)           641600      main_input_1[0][0]               \n",
      "____________________________________________________________________________________________________\n",
      "bidirectional_302 (Bidirectional (None, 200)           641600      main_input_2[0][0]               \n",
      "____________________________________________________________________________________________________\n",
      "concatenate_214 (Concatenate)    (None, 400)           0           bidirectional_301[0][0]          \n",
      "                                                                   bidirectional_302[0][0]          \n",
      "____________________________________________________________________________________________________\n",
      "dense_278 (Dense)                (None, 800)           320800      concatenate_214[0][0]            \n",
      "____________________________________________________________________________________________________\n",
      "dropout_278 (Dropout)            (None, 800)           0           dense_278[0][0]                  \n",
      "____________________________________________________________________________________________________\n",
      "main_output (Dense)              (None, 1)             801         dropout_278[0][0]                \n",
      "====================================================================================================\n",
      "Total params: 1,604,801\n",
      "Trainable params: 1,604,801\n",
      "Non-trainable params: 0\n",
      "____________________________________________________________________________________________________\n",
      "None\n",
      "Train on 8000 samples, validate on 2000 samples\n",
      "Epoch 1/1\n",
      "8000/8000 [==============================] - 22s - loss: 0.1612 - val_loss: 0.1363\n"
     ]
    },
    {
     "name": "stderr",
     "output_type": "stream",
     "text": [
      "keras_title.py:130: UserWarning: Update your `Model` call to the Keras 2 API: `Model(outputs=[Elemwise{..., inputs=[/main_inp...)`\n",
      "  \n",
      "keras_title.py:182: UserWarning: Update your `Model` call to the Keras 2 API: `Model(outputs=Elemwise{a..., inputs=[/lstm1, /...)`\n",
      "  projection2 = v2\n"
     ]
    },
    {
     "name": "stdout",
     "output_type": "stream",
     "text": [
      "TOP1 24\n",
      "TOP5 152\n",
      "TOP10 269\n",
      "Train on 8000 samples, validate on 2000 samples\n",
      "Epoch 2/2\n",
      "8000/8000 [==============================] - 22s - loss: 0.0839 - val_loss: 0.1092\n",
      "TOP1 45\n",
      "TOP5 229\n",
      "TOP10 349\n",
      "Train on 8000 samples, validate on 2000 samples\n",
      "Epoch 3/3\n",
      "8000/8000 [==============================] - 23s - loss: 0.0597 - val_loss: 0.1162\n",
      "TOP1 52\n",
      "TOP5 257\n",
      "TOP10 397\n",
      "Train on 8000 samples, validate on 2000 samples\n",
      "Epoch 4/4\n",
      "8000/8000 [==============================] - 23s - loss: 0.0485 - val_loss: 0.1093\n",
      "TOP1 71\n",
      "TOP5 280\n",
      "TOP10 437\n",
      "Train on 8000 samples, validate on 2000 samples\n",
      "Epoch 5/5\n",
      "8000/8000 [==============================] - 22s - loss: 0.0372 - val_loss: 0.1072\n",
      "TOP1 57\n",
      "TOP5 294\n",
      "TOP10 463\n",
      "Train on 8000 samples, validate on 2000 samples\n",
      "Epoch 6/6\n",
      "8000/8000 [==============================] - 23s - loss: 0.0296 - val_loss: 0.1091\n",
      "TOP1 80\n",
      "TOP5 305\n",
      "TOP10 471\n",
      "Train on 8000 samples, validate on 2000 samples\n",
      "Epoch 7/7\n",
      "8000/8000 [==============================] - 23s - loss: 0.0240 - val_loss: 0.1076\n",
      "TOP1 70\n",
      "TOP5 309\n",
      "TOP10 468\n",
      "Train on 8000 samples, validate on 2000 samples\n",
      "Epoch 8/8\n",
      "8000/8000 [==============================] - 23s - loss: 0.0198 - val_loss: 0.1203\n",
      "TOP1 67\n",
      "TOP5 300\n",
      "TOP10 452\n",
      "Train on 8000 samples, validate on 2000 samples\n",
      "Epoch 9/9\n",
      "8000/8000 [==============================] - 23s - loss: 0.0162 - val_loss: 0.1028\n",
      "TOP1 75\n",
      "TOP5 335\n",
      "TOP10 476\n",
      "Train on 8000 samples, validate on 2000 samples\n",
      "Epoch 10/10\n",
      "8000/8000 [==============================] - 23s - loss: 0.0130 - val_loss: 0.1043\n",
      "TOP1 78\n",
      "TOP5 317\n",
      "TOP10 480\n",
      "TOP1 78\n",
      "TOP5 317\n",
      "TOP10 480\n"
     ]
    }
   ],
   "source": [
    "run keras_title.py"
   ]
  },
  {
   "cell_type": "code",
   "execution_count": 33,
   "metadata": {
    "collapsed": false
   },
   "outputs": [
    {
     "data": {
      "image/png": "[encoded data removed]",
      "text/plain": [
       "<matplotlib.figure.Figure at 0x7f7fa89c9890>"
      ]
     },
     "metadata": {},
     "output_type": "display_data"
    }
   ],
   "source": [
    "%matplotlib inline\n",
    "import matplotlib.pyplot as plt\n",
    "import matplotlib\n",
    "# matplotlib.rcParams['figure.figsize'] = (6.0, 2.0)\n",
    "# matplotlib.rcParams['figure.figsize'] = (10, 7)\n",
    "matplotlib.rcParams['figure.figsize'] = (10, 7)\n",
    "plt.plot(rank_results_test,'bo')\n",
    "plt.title('TOP Ranking for test documents (1-1000)')\n",
    "plt.xlabel('Document Number')\n",
    "plt.ylabel('The ranking of the real pair')\n",
    "# plt.ylim([1000,0])\n",
    "plt.ylim([532,0.5])\n",
    "plt.grid(True)\n",
    "plt.savefig('top-test.eps', format='eps', dpi=1000)\n",
    "plt.show()"
   ]
  },
  {
   "cell_type": "code",
   "execution_count": 34,
   "metadata": {
    "collapsed": false
   },
   "outputs": [
    {
     "data": {
      "image/png": "[encoded data removed]",
      "text/plain": [
       "<matplotlib.figure.Figure at 0x7f8049685cd0>"
      ]
     },
     "metadata": {},
     "output_type": "display_data"
    }
   ],
   "source": [
    "%matplotlib inline\n",
    "import matplotlib.pyplot as plt\n",
    "import matplotlib\n",
    "# matplotlib.rcParams['figure.figsize'] = (6.0, 2.0)\n",
    "# matplotlib.rcParams['figure.figsize'] = (10, 7)\n",
    "matplotlib.rcParams['figure.figsize'] = (10, 7)\n",
    "plt.plot(rank_results_test,'bo')\n",
    "plt.title('TOP Ranking for test documents (1-1000)')\n",
    "plt.xlabel('Document Number')\n",
    "plt.ylabel('The ranking of the real pair')\n",
    "# plt.ylim([1000,0])\n",
    "plt.ylim([532,0.5])\n",
    "plt.grid(True)\n",
    "plt.savefig('top-test.eps', format='eps', dpi=1000)\n",
    "plt.show()"
   ]
  },
  {
   "cell_type": "code",
   "execution_count": 36,
   "metadata": {
    "collapsed": false,
    "scrolled": false
   },
   "outputs": [
    {
     "data": {
      "text/plain": [
       "count    1000.000000\n",
       "mean       43.336000\n",
       "std        97.073404\n",
       "min         1.000000\n",
       "25%         4.000000\n",
       "50%        11.500000\n",
       "75%        43.125000\n",
       "max       877.000000\n",
       "dtype: float64"
      ]
     },
     "execution_count": 36,
     "metadata": {},
     "output_type": "execute_result"
    }
   ],
   "source": [
    "pd.Series(rank_results_test).describe()"
   ]
  },
  {
   "cell_type": "code",
   "execution_count": null,
   "metadata": {
    "collapsed": true
   },
   "outputs": [],
   "source": []
  },
  {
   "cell_type": "code",
   "execution_count": 37,
   "metadata": {
    "collapsed": false
   },
   "outputs": [
    {
     "data": {
      "text/plain": [
       "<keras.engine.training.Model at 0x7f8053a85090>"
      ]
     },
     "execution_count": 37,
     "metadata": {},
     "output_type": "execute_result"
    }
   ],
   "source": [
    "# 测试新的实验数据\n",
    "find_ranking_quick(X1_test_1, X2_test_1, model_lstm2)"
   ]
  },
  {
   "cell_type": "code",
   "execution_count": null,
   "metadata": {
    "collapsed": true
   },
   "outputs": [],
   "source": []
  }
 ],
 "metadata": {
  "kernelspec": {
   "display_name": "Python 2",
   "language": "python",
   "name": "python2"
  },
  "language_info": {
   "codemirror_mode": {
    "name": "ipython",
    "version": 2
   },
   "file_extension": ".py",
   "mimetype": "text/x-python",
   "name": "python",
   "nbconvert_exporter": "python",
   "pygments_lexer": "ipython2",
   "version": "2.7.12"
  }
 },
 "nbformat": 4,
 "nbformat_minor": 0
}
