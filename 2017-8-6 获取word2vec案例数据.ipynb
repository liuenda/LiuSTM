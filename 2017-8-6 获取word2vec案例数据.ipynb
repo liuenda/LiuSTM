{
 "cells": [
  {
   "cell_type": "code",
   "execution_count": 7,
   "metadata": {
    "collapsed": false
   },
   "outputs": [],
   "source": [
    "from gensim.models import *"
   ]
  },
  {
   "cell_type": "code",
   "execution_count": 8,
   "metadata": {
    "collapsed": true
   },
   "outputs": [],
   "source": [
    "path_en = '/home/M2015eliu/cas/2017.1.1~LiuSTM/data/model-en/W2Vmodle.bin'\n",
    "path_jp = '/home/M2015eliu/cas/2017.1.1~LiuSTM/data/model-jp/W2Vmodle.bin'\n",
    "model_en = Word2Vec.load(path_en)\n",
    "model_jp = Word2Vec.load(path_jp)"
   ]
  },
  {
   "cell_type": "code",
   "execution_count": 39,
   "metadata": {
    "collapsed": false
   },
   "outputs": [
    {
     "name": "stdout",
     "output_type": "stream",
     "text": [
      "5.5-inch 0.75\n",
      "iphones 0.72\n",
      "4.7-inch 0.71\n",
      "apple 0.68\n",
      "pre-orders 0.65\n",
      "smartphone 0.65\n",
      "large-screen 0.64\n",
      "handset 0.64\n",
      "ipad 0.64\n",
      "larger-screen 0.63\n"
     ]
    }
   ],
   "source": [
    "for i in model_en.most_similar(positive=[\"iphone\"]):\n",
    "    print i[0], \"%.2f\" % i[1]"
   ]
  },
  {
   "cell_type": "code",
   "execution_count": 14,
   "metadata": {
    "collapsed": false
   },
   "outputs": [
    {
     "data": {
      "text/plain": [
       "[('iphones', 0.5934760570526123),\n",
       " ('5.5-inch', 0.5904344916343689),\n",
       " ('4.7-inch', 0.5479762554168701),\n",
       " ('large-screen', 0.5393308401107788),\n",
       " ('larger-screen', 0.5148756504058838),\n",
       " ('pre-orders', 0.5132436156272888),\n",
       " ('apple', 0.5109103918075562),\n",
       " ('bigger-panelled', 0.5033820867538452),\n",
       " ('gadget', 0.4971838891506195),\n",
       " ('sell', 0.49604523181915283)]"
      ]
     },
     "execution_count": 14,
     "metadata": {},
     "output_type": "execute_result"
    }
   ],
   "source": [
    "model_en.most_similar(positive=[\"iphone\", \"buy\"])"
   ]
  },
  {
   "cell_type": "code",
   "execution_count": 35,
   "metadata": {
    "collapsed": false,
    "scrolled": true
   },
   "outputs": [
    {
     "data": {
      "text/plain": [
       "[('xiaomi', 0.6046007871627808),\n",
       " ('zte', 0.6014930009841919),\n",
       " ('lenovo', 0.5856536030769348),\n",
       " ('micromax', 0.4958611726760864),\n",
       " ('feature-rich', 0.49492067098617554),\n",
       " ('network-equipment', 0.48402899503707886),\n",
       " ('medison', 0.47935232520103455),\n",
       " ('galaxy', 0.4776231050491333),\n",
       " ('unseats', 0.4750278890132904),\n",
       " ('cyber-espionage', 0.4733196496963501)]"
      ]
     },
     "execution_count": 35,
     "metadata": {},
     "output_type": "execute_result"
    }
   ],
   "source": [
    "model_en.most_similar(positive=['smartphone', 'huawei'], negative=['iphone'])"
   ]
  },
  {
   "cell_type": "code",
   "execution_count": 57,
   "metadata": {
    "collapsed": false
   },
   "outputs": [
    {
     "name": "stdout",
     "output_type": "stream",
     "text": [
      "0 & acura & 0.636 & 0 & huawei & 0.636 \\\\\n",
      "1 & corolla & 0.588 & 1 & zte & 0.588 \\\\\n",
      "2 & camry & 0.571 & 2 & xiaomi & 0.571 \\\\\n",
      "3 & 2002-2005 & 0.570 & 3 & dell & 0.570 \\\\\n",
      "4 & sentra & 0.541 & 4 & handset & 0.541 \\\\\n",
      "5 & prius & 0.539 & 5 & smartphone & 0.539 \\\\\n",
      "6 & 2003-2005 & 0.537 & 6 & hannstar & 0.537 \\\\\n",
      "7 & sedan & 0.533 & 7 & thinkpad & 0.533 \\\\\n",
      "8 & mazda & 0.530 & 8 & tcl & 0.530 \\\\\n",
      "9 & altima & 0.524 & 9 & medison & 0.524 \\\\\n"
     ]
    }
   ],
   "source": [
    "a = model_en.most_similar(positive=[\"lexus\"])\n",
    "b = model_en.most_similar(positive=[\"lenovo\"])\n",
    "for i in range(10):\n",
    "    print i, \"&\", a[i][0], \"&\", \"%.3f\" % b[i][1],\"&\", i, \"&\", b[i][0], \"&\", \"%.3f\" % b[i][1], '\\\\\\\\'"
   ]
  },
  {
   "cell_type": "code",
   "execution_count": 77,
   "metadata": {
    "collapsed": false
   },
   "outputs": [
    {
     "name": "stdout",
     "output_type": "stream",
     "text": [
      "0 & ホンダ & 0.612 & 0 & PlayStation & 0.612 \\\\\n",
      "1 & トヨタ自動車 & 0.546 & 1 & エンタテインメント & 0.546 \\\\\n",
      "2 & 現代自動車グループ & 0.536 & 2 & ソニー・ピクチャーズ & 0.536 \\\\\n",
      "3 & クライスラー & 0.524 & 3 & ゲーム機 & 0.524 \\\\\n",
      "4 & 日産 & 0.519 & 4 & ネクサス & 0.519 \\\\\n",
      "5 & モーター & 0.511 & 5 & X-BOX & 0.511 \\\\\n",
      "6 & LEXUS & 0.506 & 6 & ばね & 0.506 \\\\\n",
      "7 & アキュラ & 0.493 & 7 & ウインドウズ & 0.493 \\\\\n",
      "8 & マツダ & 0.492 & 8 & 互換性 & 0.492 \\\\\n",
      "9 & フォード & 0.486 & 9 & アプリケーションソフト & 0.486 \\\\\n"
     ]
    }
   ],
   "source": [
    "a = model_jp.most_similar(positive=[\"トヨタ\"])\n",
    "b = model_jp.most_similar(positive=[\"ソニー\"])\n",
    "for i in range(10):\n",
    "    print i, \"&\", a[i][0], \"&\", \"%.3f\" % b[i][1],\"&\", i, \"&\", b[i][0], \"&\", \"%.3f\" % b[i][1], '\\\\\\\\'"
   ]
  },
  {
   "cell_type": "code",
   "execution_count": 30,
   "metadata": {
    "collapsed": false
   },
   "outputs": [
    {
     "data": {
      "text/plain": [
       "[('-11.5', 0.7525433301925659),\n",
       " ('mazda', 0.7447972893714905),\n",
       " ('-12.8', 0.7411115169525146),\n",
       " ('-15.9', 0.7346112728118896),\n",
       " ('nissan', 0.7342528700828552),\n",
       " ('-13.4', 0.7324211597442627),\n",
       " ('equinox', 0.7182392477989197),\n",
       " ('cr-v', 0.7170644998550415),\n",
       " ('-20.0', 0.7139949202537537),\n",
       " ('+19.5', 0.7129001617431641)]"
      ]
     },
     "execution_count": 30,
     "metadata": {},
     "output_type": "execute_result"
    }
   ],
   "source": [
    "model_en.most_similar(positive=['toyota', 'prius'], negative=[\"iphone\"])"
   ]
  },
  {
   "cell_type": "code",
   "execution_count": null,
   "metadata": {
    "collapsed": true
   },
   "outputs": [],
   "source": []
  }
 ],
 "metadata": {
  "kernelspec": {
   "display_name": "Python 2",
   "language": "python",
   "name": "python2"
  },
  "language_info": {
   "codemirror_mode": {
    "name": "ipython",
    "version": 2
   },
   "file_extension": ".py",
   "mimetype": "text/x-python",
   "name": "python",
   "nbconvert_exporter": "python",
   "pygments_lexer": "ipython2",
   "version": "2.7.12"
  }
 },
 "nbformat": 4,
 "nbformat_minor": 0
}
