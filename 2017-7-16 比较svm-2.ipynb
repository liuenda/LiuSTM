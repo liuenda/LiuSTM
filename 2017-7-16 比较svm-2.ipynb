{
 "cells": [
  {
   "cell_type": "code",
   "execution_count": 1,
   "metadata": {
    "collapsed": false,
    "scrolled": false
   },
   "outputs": [
    {
     "name": "stderr",
     "output_type": "stream",
     "text": [
      "Using Theano backend.\n",
      "WARNING (theano.sandbox.cuda): The cuda backend is deprecated and will be removed in the next release (v0.10).  Please switch to the gpuarray backend. You can get more information about how to switch at this URL:\n",
      " https://github.com/Theano/Theano/wiki/Converting-to-the-new-gpu-back-end%28gpuarray%29\n",
      "\n",
      "Using gpu device 0: GeForce GTX TITAN X (CNMeM is enabled with initial size: 20.0% of memory, cuDNN 4007)\n",
      "/home/M2015eliu/.pyenv/versions/anaconda2-4.1.1/lib/python2.7/site-packages/gensim/utils.py:1015: UserWarning: Pattern library is not installed, lemmatization won't be available.\n",
      "  warnings.warn(\"Pattern library is not installed, lemmatization won't be available.\")\n"
     ]
    },
    {
     "name": "stdout",
     "output_type": "stream",
     "text": [
      "maxlen 30 epoch 10 dim_lstm 200\n",
      "dim_Dense 800\n",
      "dropout_rate 0.0 , LSTM type: bi-lstm sum\n",
      "Activation function: ['relu', 'relu', 'relu']\n",
      "bias of y: -1\n",
      "loss_function: mse\n",
      "start: 0 end:\n",
      "------------------------------\n",
      "Reading english Data: 59999\n",
      "Reading english Data: 59999\n",
      "Merging the English and Japanes news dataframe...\n",
      "Drop the null line...\n",
      "False    59987\n",
      "True        12\n",
      "Name: en_article, dtype: int64\n"
     ]
    },
    {
     "name": "stderr",
     "output_type": "stream",
     "text": [
      "keras_title.py:406: SettingWithCopyWarning: \n",
      "A value is trying to be set on a copy of a slice from a DataFrame.\n",
      "Try using .loc[row_indexer,col_indexer] = value instead\n",
      "\n",
      "See the caveats in the documentation: http://pandas.pydata.org/pandas-docs/stable/indexing.html#indexing-view-versus-copy\n",
      "  df_pairs_sample['word2vec_en'] = df_pairs_sample['en_article'].apply(doc2vec_en)\n",
      "keras_title.py:407: SettingWithCopyWarning: \n",
      "A value is trying to be set on a copy of a slice from a DataFrame.\n",
      "Try using .loc[row_indexer,col_indexer] = value instead\n",
      "\n",
      "See the caveats in the documentation: http://pandas.pydata.org/pandas-docs/stable/indexing.html#indexing-view-versus-copy\n",
      "  df_pairs_sample['word2vec_jp'] = df_pairs_sample['jp_article'].apply(doc2vec_jp)\n",
      "keras_title.py:411: SettingWithCopyWarning: \n",
      "A value is trying to be set on a copy of a slice from a DataFrame.\n",
      "Try using .loc[row_indexer,col_indexer] = value instead\n",
      "\n",
      "See the caveats in the documentation: http://pandas.pydata.org/pandas-docs/stable/indexing.html#indexing-view-versus-copy\n",
      "  df_pairs_sample['padding_en'] = df_pairs_sample['word2vec_en'].apply(padding)\n",
      "keras_title.py:412: SettingWithCopyWarning: \n",
      "A value is trying to be set on a copy of a slice from a DataFrame.\n",
      "Try using .loc[row_indexer,col_indexer] = value instead\n",
      "\n",
      "See the caveats in the documentation: http://pandas.pydata.org/pandas-docs/stable/indexing.html#indexing-view-versus-copy\n",
      "  df_pairs_sample['padding_jp'] = df_pairs_sample['word2vec_jp'].apply(padding)\n"
     ]
    },
    {
     "name": "stdout",
     "output_type": "stream",
     "text": [
      "C value = 1 position: [1711]\n"
     ]
    },
    {
     "name": "stderr",
     "output_type": "stream",
     "text": [
      "keras_title.py:496: UserWarning: Update your `Model` call to the Keras 2 API: `Model(outputs=Elemwise{a..., inputs=[/main_inp...)`\n",
      "  model_lstm2 = Model(input=[input_1, input_2], output=main_output)\n"
     ]
    },
    {
     "name": "stdout",
     "output_type": "stream",
     "text": [
      "____________________________________________________________________________________________________\n",
      "Layer (type)                     Output Shape          Param #     Connected to                     \n",
      "====================================================================================================\n",
      "main_input_1 (InputLayer)        (None, 30, 200)       0                                            \n",
      "____________________________________________________________________________________________________\n",
      "main_input_2 (InputLayer)        (None, 30, 200)       0                                            \n",
      "____________________________________________________________________________________________________\n",
      "bidirectional_1 (Bidirectional)  (None, 200)           641600      main_input_1[0][0]               \n",
      "____________________________________________________________________________________________________\n",
      "bidirectional_2 (Bidirectional)  (None, 200)           641600      main_input_2[0][0]               \n",
      "____________________________________________________________________________________________________\n",
      "concatenate_1 (Concatenate)      (None, 400)           0           bidirectional_1[0][0]            \n",
      "                                                                   bidirectional_2[0][0]            \n",
      "____________________________________________________________________________________________________\n",
      "dense_1 (Dense)                  (None, 800)           320800      concatenate_1[0][0]              \n",
      "____________________________________________________________________________________________________\n",
      "dropout_1 (Dropout)              (None, 800)           0           dense_1[0][0]                    \n",
      "____________________________________________________________________________________________________\n",
      "main_output (Dense)              (None, 1)             801         dropout_1[0][0]                  \n",
      "====================================================================================================\n",
      "Total params: 1,604,801\n",
      "Trainable params: 1,604,801\n",
      "Non-trainable params: 0\n",
      "____________________________________________________________________________________________________\n",
      "None\n",
      "Train on 8000 samples, validate on 2000 samples\n",
      "Epoch 1/1\n",
      "8000/8000 [==============================] - 22s - loss: 0.5981 - val_loss: 0.4991\n"
     ]
    },
    {
     "name": "stderr",
     "output_type": "stream",
     "text": [
      "keras_title.py:130: UserWarning: Update your `Model` call to the Keras 2 API: `Model(outputs=[Elemwise{..., inputs=[/main_inp...)`\n",
      "  model_1 = Model(input=[input_1, input_2], output=[lstm_out_1, lstm_out_2])\n",
      "keras_title.py:182: UserWarning: Update your `Model` call to the Keras 2 API: `Model(outputs=Elemwise{a..., inputs=[/lstm1, /...)`\n",
      "  model_2 = Model(input=[input_1, input_2], output=main_output)\n"
     ]
    },
    {
     "name": "stdout",
     "output_type": "stream",
     "text": [
      "TOP1 29\n",
      "TOP5 144\n",
      "TOP10 263\n",
      "Train on 8000 samples, validate on 2000 samples\n",
      "Epoch 2/2\n",
      "8000/8000 [==============================] - 22s - loss: 0.3596 - val_loss: 0.4362\n",
      "TOP1 50\n",
      "TOP5 216\n",
      "TOP10 355\n",
      "Train on 8000 samples, validate on 2000 samples\n",
      "Epoch 3/3\n",
      "8000/8000 [==============================] - 23s - loss: 0.2594 - val_loss: 0.4260\n",
      "TOP1 46\n",
      "TOP5 250\n",
      "TOP10 383\n",
      "Train on 8000 samples, validate on 2000 samples\n",
      "Epoch 4/4\n",
      "8000/8000 [==============================] - 23s - loss: 0.2004 - val_loss: 0.3986\n",
      "TOP1 54\n",
      "TOP5 296\n",
      "TOP10 455\n",
      "Train on 8000 samples, validate on 2000 samples\n",
      "Epoch 5/5\n",
      "8000/8000 [==============================] - 22s - loss: 0.1600 - val_loss: 0.3916\n",
      "TOP1 59\n",
      "TOP5 277\n",
      "TOP10 454\n",
      "Train on 8000 samples, validate on 2000 samples\n",
      "Epoch 6/6\n",
      "8000/8000 [==============================] - 23s - loss: 0.1270 - val_loss: 0.3922\n",
      "TOP1 60\n",
      "TOP5 313\n",
      "TOP10 413\n",
      "Train on 8000 samples, validate on 2000 samples\n",
      "Epoch 7/7\n",
      "8000/8000 [==============================] - 23s - loss: 0.1037 - val_loss: 0.3999\n",
      "TOP1 61\n",
      "TOP5 286\n",
      "TOP10 448\n",
      "Train on 8000 samples, validate on 2000 samples\n",
      "Epoch 8/8\n",
      "8000/8000 [==============================] - 23s - loss: 0.0788 - val_loss: 0.3974\n",
      "TOP1 55\n",
      "TOP5 278\n",
      "TOP10 446\n",
      "Train on 8000 samples, validate on 2000 samples\n",
      "Epoch 9/9\n",
      "8000/8000 [==============================] - 23s - loss: 0.0647 - val_loss: 0.4027\n",
      "TOP1 56\n",
      "TOP5 303\n",
      "TOP10 446\n",
      "Train on 8000 samples, validate on 2000 samples\n",
      "Epoch 10/10\n",
      "8000/8000 [==============================] - 23s - loss: 0.0514 - val_loss: 0.4107\n",
      "TOP1 66\n",
      "TOP5 296\n",
      "TOP10 429\n",
      "TOP1 66\n",
      "TOP5 296\n",
      "TOP10 429\n"
     ]
    }
   ],
   "source": [
    "run keras_title.py"
   ]
  },
  {
   "cell_type": "code",
   "execution_count": 4,
   "metadata": {
    "collapsed": false,
    "scrolled": false
   },
   "outputs": [
    {
     "name": "stdout",
     "output_type": "stream",
     "text": [
      "maxlen 30 epoch 10 dim_lstm 200\n",
      "dim_Dense 800\n",
      "dropout_rate 0.0 , LSTM type: bi-lstm concat\n",
      "Activation function: ['relu', 'relu', 'relu']\n",
      "bias of y: -1\n",
      "loss_function: mse\n",
      "start: 0 end:\n",
      "------------------------------\n",
      "Reading english Data: 59999\n",
      "Reading english Data: 59999\n",
      "Merging the English and Japanes news dataframe...\n",
      "Drop the null line...\n",
      "False    59987\n",
      "True        12\n",
      "Name: en_article, dtype: int64\n"
     ]
    },
    {
     "name": "stderr",
     "output_type": "stream",
     "text": [
      "keras_title.py:406: SettingWithCopyWarning: \n",
      "A value is trying to be set on a copy of a slice from a DataFrame.\n",
      "Try using .loc[row_indexer,col_indexer] = value instead\n",
      "\n",
      "See the caveats in the documentation: http://pandas.pydata.org/pandas-docs/stable/indexing.html#indexing-view-versus-copy\n",
      "  df_pairs_sample['word2vec_en'] = df_pairs_sample['en_article'].apply(doc2vec_en)\n",
      "keras_title.py:407: SettingWithCopyWarning: \n",
      "A value is trying to be set on a copy of a slice from a DataFrame.\n",
      "Try using .loc[row_indexer,col_indexer] = value instead\n",
      "\n",
      "See the caveats in the documentation: http://pandas.pydata.org/pandas-docs/stable/indexing.html#indexing-view-versus-copy\n",
      "  df_pairs_sample['word2vec_jp'] = df_pairs_sample['jp_article'].apply(doc2vec_jp)\n",
      "keras_title.py:411: SettingWithCopyWarning: \n",
      "A value is trying to be set on a copy of a slice from a DataFrame.\n",
      "Try using .loc[row_indexer,col_indexer] = value instead\n",
      "\n",
      "See the caveats in the documentation: http://pandas.pydata.org/pandas-docs/stable/indexing.html#indexing-view-versus-copy\n",
      "  df_pairs_sample['padding_en'] = df_pairs_sample['word2vec_en'].apply(padding)\n",
      "keras_title.py:412: SettingWithCopyWarning: \n",
      "A value is trying to be set on a copy of a slice from a DataFrame.\n",
      "Try using .loc[row_indexer,col_indexer] = value instead\n",
      "\n",
      "See the caveats in the documentation: http://pandas.pydata.org/pandas-docs/stable/indexing.html#indexing-view-versus-copy\n",
      "  df_pairs_sample['padding_jp'] = df_pairs_sample['word2vec_jp'].apply(padding)\n"
     ]
    },
    {
     "name": "stdout",
     "output_type": "stream",
     "text": [
      "C value = 3 position: [192, 2076, 3430]\n"
     ]
    },
    {
     "name": "stderr",
     "output_type": "stream",
     "text": [
      "keras_title.py:496: UserWarning: Update your `Model` call to the Keras 2 API: `Model(outputs=Elemwise{a..., inputs=[/main_inp...)`\n",
      "  model_lstm2 = Model(input=[input_1, input_2], output=main_output)\n"
     ]
    },
    {
     "name": "stdout",
     "output_type": "stream",
     "text": [
      "____________________________________________________________________________________________________\n",
      "Layer (type)                     Output Shape          Param #     Connected to                     \n",
      "====================================================================================================\n",
      "main_input_1 (InputLayer)        (None, 30, 200)       0                                            \n",
      "____________________________________________________________________________________________________\n",
      "main_input_2 (InputLayer)        (None, 30, 200)       0                                            \n",
      "____________________________________________________________________________________________________\n",
      "bidirectional_27 (Bidirectional) (None, 400)           641600      main_input_1[0][0]               \n",
      "____________________________________________________________________________________________________\n",
      "bidirectional_28 (Bidirectional) (None, 400)           641600      main_input_2[0][0]               \n",
      "____________________________________________________________________________________________________\n",
      "concatenate_14 (Concatenate)     (None, 800)           0           bidirectional_27[0][0]           \n",
      "                                                                   bidirectional_28[0][0]           \n",
      "____________________________________________________________________________________________________\n",
      "dense_14 (Dense)                 (None, 800)           640800      concatenate_14[0][0]             \n",
      "____________________________________________________________________________________________________\n",
      "dropout_14 (Dropout)             (None, 800)           0           dense_14[0][0]                   \n",
      "____________________________________________________________________________________________________\n",
      "main_output (Dense)              (None, 1)             801         dropout_14[0][0]                 \n",
      "====================================================================================================\n",
      "Total params: 1,924,801\n",
      "Trainable params: 1,924,801\n",
      "Non-trainable params: 0\n",
      "____________________________________________________________________________________________________\n",
      "None\n",
      "Train on 8000 samples, validate on 2000 samples\n",
      "Epoch 1/1\n",
      "8000/8000 [==============================] - 23s - loss: 0.6069 - val_loss: 0.5287\n"
     ]
    },
    {
     "name": "stderr",
     "output_type": "stream",
     "text": [
      "keras_title.py:130: UserWarning: Update your `Model` call to the Keras 2 API: `Model(outputs=[Join.0, J..., inputs=[/main_inp...)`\n",
      "  model_1 = Model(input=[input_1, input_2], output=[lstm_out_1, lstm_out_2])\n",
      "keras_title.py:182: UserWarning: Update your `Model` call to the Keras 2 API: `Model(outputs=Elemwise{a..., inputs=[/lstm1, /...)`\n",
      "  model_2 = Model(input=[input_1, input_2], output=main_output)\n"
     ]
    },
    {
     "name": "stdout",
     "output_type": "stream",
     "text": [
      "TOP1 31\n",
      "TOP5 154\n",
      "TOP10 269\n",
      "Train on 8000 samples, validate on 2000 samples\n",
      "Epoch 2/2\n",
      "8000/8000 [==============================] - 23s - loss: 0.3484 - val_loss: 0.5073\n",
      "TOP1 37\n",
      "TOP5 205\n",
      "TOP10 308\n",
      "Train on 8000 samples, validate on 2000 samples\n",
      "Epoch 3/3\n",
      "8000/8000 [==============================] - 23s - loss: 0.2497 - val_loss: 0.4312\n",
      "TOP1 46\n",
      "TOP5 266\n",
      "TOP10 394\n",
      "Train on 8000 samples, validate on 2000 samples\n",
      "Epoch 4/4\n",
      "8000/8000 [==============================] - 23s - loss: 0.1910 - val_loss: 0.4615\n",
      "TOP1 54\n",
      "TOP5 240\n",
      "TOP10 380\n",
      "Train on 8000 samples, validate on 2000 samples\n",
      "Epoch 5/5\n",
      "8000/8000 [==============================] - 23s - loss: 0.1482 - val_loss: 0.4495\n",
      "TOP1 53\n",
      "TOP5 212\n",
      "TOP10 346\n",
      "Train on 8000 samples, validate on 2000 samples\n",
      "Epoch 6/6\n",
      "8000/8000 [==============================] - 23s - loss: 0.1229 - val_loss: 0.4515\n",
      "TOP1 55\n",
      "TOP5 241\n",
      "TOP10 386\n",
      "Train on 8000 samples, validate on 2000 samples\n",
      "Epoch 7/7\n",
      "8000/8000 [==============================] - 23s - loss: 0.1021 - val_loss: 0.4348\n",
      "TOP1 44\n",
      "TOP5 246\n",
      "TOP10 386\n",
      "Train on 8000 samples, validate on 2000 samples\n",
      "Epoch 8/8\n",
      "8000/8000 [==============================] - 23s - loss: 0.0773 - val_loss: 0.4381\n",
      "TOP1 54\n",
      "TOP5 264\n",
      "TOP10 395\n",
      "Train on 8000 samples, validate on 2000 samples\n",
      "Epoch 9/9\n",
      "8000/8000 [==============================] - 23s - loss: 0.0637 - val_loss: 0.4443\n",
      "TOP1 51\n",
      "TOP5 263\n",
      "TOP10 399\n",
      "Train on 8000 samples, validate on 2000 samples\n",
      "Epoch 10/10\n",
      "8000/8000 [==============================] - 23s - loss: 0.0532 - val_loss: 0.4957\n",
      "TOP1 52\n",
      "TOP5 267\n",
      "TOP10 406\n",
      "TOP1 52\n",
      "TOP5 267\n",
      "TOP10 406\n"
     ]
    }
   ],
   "source": [
    "run keras_title.py"
   ]
  },
  {
   "cell_type": "code",
   "execution_count": 5,
   "metadata": {
    "collapsed": false,
    "scrolled": false
   },
   "outputs": [
    {
     "name": "stdout",
     "output_type": "stream",
     "text": [
      "maxlen 30 epoch 10 dim_lstm 200\n",
      "dim_Dense 800\n",
      "dropout_rate 0.0 , LSTM type: bi-lstm concat\n",
      "Activation function: ['relu', 'relu', 'relu']\n",
      "bias of y: 0\n",
      "loss_function: mse\n",
      "start: 0 end:\n",
      "------------------------------\n",
      "Reading english Data: 59999\n",
      "Reading english Data: 59999\n",
      "Merging the English and Japanes news dataframe...\n",
      "Drop the null line...\n",
      "False    59987\n",
      "True        12\n",
      "Name: en_article, dtype: int64\n"
     ]
    },
    {
     "name": "stderr",
     "output_type": "stream",
     "text": [
      "keras_title.py:406: SettingWithCopyWarning: \n",
      "A value is trying to be set on a copy of a slice from a DataFrame.\n",
      "Try using .loc[row_indexer,col_indexer] = value instead\n",
      "\n",
      "See the caveats in the documentation: http://pandas.pydata.org/pandas-docs/stable/indexing.html#indexing-view-versus-copy\n",
      "  df_pairs_sample['word2vec_en'] = df_pairs_sample['en_article'].apply(doc2vec_en)\n",
      "keras_title.py:407: SettingWithCopyWarning: \n",
      "A value is trying to be set on a copy of a slice from a DataFrame.\n",
      "Try using .loc[row_indexer,col_indexer] = value instead\n",
      "\n",
      "See the caveats in the documentation: http://pandas.pydata.org/pandas-docs/stable/indexing.html#indexing-view-versus-copy\n",
      "  df_pairs_sample['word2vec_jp'] = df_pairs_sample['jp_article'].apply(doc2vec_jp)\n",
      "keras_title.py:411: SettingWithCopyWarning: \n",
      "A value is trying to be set on a copy of a slice from a DataFrame.\n",
      "Try using .loc[row_indexer,col_indexer] = value instead\n",
      "\n",
      "See the caveats in the documentation: http://pandas.pydata.org/pandas-docs/stable/indexing.html#indexing-view-versus-copy\n",
      "  df_pairs_sample['padding_en'] = df_pairs_sample['word2vec_en'].apply(padding)\n",
      "keras_title.py:412: SettingWithCopyWarning: \n",
      "A value is trying to be set on a copy of a slice from a DataFrame.\n",
      "Try using .loc[row_indexer,col_indexer] = value instead\n",
      "\n",
      "See the caveats in the documentation: http://pandas.pydata.org/pandas-docs/stable/indexing.html#indexing-view-versus-copy\n",
      "  df_pairs_sample['padding_jp'] = df_pairs_sample['word2vec_jp'].apply(padding)\n"
     ]
    },
    {
     "name": "stdout",
     "output_type": "stream",
     "text": [
      "C value = 3 position: [1284, 3380, 4280]\n"
     ]
    },
    {
     "name": "stderr",
     "output_type": "stream",
     "text": [
      "keras_title.py:496: UserWarning: Update your `Model` call to the Keras 2 API: `Model(outputs=Elemwise{a..., inputs=[/main_inp...)`\n",
      "  model_lstm2 = Model(input=[input_1, input_2], output=main_output)\n"
     ]
    },
    {
     "name": "stdout",
     "output_type": "stream",
     "text": [
      "____________________________________________________________________________________________________\n",
      "Layer (type)                     Output Shape          Param #     Connected to                     \n",
      "====================================================================================================\n",
      "main_input_1 (InputLayer)        (None, 30, 200)       0                                            \n",
      "____________________________________________________________________________________________________\n",
      "main_input_2 (InputLayer)        (None, 30, 200)       0                                            \n",
      "____________________________________________________________________________________________________\n",
      "bidirectional_51 (Bidirectional) (None, 400)           641600      main_input_1[0][0]               \n",
      "____________________________________________________________________________________________________\n",
      "bidirectional_52 (Bidirectional) (None, 400)           641600      main_input_2[0][0]               \n",
      "____________________________________________________________________________________________________\n",
      "concatenate_26 (Concatenate)     (None, 800)           0           bidirectional_51[0][0]           \n",
      "                                                                   bidirectional_52[0][0]           \n",
      "____________________________________________________________________________________________________\n",
      "dense_26 (Dense)                 (None, 800)           640800      concatenate_26[0][0]             \n",
      "____________________________________________________________________________________________________\n",
      "dropout_26 (Dropout)             (None, 800)           0           dense_26[0][0]                   \n",
      "____________________________________________________________________________________________________\n",
      "main_output (Dense)              (None, 1)             801         dropout_26[0][0]                 \n",
      "====================================================================================================\n",
      "Total params: 1,924,801\n",
      "Trainable params: 1,924,801\n",
      "Non-trainable params: 0\n",
      "____________________________________________________________________________________________________\n",
      "None\n",
      "Train on 8000 samples, validate on 2000 samples\n",
      "Epoch 1/1\n",
      "8000/8000 [==============================] - 23s - loss: 0.1608 - val_loss: 0.1346\n"
     ]
    },
    {
     "name": "stderr",
     "output_type": "stream",
     "text": [
      "keras_title.py:130: UserWarning: Update your `Model` call to the Keras 2 API: `Model(outputs=[Join.0, J..., inputs=[/main_inp...)`\n",
      "  model_1 = Model(input=[input_1, input_2], output=[lstm_out_1, lstm_out_2])\n",
      "keras_title.py:182: UserWarning: Update your `Model` call to the Keras 2 API: `Model(outputs=Elemwise{a..., inputs=[/lstm1, /...)`\n",
      "  model_2 = Model(input=[input_1, input_2], output=main_output)\n"
     ]
    },
    {
     "name": "stdout",
     "output_type": "stream",
     "text": [
      "TOP1 26\n",
      "TOP5 167\n",
      "TOP10 252\n",
      "Train on 8000 samples, validate on 2000 samples\n",
      "Epoch 2/2\n",
      "8000/8000 [==============================] - 23s - loss: 0.0856 - val_loss: 0.1265\n",
      "TOP1 41\n",
      "TOP5 270\n",
      "TOP10 389\n",
      "Train on 8000 samples, validate on 2000 samples\n",
      "Epoch 3/3\n",
      "8000/8000 [==============================] - 23s - loss: 0.0612 - val_loss: 0.1133\n",
      "TOP1 60\n",
      "TOP5 259\n",
      "TOP10 382\n",
      "Train on 8000 samples, validate on 2000 samples\n",
      "Epoch 4/4\n",
      "8000/8000 [==============================] - 23s - loss: 0.0476 - val_loss: 0.1217\n",
      "TOP1 43\n",
      "TOP5 288\n",
      "TOP10 415\n",
      "Train on 8000 samples, validate on 2000 samples\n",
      "Epoch 5/5\n",
      "8000/8000 [==============================] - 23s - loss: 0.0358 - val_loss: 0.1214\n",
      "TOP1 56\n",
      "TOP5 275\n",
      "TOP10 416\n",
      "Train on 8000 samples, validate on 2000 samples\n",
      "Epoch 6/6\n",
      "8000/8000 [==============================] - 23s - loss: 0.0282 - val_loss: 0.1177\n",
      "TOP1 59\n",
      "TOP5 292\n",
      "TOP10 441\n",
      "Train on 8000 samples, validate on 2000 samples\n",
      "Epoch 7/7\n",
      "8000/8000 [==============================] - 23s - loss: 0.0226 - val_loss: 0.1197\n",
      "TOP1 61\n",
      "TOP5 293\n",
      "TOP10 411\n",
      "Train on 8000 samples, validate on 2000 samples\n",
      "Epoch 8/8\n",
      "8000/8000 [==============================] - 23s - loss: 0.0186 - val_loss: 0.1168\n",
      "TOP1 58\n",
      "TOP5 290\n",
      "TOP10 437\n",
      "Train on 8000 samples, validate on 2000 samples\n",
      "Epoch 9/9\n",
      "8000/8000 [==============================] - 23s - loss: 0.0157 - val_loss: 0.1253\n",
      "TOP1 63\n",
      "TOP5 287\n",
      "TOP10 444\n",
      "Train on 8000 samples, validate on 2000 samples\n",
      "Epoch 10/10\n",
      "8000/8000 [==============================] - 23s - loss: 0.0144 - val_loss: 0.1337\n",
      "TOP1 55\n",
      "TOP5 285\n",
      "TOP10 429\n",
      "TOP1 55\n",
      "TOP5 285\n",
      "TOP10 429\n"
     ]
    }
   ],
   "source": [
    "run keras_title.py"
   ]
  },
  {
   "cell_type": "code",
   "execution_count": 6,
   "metadata": {
    "collapsed": false,
    "scrolled": false
   },
   "outputs": [
    {
     "name": "stdout",
     "output_type": "stream",
     "text": [
      "maxlen 30 epoch 10 dim_lstm 200\n",
      "dim_Dense 800\n",
      "dropout_rate 0.0 , LSTM type: bi-lstm sum\n",
      "Activation function: ['relu', 'relu', 'relu']\n",
      "bias of y: 0\n",
      "loss_function: mse\n",
      "start: 0 end:\n",
      "------------------------------\n",
      "Reading english Data: 59999\n",
      "Reading english Data: 59999\n",
      "Merging the English and Japanes news dataframe...\n",
      "Drop the null line...\n",
      "False    59987\n",
      "True        12\n",
      "Name: en_article, dtype: int64\n"
     ]
    },
    {
     "name": "stderr",
     "output_type": "stream",
     "text": [
      "keras_title.py:406: SettingWithCopyWarning: \n",
      "A value is trying to be set on a copy of a slice from a DataFrame.\n",
      "Try using .loc[row_indexer,col_indexer] = value instead\n",
      "\n",
      "See the caveats in the documentation: http://pandas.pydata.org/pandas-docs/stable/indexing.html#indexing-view-versus-copy\n",
      "  df_pairs_sample['word2vec_en'] = df_pairs_sample['en_article'].apply(doc2vec_en)\n",
      "keras_title.py:407: SettingWithCopyWarning: \n",
      "A value is trying to be set on a copy of a slice from a DataFrame.\n",
      "Try using .loc[row_indexer,col_indexer] = value instead\n",
      "\n",
      "See the caveats in the documentation: http://pandas.pydata.org/pandas-docs/stable/indexing.html#indexing-view-versus-copy\n",
      "  df_pairs_sample['word2vec_jp'] = df_pairs_sample['jp_article'].apply(doc2vec_jp)\n",
      "keras_title.py:411: SettingWithCopyWarning: \n",
      "A value is trying to be set on a copy of a slice from a DataFrame.\n",
      "Try using .loc[row_indexer,col_indexer] = value instead\n",
      "\n",
      "See the caveats in the documentation: http://pandas.pydata.org/pandas-docs/stable/indexing.html#indexing-view-versus-copy\n",
      "  df_pairs_sample['padding_en'] = df_pairs_sample['word2vec_en'].apply(padding)\n",
      "keras_title.py:412: SettingWithCopyWarning: \n",
      "A value is trying to be set on a copy of a slice from a DataFrame.\n",
      "Try using .loc[row_indexer,col_indexer] = value instead\n",
      "\n",
      "See the caveats in the documentation: http://pandas.pydata.org/pandas-docs/stable/indexing.html#indexing-view-versus-copy\n",
      "  df_pairs_sample['padding_jp'] = df_pairs_sample['word2vec_jp'].apply(padding)\n"
     ]
    },
    {
     "name": "stdout",
     "output_type": "stream",
     "text": [
      "C value = 3 position: [2404, 3398, 4547]\n"
     ]
    },
    {
     "name": "stderr",
     "output_type": "stream",
     "text": [
      "keras_title.py:496: UserWarning: Update your `Model` call to the Keras 2 API: `Model(outputs=Elemwise{a..., inputs=[/main_inp...)`\n",
      "  model_lstm2 = Model(input=[input_1, input_2], output=main_output)\n"
     ]
    },
    {
     "name": "stdout",
     "output_type": "stream",
     "text": [
      "____________________________________________________________________________________________________\n",
      "Layer (type)                     Output Shape          Param #     Connected to                     \n",
      "====================================================================================================\n",
      "main_input_1 (InputLayer)        (None, 30, 200)       0                                            \n",
      "____________________________________________________________________________________________________\n",
      "main_input_2 (InputLayer)        (None, 30, 200)       0                                            \n",
      "____________________________________________________________________________________________________\n",
      "bidirectional_75 (Bidirectional) (None, 200)           641600      main_input_1[0][0]               \n",
      "____________________________________________________________________________________________________\n",
      "bidirectional_76 (Bidirectional) (None, 200)           641600      main_input_2[0][0]               \n",
      "____________________________________________________________________________________________________\n",
      "concatenate_38 (Concatenate)     (None, 400)           0           bidirectional_75[0][0]           \n",
      "                                                                   bidirectional_76[0][0]           \n",
      "____________________________________________________________________________________________________\n",
      "dense_38 (Dense)                 (None, 800)           320800      concatenate_38[0][0]             \n",
      "____________________________________________________________________________________________________\n",
      "dropout_38 (Dropout)             (None, 800)           0           dense_38[0][0]                   \n",
      "____________________________________________________________________________________________________\n",
      "main_output (Dense)              (None, 1)             801         dropout_38[0][0]                 \n",
      "====================================================================================================\n",
      "Total params: 1,604,801\n",
      "Trainable params: 1,604,801\n",
      "Non-trainable params: 0\n",
      "____________________________________________________________________________________________________\n",
      "None\n",
      "Train on 8000 samples, validate on 2000 samples\n",
      "Epoch 1/1\n",
      "8000/8000 [==============================] - 23s - loss: 0.1611 - val_loss: 0.1706\n"
     ]
    },
    {
     "name": "stderr",
     "output_type": "stream",
     "text": [
      "keras_title.py:130: UserWarning: Update your `Model` call to the Keras 2 API: `Model(outputs=[Elemwise{..., inputs=[/main_inp...)`\n",
      "  model_1 = Model(input=[input_1, input_2], output=[lstm_out_1, lstm_out_2])\n",
      "keras_title.py:182: UserWarning: Update your `Model` call to the Keras 2 API: `Model(outputs=Elemwise{a..., inputs=[/lstm1, /...)`\n",
      "  model_2 = Model(input=[input_1, input_2], output=main_output)\n"
     ]
    },
    {
     "name": "stdout",
     "output_type": "stream",
     "text": [
      "TOP1 26\n",
      "TOP5 153\n",
      "TOP10 239\n",
      "Train on 8000 samples, validate on 2000 samples\n",
      "Epoch 2/2\n",
      "8000/8000 [==============================] - 23s - loss: 0.0829 - val_loss: 0.1149\n",
      "TOP1 56\n",
      "TOP5 266\n",
      "TOP10 401\n",
      "Train on 8000 samples, validate on 2000 samples\n",
      "Epoch 3/3\n",
      "8000/8000 [==============================] - 23s - loss: 0.0582 - val_loss: 0.1140\n",
      "TOP1 65\n",
      "TOP5 303\n",
      "TOP10 430\n",
      "Train on 8000 samples, validate on 2000 samples\n",
      "Epoch 4/4\n",
      "8000/8000 [==============================] - 23s - loss: 0.0435 - val_loss: 0.1117\n",
      "TOP1 54\n",
      "TOP5 282\n",
      "TOP10 440\n",
      "Train on 8000 samples, validate on 2000 samples\n",
      "Epoch 5/5\n",
      "8000/8000 [==============================] - 23s - loss: 0.0338 - val_loss: 0.1114\n",
      "TOP1 81\n",
      "TOP5 312\n",
      "TOP10 482\n",
      "Train on 8000 samples, validate on 2000 samples\n",
      "Epoch 6/6\n",
      "8000/8000 [==============================] - 23s - loss: 0.0260 - val_loss: 0.1171\n",
      "TOP1 65\n",
      "TOP5 309\n",
      "TOP10 455\n",
      "Train on 8000 samples, validate on 2000 samples\n",
      "Epoch 7/7\n",
      "8000/8000 [==============================] - 23s - loss: 0.0212 - val_loss: 0.1131\n",
      "TOP1 67\n",
      "TOP5 323\n",
      "TOP10 441\n",
      "Train on 8000 samples, validate on 2000 samples\n",
      "Epoch 8/8\n",
      "8000/8000 [==============================] - 23s - loss: 0.0169 - val_loss: 0.1159\n",
      "TOP1 64\n",
      "TOP5 316\n",
      "TOP10 447\n",
      "Train on 8000 samples, validate on 2000 samples\n",
      "Epoch 9/9\n",
      "8000/8000 [==============================] - 23s - loss: 0.0139 - val_loss: 0.1160\n",
      "TOP1 70\n",
      "TOP5 324\n",
      "TOP10 448\n",
      "Train on 8000 samples, validate on 2000 samples\n",
      "Epoch 10/10\n",
      "8000/8000 [==============================] - 23s - loss: 0.0118 - val_loss: 0.1180\n",
      "TOP1 88\n",
      "TOP5 328\n",
      "TOP10 459\n",
      "TOP1 88\n",
      "TOP5 328\n",
      "TOP10 459\n"
     ]
    }
   ],
   "source": [
    "run keras_title.py"
   ]
  },
  {
   "cell_type": "code",
   "execution_count": 8,
   "metadata": {
    "collapsed": false
   },
   "outputs": [
    {
     "name": "stdout",
     "output_type": "stream",
     "text": [
      "maxlen 30 epoch 10 dim_lstm 200\n",
      "dim_Dense 800\n",
      "dropout_rate 0.0 , LSTM type: bi-lstm mul\n",
      "Activation function: ['relu', 'relu', 'relu']\n",
      "bias of y: 0\n",
      "loss_function: mse\n",
      "start: 0 end:\n",
      "------------------------------\n",
      "Reading english Data: 59999\n",
      "Reading english Data: 59999\n",
      "Merging the English and Japanes news dataframe...\n",
      "Drop the null line...\n",
      "False    59987\n",
      "True        12\n",
      "Name: en_article, dtype: int64\n"
     ]
    },
    {
     "name": "stderr",
     "output_type": "stream",
     "text": [
      "keras_title.py:406: SettingWithCopyWarning: \n",
      "A value is trying to be set on a copy of a slice from a DataFrame.\n",
      "Try using .loc[row_indexer,col_indexer] = value instead\n",
      "\n",
      "See the caveats in the documentation: http://pandas.pydata.org/pandas-docs/stable/indexing.html#indexing-view-versus-copy\n",
      "  df_pairs_sample['word2vec_en'] = df_pairs_sample['en_article'].apply(doc2vec_en)\n",
      "keras_title.py:407: SettingWithCopyWarning: \n",
      "A value is trying to be set on a copy of a slice from a DataFrame.\n",
      "Try using .loc[row_indexer,col_indexer] = value instead\n",
      "\n",
      "See the caveats in the documentation: http://pandas.pydata.org/pandas-docs/stable/indexing.html#indexing-view-versus-copy\n",
      "  df_pairs_sample['word2vec_jp'] = df_pairs_sample['jp_article'].apply(doc2vec_jp)\n",
      "keras_title.py:411: SettingWithCopyWarning: \n",
      "A value is trying to be set on a copy of a slice from a DataFrame.\n",
      "Try using .loc[row_indexer,col_indexer] = value instead\n",
      "\n",
      "See the caveats in the documentation: http://pandas.pydata.org/pandas-docs/stable/indexing.html#indexing-view-versus-copy\n",
      "  df_pairs_sample['padding_en'] = df_pairs_sample['word2vec_en'].apply(padding)\n",
      "keras_title.py:412: SettingWithCopyWarning: \n",
      "A value is trying to be set on a copy of a slice from a DataFrame.\n",
      "Try using .loc[row_indexer,col_indexer] = value instead\n",
      "\n",
      "See the caveats in the documentation: http://pandas.pydata.org/pandas-docs/stable/indexing.html#indexing-view-versus-copy\n",
      "  df_pairs_sample['padding_jp'] = df_pairs_sample['word2vec_jp'].apply(padding)\n"
     ]
    },
    {
     "name": "stdout",
     "output_type": "stream",
     "text": [
      "C value = 8 position: [883, 1001, 1431, 2653, 4141, 4274, 4407, 4809]\n"
     ]
    },
    {
     "name": "stderr",
     "output_type": "stream",
     "text": [
      "keras_title.py:496: UserWarning: Update your `Model` call to the Keras 2 API: `Model(outputs=Elemwise{a..., inputs=[/main_inp...)`\n",
      "  model_lstm2 = Model(input=[input_1, input_2], output=main_output)\n"
     ]
    },
    {
     "name": "stdout",
     "output_type": "stream",
     "text": [
      "____________________________________________________________________________________________________\n",
      "Layer (type)                     Output Shape          Param #     Connected to                     \n",
      "====================================================================================================\n",
      "main_input_1 (InputLayer)        (None, 30, 200)       0                                            \n",
      "____________________________________________________________________________________________________\n",
      "main_input_2 (InputLayer)        (None, 30, 200)       0                                            \n",
      "____________________________________________________________________________________________________\n",
      "bidirectional_107 (Bidirectional (None, 200)           641600      main_input_1[0][0]               \n",
      "____________________________________________________________________________________________________\n",
      "bidirectional_108 (Bidirectional (None, 200)           641600      main_input_2[0][0]               \n",
      "____________________________________________________________________________________________________\n",
      "concatenate_54 (Concatenate)     (None, 400)           0           bidirectional_107[0][0]          \n",
      "                                                                   bidirectional_108[0][0]          \n",
      "____________________________________________________________________________________________________\n",
      "dense_54 (Dense)                 (None, 800)           320800      concatenate_54[0][0]             \n",
      "____________________________________________________________________________________________________\n",
      "dropout_54 (Dropout)             (None, 800)           0           dense_54[0][0]                   \n",
      "____________________________________________________________________________________________________\n",
      "main_output (Dense)              (None, 1)             801         dropout_54[0][0]                 \n",
      "====================================================================================================\n",
      "Total params: 1,604,801\n",
      "Trainable params: 1,604,801\n",
      "Non-trainable params: 0\n",
      "____________________________________________________________________________________________________\n",
      "None\n",
      "Train on 8000 samples, validate on 2000 samples\n",
      "Epoch 1/1\n",
      "8000/8000 [==============================] - 23s - loss: 0.2609 - val_loss: 0.2613\n"
     ]
    },
    {
     "name": "stderr",
     "output_type": "stream",
     "text": [
      "keras_title.py:130: UserWarning: Update your `Model` call to the Keras 2 API: `Model(outputs=[Elemwise{..., inputs=[/main_inp...)`\n",
      "  model_1 = Model(input=[input_1, input_2], output=[lstm_out_1, lstm_out_2])\n",
      "keras_title.py:182: UserWarning: Update your `Model` call to the Keras 2 API: `Model(outputs=Elemwise{a..., inputs=[/lstm1, /...)`\n",
      "  model_2 = Model(input=[input_1, input_2], output=main_output)\n"
     ]
    },
    {
     "name": "stdout",
     "output_type": "stream",
     "text": [
      "TOP1 1\n",
      "TOP5 5\n",
      "TOP10 6\n",
      "Train on 8000 samples, validate on 2000 samples\n",
      "Epoch 2/2\n",
      "8000/8000 [==============================] - 23s - loss: 0.2490 - val_loss: 0.3006\n",
      "TOP1 1\n",
      "TOP5 4\n",
      "TOP10 10\n",
      "Train on 8000 samples, validate on 2000 samples\n",
      "Epoch 3/3\n",
      "8000/8000 [==============================] - 23s - loss: 0.2450 - val_loss: 0.3830\n"
     ]
    },
    {
     "ename": "KeyboardInterrupt",
     "evalue": "",
     "output_type": "error",
     "traceback": [
      "\u001b[0;31m\u001b[0m",
      "\u001b[0;31mKeyboardInterrupt\u001b[0mTraceback (most recent call last)",
      "\u001b[0;32m/home/M2015eliu/cas/2017.1.1~LiuSTM/keras_title.py\u001b[0m in \u001b[0;36m<module>\u001b[0;34m()\u001b[0m\n\u001b[1;32m    515\u001b[0m         sim_results_test, rank_results_test = find_ranking_quick(X1_test_1,\n\u001b[1;32m    516\u001b[0m                                                                  \u001b[0mX2_test_1\u001b[0m\u001b[0;34m,\u001b[0m\u001b[0;34m\u001b[0m\u001b[0m\n\u001b[0;32m--> 517\u001b[0;31m                                                                  model_lstm2)\n\u001b[0m\u001b[1;32m    518\u001b[0m         \u001b[0;31m# Save the mdoel\u001b[0m\u001b[0;34m\u001b[0m\u001b[0;34m\u001b[0m\u001b[0m\n\u001b[1;32m    519\u001b[0m         \u001b[0msaved_model\u001b[0m\u001b[0;34m.\u001b[0m\u001b[0mappend\u001b[0m\u001b[0;34m(\u001b[0m\u001b[0mmodel_lstm2\u001b[0m\u001b[0;34m.\u001b[0m\u001b[0mget_weights\u001b[0m\u001b[0;34m(\u001b[0m\u001b[0;34m)\u001b[0m\u001b[0;34m)\u001b[0m\u001b[0;34m\u001b[0m\u001b[0m\n",
      "\u001b[0;32m/home/M2015eliu/cas/2017.1.1~LiuSTM/keras_title.py\u001b[0m in \u001b[0;36mfind_ranking_quick\u001b[0;34m(projection1, projection2, dlmodel)\u001b[0m\n\u001b[1;32m    145\u001b[0m \u001b[0;34m\u001b[0m\u001b[0m\n\u001b[1;32m    146\u001b[0m     \u001b[0;31m# Find the real projection\u001b[0m\u001b[0;34m\u001b[0m\u001b[0;34m\u001b[0m\u001b[0m\n\u001b[0;32m--> 147\u001b[0;31m     \u001b[0mv1\u001b[0m\u001b[0;34m,\u001b[0m \u001b[0mv2\u001b[0m \u001b[0;34m=\u001b[0m \u001b[0mmodel_1\u001b[0m\u001b[0;34m.\u001b[0m\u001b[0mpredict\u001b[0m\u001b[0;34m(\u001b[0m\u001b[0;34m[\u001b[0m\u001b[0mprojection1\u001b[0m\u001b[0;34m,\u001b[0m \u001b[0mprojection2\u001b[0m\u001b[0;34m]\u001b[0m\u001b[0;34m)\u001b[0m\u001b[0;34m\u001b[0m\u001b[0m\n\u001b[0m\u001b[1;32m    148\u001b[0m \u001b[0;34m\u001b[0m\u001b[0m\n\u001b[1;32m    149\u001b[0m     \u001b[0;31m# ---- Prepare the model_2 ----\u001b[0m\u001b[0;34m\u001b[0m\u001b[0;34m\u001b[0m\u001b[0m\n",
      "\u001b[0;32m/home/M2015eliu/.pyenv/versions/anaconda2-4.1.1/lib/python2.7/site-packages/keras/engine/training.pyc\u001b[0m in \u001b[0;36mpredict\u001b[0;34m(self, x, batch_size, verbose)\u001b[0m\n\u001b[1;32m   1589\u001b[0m         \u001b[0;32melse\u001b[0m\u001b[0;34m:\u001b[0m\u001b[0;34m\u001b[0m\u001b[0m\n\u001b[1;32m   1590\u001b[0m             \u001b[0mins\u001b[0m \u001b[0;34m=\u001b[0m \u001b[0mx\u001b[0m\u001b[0;34m\u001b[0m\u001b[0m\n\u001b[0;32m-> 1591\u001b[0;31m         \u001b[0mself\u001b[0m\u001b[0;34m.\u001b[0m\u001b[0m_make_predict_function\u001b[0m\u001b[0;34m(\u001b[0m\u001b[0;34m)\u001b[0m\u001b[0;34m\u001b[0m\u001b[0m\n\u001b[0m\u001b[1;32m   1592\u001b[0m         \u001b[0mf\u001b[0m \u001b[0;34m=\u001b[0m \u001b[0mself\u001b[0m\u001b[0;34m.\u001b[0m\u001b[0mpredict_function\u001b[0m\u001b[0;34m\u001b[0m\u001b[0m\n\u001b[1;32m   1593\u001b[0m         return self._predict_loop(f, ins,\n",
      "\u001b[0;32m/home/M2015eliu/.pyenv/versions/anaconda2-4.1.1/lib/python2.7/site-packages/keras/engine/training.pyc\u001b[0m in \u001b[0;36m_make_predict_function\u001b[0;34m(self)\u001b[0m\n\u001b[1;32m   1051\u001b[0m                                                \u001b[0mupdates\u001b[0m\u001b[0;34m=\u001b[0m\u001b[0mself\u001b[0m\u001b[0;34m.\u001b[0m\u001b[0mstate_updates\u001b[0m\u001b[0;34m,\u001b[0m\u001b[0;34m\u001b[0m\u001b[0m\n\u001b[1;32m   1052\u001b[0m                                                \u001b[0mname\u001b[0m\u001b[0;34m=\u001b[0m\u001b[0;34m'predict_function'\u001b[0m\u001b[0;34m,\u001b[0m\u001b[0;34m\u001b[0m\u001b[0m\n\u001b[0;32m-> 1053\u001b[0;31m                                                **kwargs)\n\u001b[0m\u001b[1;32m   1054\u001b[0m \u001b[0;34m\u001b[0m\u001b[0m\n\u001b[1;32m   1055\u001b[0m     def _fit_loop(self, f, ins, out_labels=None, batch_size=32,\n",
      "\u001b[0;32m/home/M2015eliu/.pyenv/versions/anaconda2-4.1.1/lib/python2.7/site-packages/keras/backend/theano_backend.pyc\u001b[0m in \u001b[0;36mfunction\u001b[0;34m(inputs, outputs, updates, **kwargs)\u001b[0m\n\u001b[1;32m   1204\u001b[0m                 \u001b[0mmsg\u001b[0m \u001b[0;34m=\u001b[0m \u001b[0;34m'Invalid argument \"%s\" passed to K.function with Theano backend'\u001b[0m \u001b[0;34m%\u001b[0m \u001b[0mkey\u001b[0m\u001b[0;34m\u001b[0m\u001b[0m\n\u001b[1;32m   1205\u001b[0m                 \u001b[0;32mraise\u001b[0m \u001b[0mValueError\u001b[0m\u001b[0;34m(\u001b[0m\u001b[0mmsg\u001b[0m\u001b[0;34m)\u001b[0m\u001b[0;34m\u001b[0m\u001b[0m\n\u001b[0;32m-> 1206\u001b[0;31m     \u001b[0;32mreturn\u001b[0m \u001b[0mFunction\u001b[0m\u001b[0;34m(\u001b[0m\u001b[0minputs\u001b[0m\u001b[0;34m,\u001b[0m \u001b[0moutputs\u001b[0m\u001b[0;34m,\u001b[0m \u001b[0mupdates\u001b[0m\u001b[0;34m=\u001b[0m\u001b[0mupdates\u001b[0m\u001b[0;34m,\u001b[0m \u001b[0;34m**\u001b[0m\u001b[0mkwargs\u001b[0m\u001b[0;34m)\u001b[0m\u001b[0;34m\u001b[0m\u001b[0m\n\u001b[0m\u001b[1;32m   1207\u001b[0m \u001b[0;34m\u001b[0m\u001b[0m\n\u001b[1;32m   1208\u001b[0m \u001b[0;34m\u001b[0m\u001b[0m\n",
      "\u001b[0;32m/home/M2015eliu/.pyenv/versions/anaconda2-4.1.1/lib/python2.7/site-packages/keras/backend/theano_backend.pyc\u001b[0m in \u001b[0;36m__init__\u001b[0;34m(self, inputs, outputs, updates, name, **kwargs)\u001b[0m\n\u001b[1;32m   1189\u001b[0m                                         \u001b[0mon_unused_input\u001b[0m\u001b[0;34m=\u001b[0m\u001b[0;34m'ignore'\u001b[0m\u001b[0;34m,\u001b[0m\u001b[0;34m\u001b[0m\u001b[0m\n\u001b[1;32m   1190\u001b[0m                                         \u001b[0mname\u001b[0m\u001b[0;34m=\u001b[0m\u001b[0mname\u001b[0m\u001b[0;34m,\u001b[0m\u001b[0;34m\u001b[0m\u001b[0m\n\u001b[0;32m-> 1191\u001b[0;31m                                         **kwargs)\n\u001b[0m\u001b[1;32m   1192\u001b[0m         \u001b[0mself\u001b[0m\u001b[0;34m.\u001b[0m\u001b[0mname\u001b[0m \u001b[0;34m=\u001b[0m \u001b[0mname\u001b[0m\u001b[0;34m\u001b[0m\u001b[0m\n\u001b[1;32m   1193\u001b[0m \u001b[0;34m\u001b[0m\u001b[0m\n",
      "\u001b[0;32m/home/M2015eliu/.pyenv/versions/anaconda2-4.1.1/lib/python2.7/site-packages/theano/compile/function.pyc\u001b[0m in \u001b[0;36mfunction\u001b[0;34m(inputs, outputs, mode, updates, givens, no_default_updates, accept_inplace, name, rebuild_strict, allow_input_downcast, profile, on_unused_input)\u001b[0m\n\u001b[1;32m    324\u001b[0m                    \u001b[0mon_unused_input\u001b[0m\u001b[0;34m=\u001b[0m\u001b[0mon_unused_input\u001b[0m\u001b[0;34m,\u001b[0m\u001b[0;34m\u001b[0m\u001b[0m\n\u001b[1;32m    325\u001b[0m                    \u001b[0mprofile\u001b[0m\u001b[0;34m=\u001b[0m\u001b[0mprofile\u001b[0m\u001b[0;34m,\u001b[0m\u001b[0;34m\u001b[0m\u001b[0m\n\u001b[0;32m--> 326\u001b[0;31m                    output_keys=output_keys)\n\u001b[0m\u001b[1;32m    327\u001b[0m     \u001b[0;31m# We need to add the flag check_aliased inputs if we have any mutable or\u001b[0m\u001b[0;34m\u001b[0m\u001b[0;34m\u001b[0m\u001b[0m\n\u001b[1;32m    328\u001b[0m     \u001b[0;31m# borrowed used defined inputs\u001b[0m\u001b[0;34m\u001b[0m\u001b[0;34m\u001b[0m\u001b[0m\n",
      "\u001b[0;32m/home/M2015eliu/.pyenv/versions/anaconda2-4.1.1/lib/python2.7/site-packages/theano/compile/pfunc.pyc\u001b[0m in \u001b[0;36mpfunc\u001b[0;34m(params, outputs, mode, updates, givens, no_default_updates, accept_inplace, name, rebuild_strict, allow_input_downcast, profile, on_unused_input, output_keys)\u001b[0m\n\u001b[1;32m    484\u001b[0m                          \u001b[0maccept_inplace\u001b[0m\u001b[0;34m=\u001b[0m\u001b[0maccept_inplace\u001b[0m\u001b[0;34m,\u001b[0m \u001b[0mname\u001b[0m\u001b[0;34m=\u001b[0m\u001b[0mname\u001b[0m\u001b[0;34m,\u001b[0m\u001b[0;34m\u001b[0m\u001b[0m\n\u001b[1;32m    485\u001b[0m                          \u001b[0mprofile\u001b[0m\u001b[0;34m=\u001b[0m\u001b[0mprofile\u001b[0m\u001b[0;34m,\u001b[0m \u001b[0mon_unused_input\u001b[0m\u001b[0;34m=\u001b[0m\u001b[0mon_unused_input\u001b[0m\u001b[0;34m,\u001b[0m\u001b[0;34m\u001b[0m\u001b[0m\n\u001b[0;32m--> 486\u001b[0;31m                          output_keys=output_keys)\n\u001b[0m\u001b[1;32m    487\u001b[0m \u001b[0;34m\u001b[0m\u001b[0m\n\u001b[1;32m    488\u001b[0m \u001b[0;34m\u001b[0m\u001b[0m\n",
      "\u001b[0;32m/home/M2015eliu/.pyenv/versions/anaconda2-4.1.1/lib/python2.7/site-packages/theano/compile/function_module.pyc\u001b[0m in \u001b[0;36morig_function\u001b[0;34m(inputs, outputs, mode, accept_inplace, name, profile, on_unused_input, output_keys)\u001b[0m\n\u001b[1;32m   1792\u001b[0m                    \u001b[0mprofile\u001b[0m\u001b[0;34m=\u001b[0m\u001b[0mprofile\u001b[0m\u001b[0;34m,\u001b[0m\u001b[0;34m\u001b[0m\u001b[0m\n\u001b[1;32m   1793\u001b[0m                    \u001b[0mon_unused_input\u001b[0m\u001b[0;34m=\u001b[0m\u001b[0mon_unused_input\u001b[0m\u001b[0;34m,\u001b[0m\u001b[0;34m\u001b[0m\u001b[0m\n\u001b[0;32m-> 1794\u001b[0;31m                    \u001b[0moutput_keys\u001b[0m\u001b[0;34m=\u001b[0m\u001b[0moutput_keys\u001b[0m\u001b[0;34m)\u001b[0m\u001b[0;34m.\u001b[0m\u001b[0mcreate\u001b[0m\u001b[0;34m(\u001b[0m\u001b[0;34m\u001b[0m\u001b[0m\n\u001b[0m\u001b[1;32m   1795\u001b[0m             defaults)\n\u001b[1;32m   1796\u001b[0m \u001b[0;34m\u001b[0m\u001b[0m\n",
      "\u001b[0;32m/home/M2015eliu/.pyenv/versions/anaconda2-4.1.1/lib/python2.7/site-packages/theano/compile/function_module.pyc\u001b[0m in \u001b[0;36m__init__\u001b[0;34m(self, inputs, outputs, mode, accept_inplace, function_builder, profile, on_unused_input, fgraph, output_keys)\u001b[0m\n\u001b[1;32m   1472\u001b[0m                         optimizer, inputs, outputs)\n\u001b[1;32m   1473\u001b[0m                 \u001b[0;32melse\u001b[0m\u001b[0;34m:\u001b[0m\u001b[0;34m\u001b[0m\u001b[0m\n\u001b[0;32m-> 1474\u001b[0;31m                     \u001b[0moptimizer_profile\u001b[0m \u001b[0;34m=\u001b[0m \u001b[0moptimizer\u001b[0m\u001b[0;34m(\u001b[0m\u001b[0mfgraph\u001b[0m\u001b[0;34m)\u001b[0m\u001b[0;34m\u001b[0m\u001b[0m\n\u001b[0m\u001b[1;32m   1475\u001b[0m \u001b[0;34m\u001b[0m\u001b[0m\n\u001b[1;32m   1476\u001b[0m                 \u001b[0mend_optimizer\u001b[0m \u001b[0;34m=\u001b[0m \u001b[0mtime\u001b[0m\u001b[0;34m.\u001b[0m\u001b[0mtime\u001b[0m\u001b[0;34m(\u001b[0m\u001b[0;34m)\u001b[0m\u001b[0;34m\u001b[0m\u001b[0m\n",
      "\u001b[0;32m/home/M2015eliu/.pyenv/versions/anaconda2-4.1.1/lib/python2.7/site-packages/theano/gof/opt.pyc\u001b[0m in \u001b[0;36m__call__\u001b[0;34m(self, fgraph)\u001b[0m\n\u001b[1;32m     96\u001b[0m \u001b[0;34m\u001b[0m\u001b[0m\n\u001b[1;32m     97\u001b[0m         \"\"\"\n\u001b[0;32m---> 98\u001b[0;31m         \u001b[0;32mreturn\u001b[0m \u001b[0mself\u001b[0m\u001b[0;34m.\u001b[0m\u001b[0moptimize\u001b[0m\u001b[0;34m(\u001b[0m\u001b[0mfgraph\u001b[0m\u001b[0;34m)\u001b[0m\u001b[0;34m\u001b[0m\u001b[0m\n\u001b[0m\u001b[1;32m     99\u001b[0m \u001b[0;34m\u001b[0m\u001b[0m\n\u001b[1;32m    100\u001b[0m     \u001b[0;32mdef\u001b[0m \u001b[0madd_requirements\u001b[0m\u001b[0;34m(\u001b[0m\u001b[0mself\u001b[0m\u001b[0;34m,\u001b[0m \u001b[0mfgraph\u001b[0m\u001b[0;34m)\u001b[0m\u001b[0;34m:\u001b[0m\u001b[0;34m\u001b[0m\u001b[0m\n",
      "\u001b[0;32m/home/M2015eliu/.pyenv/versions/anaconda2-4.1.1/lib/python2.7/site-packages/theano/gof/opt.pyc\u001b[0m in \u001b[0;36moptimize\u001b[0;34m(self, fgraph, *args, **kwargs)\u001b[0m\n\u001b[1;32m     85\u001b[0m             \u001b[0morig\u001b[0m \u001b[0;34m=\u001b[0m \u001b[0mtheano\u001b[0m\u001b[0;34m.\u001b[0m\u001b[0mtensor\u001b[0m\u001b[0;34m.\u001b[0m\u001b[0mbasic\u001b[0m\u001b[0;34m.\u001b[0m\u001b[0mconstant\u001b[0m\u001b[0;34m.\u001b[0m\u001b[0menable\u001b[0m\u001b[0;34m\u001b[0m\u001b[0m\n\u001b[1;32m     86\u001b[0m             \u001b[0mtheano\u001b[0m\u001b[0;34m.\u001b[0m\u001b[0mtensor\u001b[0m\u001b[0;34m.\u001b[0m\u001b[0mbasic\u001b[0m\u001b[0;34m.\u001b[0m\u001b[0mconstant\u001b[0m\u001b[0;34m.\u001b[0m\u001b[0menable\u001b[0m \u001b[0;34m=\u001b[0m \u001b[0mFalse\u001b[0m\u001b[0;34m\u001b[0m\u001b[0m\n\u001b[0;32m---> 87\u001b[0;31m             \u001b[0mret\u001b[0m \u001b[0;34m=\u001b[0m \u001b[0mself\u001b[0m\u001b[0;34m.\u001b[0m\u001b[0mapply\u001b[0m\u001b[0;34m(\u001b[0m\u001b[0mfgraph\u001b[0m\u001b[0;34m,\u001b[0m \u001b[0;34m*\u001b[0m\u001b[0margs\u001b[0m\u001b[0;34m,\u001b[0m \u001b[0;34m**\u001b[0m\u001b[0mkwargs\u001b[0m\u001b[0;34m)\u001b[0m\u001b[0;34m\u001b[0m\u001b[0m\n\u001b[0m\u001b[1;32m     88\u001b[0m         \u001b[0;32mfinally\u001b[0m\u001b[0;34m:\u001b[0m\u001b[0;34m\u001b[0m\u001b[0m\n\u001b[1;32m     89\u001b[0m             \u001b[0mtheano\u001b[0m\u001b[0;34m.\u001b[0m\u001b[0mtensor\u001b[0m\u001b[0;34m.\u001b[0m\u001b[0mbasic\u001b[0m\u001b[0;34m.\u001b[0m\u001b[0mconstant\u001b[0m\u001b[0;34m.\u001b[0m\u001b[0menable\u001b[0m \u001b[0;34m=\u001b[0m \u001b[0morig\u001b[0m\u001b[0;34m\u001b[0m\u001b[0m\n",
      "\u001b[0;32m/home/M2015eliu/.pyenv/versions/anaconda2-4.1.1/lib/python2.7/site-packages/theano/gof/opt.pyc\u001b[0m in \u001b[0;36mapply\u001b[0;34m(self, fgraph)\u001b[0m\n\u001b[1;32m    233\u001b[0m                 \u001b[0mnb_nodes_before\u001b[0m \u001b[0;34m=\u001b[0m \u001b[0mlen\u001b[0m\u001b[0;34m(\u001b[0m\u001b[0mfgraph\u001b[0m\u001b[0;34m.\u001b[0m\u001b[0mapply_nodes\u001b[0m\u001b[0;34m)\u001b[0m\u001b[0;34m\u001b[0m\u001b[0m\n\u001b[1;32m    234\u001b[0m                 \u001b[0mt0\u001b[0m \u001b[0;34m=\u001b[0m \u001b[0mtime\u001b[0m\u001b[0;34m.\u001b[0m\u001b[0mtime\u001b[0m\u001b[0;34m(\u001b[0m\u001b[0;34m)\u001b[0m\u001b[0;34m\u001b[0m\u001b[0m\n\u001b[0;32m--> 235\u001b[0;31m                 \u001b[0msub_prof\u001b[0m \u001b[0;34m=\u001b[0m \u001b[0moptimizer\u001b[0m\u001b[0;34m.\u001b[0m\u001b[0moptimize\u001b[0m\u001b[0;34m(\u001b[0m\u001b[0mfgraph\u001b[0m\u001b[0;34m)\u001b[0m\u001b[0;34m\u001b[0m\u001b[0m\n\u001b[0m\u001b[1;32m    236\u001b[0m                 \u001b[0ml\u001b[0m\u001b[0;34m.\u001b[0m\u001b[0mappend\u001b[0m\u001b[0;34m(\u001b[0m\u001b[0mfloat\u001b[0m\u001b[0;34m(\u001b[0m\u001b[0mtime\u001b[0m\u001b[0;34m.\u001b[0m\u001b[0mtime\u001b[0m\u001b[0;34m(\u001b[0m\u001b[0;34m)\u001b[0m \u001b[0;34m-\u001b[0m \u001b[0mt0\u001b[0m\u001b[0;34m)\u001b[0m\u001b[0;34m)\u001b[0m\u001b[0;34m\u001b[0m\u001b[0m\n\u001b[1;32m    237\u001b[0m                 \u001b[0msub_profs\u001b[0m\u001b[0;34m.\u001b[0m\u001b[0mappend\u001b[0m\u001b[0;34m(\u001b[0m\u001b[0msub_prof\u001b[0m\u001b[0;34m)\u001b[0m\u001b[0;34m\u001b[0m\u001b[0m\n",
      "\u001b[0;32m/home/M2015eliu/.pyenv/versions/anaconda2-4.1.1/lib/python2.7/site-packages/theano/gof/opt.pyc\u001b[0m in \u001b[0;36moptimize\u001b[0;34m(self, fgraph, *args, **kwargs)\u001b[0m\n\u001b[1;32m     85\u001b[0m             \u001b[0morig\u001b[0m \u001b[0;34m=\u001b[0m \u001b[0mtheano\u001b[0m\u001b[0;34m.\u001b[0m\u001b[0mtensor\u001b[0m\u001b[0;34m.\u001b[0m\u001b[0mbasic\u001b[0m\u001b[0;34m.\u001b[0m\u001b[0mconstant\u001b[0m\u001b[0;34m.\u001b[0m\u001b[0menable\u001b[0m\u001b[0;34m\u001b[0m\u001b[0m\n\u001b[1;32m     86\u001b[0m             \u001b[0mtheano\u001b[0m\u001b[0;34m.\u001b[0m\u001b[0mtensor\u001b[0m\u001b[0;34m.\u001b[0m\u001b[0mbasic\u001b[0m\u001b[0;34m.\u001b[0m\u001b[0mconstant\u001b[0m\u001b[0;34m.\u001b[0m\u001b[0menable\u001b[0m \u001b[0;34m=\u001b[0m \u001b[0mFalse\u001b[0m\u001b[0;34m\u001b[0m\u001b[0m\n\u001b[0;32m---> 87\u001b[0;31m             \u001b[0mret\u001b[0m \u001b[0;34m=\u001b[0m \u001b[0mself\u001b[0m\u001b[0;34m.\u001b[0m\u001b[0mapply\u001b[0m\u001b[0;34m(\u001b[0m\u001b[0mfgraph\u001b[0m\u001b[0;34m,\u001b[0m \u001b[0;34m*\u001b[0m\u001b[0margs\u001b[0m\u001b[0;34m,\u001b[0m \u001b[0;34m**\u001b[0m\u001b[0mkwargs\u001b[0m\u001b[0;34m)\u001b[0m\u001b[0;34m\u001b[0m\u001b[0m\n\u001b[0m\u001b[1;32m     88\u001b[0m         \u001b[0;32mfinally\u001b[0m\u001b[0;34m:\u001b[0m\u001b[0;34m\u001b[0m\u001b[0m\n\u001b[1;32m     89\u001b[0m             \u001b[0mtheano\u001b[0m\u001b[0;34m.\u001b[0m\u001b[0mtensor\u001b[0m\u001b[0;34m.\u001b[0m\u001b[0mbasic\u001b[0m\u001b[0;34m.\u001b[0m\u001b[0mconstant\u001b[0m\u001b[0;34m.\u001b[0m\u001b[0menable\u001b[0m \u001b[0;34m=\u001b[0m \u001b[0morig\u001b[0m\u001b[0;34m\u001b[0m\u001b[0m\n",
      "\u001b[0;32m/home/M2015eliu/.pyenv/versions/anaconda2-4.1.1/lib/python2.7/site-packages/theano/gof/opt.pyc\u001b[0m in \u001b[0;36mapply\u001b[0;34m(self, fgraph, start_from)\u001b[0m\n\u001b[1;32m   2495\u001b[0m                 \u001b[0mnb\u001b[0m \u001b[0;34m=\u001b[0m \u001b[0mchange_tracker\u001b[0m\u001b[0;34m.\u001b[0m\u001b[0mnb_imported\u001b[0m\u001b[0;34m\u001b[0m\u001b[0m\n\u001b[1;32m   2496\u001b[0m                 \u001b[0mt_opt\u001b[0m \u001b[0;34m=\u001b[0m \u001b[0mtime\u001b[0m\u001b[0;34m.\u001b[0m\u001b[0mtime\u001b[0m\u001b[0;34m(\u001b[0m\u001b[0;34m)\u001b[0m\u001b[0;34m\u001b[0m\u001b[0m\n\u001b[0;32m-> 2497\u001b[0;31m                 \u001b[0msub_prof\u001b[0m \u001b[0;34m=\u001b[0m \u001b[0mgopt\u001b[0m\u001b[0;34m.\u001b[0m\u001b[0mapply\u001b[0m\u001b[0;34m(\u001b[0m\u001b[0mfgraph\u001b[0m\u001b[0;34m)\u001b[0m\u001b[0;34m\u001b[0m\u001b[0m\n\u001b[0m\u001b[1;32m   2498\u001b[0m                 \u001b[0mtime_opts\u001b[0m\u001b[0;34m[\u001b[0m\u001b[0mgopt\u001b[0m\u001b[0;34m]\u001b[0m \u001b[0;34m+=\u001b[0m \u001b[0mtime\u001b[0m\u001b[0;34m.\u001b[0m\u001b[0mtime\u001b[0m\u001b[0;34m(\u001b[0m\u001b[0;34m)\u001b[0m \u001b[0;34m-\u001b[0m \u001b[0mt_opt\u001b[0m\u001b[0;34m\u001b[0m\u001b[0m\n\u001b[1;32m   2499\u001b[0m                 \u001b[0msub_profs\u001b[0m\u001b[0;34m.\u001b[0m\u001b[0mappend\u001b[0m\u001b[0;34m(\u001b[0m\u001b[0msub_prof\u001b[0m\u001b[0;34m)\u001b[0m\u001b[0;34m\u001b[0m\u001b[0m\n",
      "\u001b[0;32m/home/M2015eliu/.pyenv/versions/anaconda2-4.1.1/lib/python2.7/site-packages/theano/gof/opt.pyc\u001b[0m in \u001b[0;36mapply\u001b[0;34m(self, fgraph, start_from)\u001b[0m\n\u001b[1;32m   2069\u001b[0m         \u001b[0mnb_nodes_start\u001b[0m \u001b[0;34m=\u001b[0m \u001b[0mlen\u001b[0m\u001b[0;34m(\u001b[0m\u001b[0mfgraph\u001b[0m\u001b[0;34m.\u001b[0m\u001b[0mapply_nodes\u001b[0m\u001b[0;34m)\u001b[0m\u001b[0;34m\u001b[0m\u001b[0m\n\u001b[1;32m   2070\u001b[0m         \u001b[0mt0\u001b[0m \u001b[0;34m=\u001b[0m \u001b[0mtime\u001b[0m\u001b[0;34m.\u001b[0m\u001b[0mtime\u001b[0m\u001b[0;34m(\u001b[0m\u001b[0;34m)\u001b[0m\u001b[0;34m\u001b[0m\u001b[0m\n\u001b[0;32m-> 2071\u001b[0;31m         \u001b[0mq\u001b[0m \u001b[0;34m=\u001b[0m \u001b[0mdeque\u001b[0m\u001b[0;34m(\u001b[0m\u001b[0mgraph\u001b[0m\u001b[0;34m.\u001b[0m\u001b[0mio_toposort\u001b[0m\u001b[0;34m(\u001b[0m\u001b[0mfgraph\u001b[0m\u001b[0;34m.\u001b[0m\u001b[0minputs\u001b[0m\u001b[0;34m,\u001b[0m \u001b[0mstart_from\u001b[0m\u001b[0;34m)\u001b[0m\u001b[0;34m)\u001b[0m\u001b[0;34m\u001b[0m\u001b[0m\n\u001b[0m\u001b[1;32m   2072\u001b[0m         \u001b[0mio_t\u001b[0m \u001b[0;34m=\u001b[0m \u001b[0mtime\u001b[0m\u001b[0;34m.\u001b[0m\u001b[0mtime\u001b[0m\u001b[0;34m(\u001b[0m\u001b[0;34m)\u001b[0m \u001b[0;34m-\u001b[0m \u001b[0mt0\u001b[0m\u001b[0;34m\u001b[0m\u001b[0m\n\u001b[1;32m   2073\u001b[0m \u001b[0;34m\u001b[0m\u001b[0m\n",
      "\u001b[0;32m/home/M2015eliu/.pyenv/versions/anaconda2-4.1.1/lib/python2.7/site-packages/theano/gof/graph.pyc\u001b[0m in \u001b[0;36mio_toposort\u001b[0;34m(inputs, outputs, orderings, clients)\u001b[0m\n\u001b[1;32m   1029\u001b[0m     topo = general_toposort(outputs, deps=compute_deps,\n\u001b[1;32m   1030\u001b[0m                             \u001b[0mcompute_deps_cache\u001b[0m\u001b[0;34m=\u001b[0m\u001b[0mcompute_deps_cache\u001b[0m\u001b[0;34m,\u001b[0m\u001b[0;34m\u001b[0m\u001b[0m\n\u001b[0;32m-> 1031\u001b[0;31m                             deps_cache=deps_cache, clients=clients)\n\u001b[0m\u001b[1;32m   1032\u001b[0m     \u001b[0;32mreturn\u001b[0m \u001b[0;34m[\u001b[0m\u001b[0mo\u001b[0m \u001b[0;32mfor\u001b[0m \u001b[0mo\u001b[0m \u001b[0;32min\u001b[0m \u001b[0mtopo\u001b[0m \u001b[0;32mif\u001b[0m \u001b[0misinstance\u001b[0m\u001b[0;34m(\u001b[0m\u001b[0mo\u001b[0m\u001b[0;34m,\u001b[0m \u001b[0mApply\u001b[0m\u001b[0;34m)\u001b[0m\u001b[0;34m]\u001b[0m\u001b[0;34m\u001b[0m\u001b[0m\n\u001b[1;32m   1033\u001b[0m \u001b[0;34m\u001b[0m\u001b[0m\n",
      "\u001b[0;32m/home/M2015eliu/.pyenv/versions/anaconda2-4.1.1/lib/python2.7/site-packages/theano/gof/graph.pyc\u001b[0m in \u001b[0;36mgeneral_toposort\u001b[0;34m(r_out, deps, debug_print, compute_deps_cache, deps_cache, clients)\u001b[0m\n\u001b[1;32m    936\u001b[0m \u001b[0;34m\u001b[0m\u001b[0m\n\u001b[1;32m    937\u001b[0m     reachable, _clients = stack_search(deque(r_out), compute_deps_cache,\n\u001b[0;32m--> 938\u001b[0;31m                                        'dfs', True)\n\u001b[0m\u001b[1;32m    939\u001b[0m     \u001b[0;32mif\u001b[0m \u001b[0mclients\u001b[0m \u001b[0;32mis\u001b[0m \u001b[0;32mnot\u001b[0m \u001b[0mNone\u001b[0m\u001b[0;34m:\u001b[0m\u001b[0;34m\u001b[0m\u001b[0m\n\u001b[1;32m    940\u001b[0m         \u001b[0mclients\u001b[0m\u001b[0;34m.\u001b[0m\u001b[0mupdate\u001b[0m\u001b[0;34m(\u001b[0m\u001b[0m_clients\u001b[0m\u001b[0;34m)\u001b[0m\u001b[0;34m\u001b[0m\u001b[0m\n",
      "\u001b[0;32m/home/M2015eliu/.pyenv/versions/anaconda2-4.1.1/lib/python2.7/site-packages/theano/gof/graph.pyc\u001b[0m in \u001b[0;36mstack_search\u001b[0;34m(start, expand, mode, build_inv)\u001b[0m\n\u001b[1;32m    639\u001b[0m             \u001b[0mrval_list\u001b[0m\u001b[0;34m.\u001b[0m\u001b[0mappend\u001b[0m\u001b[0;34m(\u001b[0m\u001b[0ml\u001b[0m\u001b[0;34m)\u001b[0m\u001b[0;34m\u001b[0m\u001b[0m\n\u001b[1;32m    640\u001b[0m             \u001b[0mrval_set\u001b[0m\u001b[0;34m.\u001b[0m\u001b[0madd\u001b[0m\u001b[0;34m(\u001b[0m\u001b[0mid\u001b[0m\u001b[0;34m(\u001b[0m\u001b[0ml\u001b[0m\u001b[0;34m)\u001b[0m\u001b[0;34m)\u001b[0m\u001b[0;34m\u001b[0m\u001b[0m\n\u001b[0;32m--> 641\u001b[0;31m             \u001b[0mexpand_l\u001b[0m \u001b[0;34m=\u001b[0m \u001b[0mexpand\u001b[0m\u001b[0;34m(\u001b[0m\u001b[0ml\u001b[0m\u001b[0;34m)\u001b[0m\u001b[0;34m\u001b[0m\u001b[0m\n\u001b[0m\u001b[1;32m    642\u001b[0m             \u001b[0;32mif\u001b[0m \u001b[0mexpand_l\u001b[0m\u001b[0;34m:\u001b[0m\u001b[0;34m\u001b[0m\u001b[0m\n\u001b[1;32m    643\u001b[0m                 \u001b[0;32mif\u001b[0m \u001b[0mbuild_inv\u001b[0m\u001b[0;34m:\u001b[0m\u001b[0;34m\u001b[0m\u001b[0m\n",
      "\u001b[0;32m/home/M2015eliu/.pyenv/versions/anaconda2-4.1.1/lib/python2.7/site-packages/theano/gof/graph.pyc\u001b[0m in \u001b[0;36mcompute_deps_cache\u001b[0;34m(obj)\u001b[0m\n\u001b[1;32m   1007\u001b[0m                             \u001b[0;34m\"Non-deterministic collections here make\"\u001b[0m\u001b[0;34m\u001b[0m\u001b[0m\n\u001b[1;32m   1008\u001b[0m                             \" toposort non-deterministic.\")\n\u001b[0;32m-> 1009\u001b[0;31m                     \u001b[0mdeps_cache\u001b[0m\u001b[0;34m[\u001b[0m\u001b[0mobj\u001b[0m\u001b[0;34m]\u001b[0m \u001b[0;34m=\u001b[0m \u001b[0mlist\u001b[0m\u001b[0;34m(\u001b[0m\u001b[0mrval\u001b[0m\u001b[0;34m)\u001b[0m\u001b[0;34m\u001b[0m\u001b[0m\n\u001b[0m\u001b[1;32m   1010\u001b[0m                 \u001b[0;32melse\u001b[0m\u001b[0;34m:\u001b[0m\u001b[0;34m\u001b[0m\u001b[0m\n\u001b[1;32m   1011\u001b[0m                     \u001b[0mdeps_cache\u001b[0m\u001b[0;34m[\u001b[0m\u001b[0mobj\u001b[0m\u001b[0;34m]\u001b[0m \u001b[0;34m=\u001b[0m \u001b[0mrval\u001b[0m\u001b[0;34m\u001b[0m\u001b[0m\n",
      "\u001b[0;31mKeyboardInterrupt\u001b[0m: "
     ]
    }
   ],
   "source": [
    "run keras_title.py"
   ]
  },
  {
   "cell_type": "code",
   "execution_count": null,
   "metadata": {
    "collapsed": true
   },
   "outputs": [],
   "source": []
  }
 ],
 "metadata": {
  "kernelspec": {
   "display_name": "Python 2",
   "language": "python",
   "name": "python2"
  },
  "language_info": {
   "codemirror_mode": {
    "name": "ipython",
    "version": 2
   },
   "file_extension": ".py",
   "mimetype": "text/x-python",
   "name": "python",
   "nbconvert_exporter": "python",
   "pygments_lexer": "ipython2",
   "version": "2.7.12"
  }
 },
 "nbformat": 4,
 "nbformat_minor": 0
}
